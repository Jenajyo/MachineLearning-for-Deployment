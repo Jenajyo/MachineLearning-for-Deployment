{
 "cells": [
  {
   "cell_type": "markdown",
   "metadata": {},
   "source": [
    "Q1. Write a Python program to get the string from the given string where\n",
    "all the occurrence of its first char has been changed to '$,' except first\n",
    "char itself?\n",
    "Sample String: 'prospect'\n",
    "Expected Result : 'pros$ect'"
   ]
  },
  {
   "cell_type": "code",
   "execution_count": 210,
   "metadata": {},
   "outputs": [
    {
     "name": "stdout",
     "output_type": "stream",
     "text": [
      "am$$$$$r $jh$s\n"
     ]
    }
   ],
   "source": [
    "def string_replace(s):\n",
    "    a=s[0]\n",
    "    for char in s[1:]:\n",
    "        if char==s[0]:\n",
    "            a+='$'\n",
    "        else:\n",
    "            a+=char\n",
    "    return a\n",
    "if __name__=='__main__':\n",
    "    print(string_replace('amaaaaar ajhas'))"
   ]
  },
  {
   "cell_type": "markdown",
   "metadata": {},
   "source": [
    "Q2. Write a Python program to get the single string from the two given\n",
    "strings, and separated by the space and swap the first two characters of\n",
    "each string?\n",
    "Sample String : 'abc', 'xyz'.\n",
    "Expected Result: 'xyc abz'"
   ]
  },
  {
   "cell_type": "code",
   "execution_count": 7,
   "metadata": {},
   "outputs": [],
   "source": [
    "def new_string(a,b):\n",
    "    return(b[:2]+a[2:]+' '+a[:2]+b[2:])"
   ]
  },
  {
   "cell_type": "code",
   "execution_count": 8,
   "metadata": {},
   "outputs": [
    {
     "data": {
      "text/plain": [
       "'xyc abz'"
      ]
     },
     "execution_count": 8,
     "metadata": {},
     "output_type": "execute_result"
    }
   ],
   "source": [
    "new_string('abc','xyz')"
   ]
  },
  {
   "cell_type": "markdown",
   "metadata": {},
   "source": [
    "Q3. Write the Python program to add 'ing' at the end of the given string\n",
    "(length of the string should be at least 3). If given string already ends\n",
    "with 'ing,' then add 'ly' instead. If string length of the given string is less\n",
    "than 3, leave it unchanged?\n",
    "Sample string: ' abc '\n",
    "Expected result: ' abcing '\n",
    "Sample string: ' string '\n",
    "Expected result: ' stringly '\n"
   ]
  },
  {
   "cell_type": "code",
   "execution_count": 14,
   "metadata": {},
   "outputs": [],
   "source": [
    "def new_string(a):\n",
    "    if len(a) < 3:\n",
    "        return a\n",
    "    elif a[-3:]=='ing':\n",
    "        return(a+'ly')\n",
    "    else:\n",
    "        return(a+'ing')"
   ]
  },
  {
   "cell_type": "code",
   "execution_count": 15,
   "metadata": {},
   "outputs": [
    {
     "data": {
      "text/plain": [
       "'abcing'"
      ]
     },
     "execution_count": 15,
     "metadata": {},
     "output_type": "execute_result"
    }
   ],
   "source": [
    "new_string('abc')"
   ]
  },
  {
   "cell_type": "code",
   "execution_count": 16,
   "metadata": {},
   "outputs": [
    {
     "data": {
      "text/plain": [
       "'ab'"
      ]
     },
     "execution_count": 16,
     "metadata": {},
     "output_type": "execute_result"
    }
   ],
   "source": [
    "new_string('ab')"
   ]
  },
  {
   "cell_type": "code",
   "execution_count": 17,
   "metadata": {},
   "outputs": [
    {
     "data": {
      "text/plain": [
       "'ingly'"
      ]
     },
     "execution_count": 17,
     "metadata": {},
     "output_type": "execute_result"
    }
   ],
   "source": [
    "new_string('ing')"
   ]
  },
  {
   "cell_type": "markdown",
   "metadata": {},
   "source": [
    "Q4. Write the Python program to find the first appearance of the substring 'not' and 'poor' from the given string, if 'not' follows the 'poor',replace the whole 'not'...' poor' substring with 'good'.Return the resulting string.\n",
    "\n",
    "Sample string: 'The lyrics are not that poor!'\n",
    "'The lyrics are poor!'\n",
    "Expected Result: 'The lyrics are good!'\n",
    "'The lyrics are poor!'"
   ]
  },
  {
   "cell_type": "code",
   "execution_count": 83,
   "metadata": {},
   "outputs": [],
   "source": [
    "import re\n",
    "def string_q4(s):\n",
    "    a=s.find('not')\n",
    "    b=s.find('poor')\n",
    "\n",
    "    if b>a and a>0 and b>0:\n",
    "        s=s.replace(s[a:(b+4)],'good')\n",
    "    \n",
    "    print(s)"
   ]
  },
  {
   "cell_type": "code",
   "execution_count": 84,
   "metadata": {},
   "outputs": [
    {
     "name": "stdout",
     "output_type": "stream",
     "text": [
      "The lyrics are good!The lyrics are pooor!\n"
     ]
    }
   ],
   "source": [
    "string_q4('The lyrics are not that poor!'\n",
    "          'The lyrics are pooor!')"
   ]
  },
  {
   "cell_type": "markdown",
   "metadata": {},
   "source": [
    "Q5. Write the Python program to remove the characters which have odd\n",
    "index values of a given string.\n"
   ]
  },
  {
   "cell_type": "code",
   "execution_count": 85,
   "metadata": {},
   "outputs": [],
   "source": [
    "def q5(s):\n",
    "    b=''\n",
    "    for char in s:\n",
    "        if s.index(char)%2 != 0:\n",
    "            continue\n",
    "        else:\n",
    "            b+=char\n",
    "    print(b)"
   ]
  },
  {
   "cell_type": "code",
   "execution_count": 86,
   "metadata": {},
   "outputs": [
    {
     "name": "stdout",
     "output_type": "stream",
     "text": [
      "ar\n"
     ]
    }
   ],
   "source": [
    "q5('amr')"
   ]
  },
  {
   "cell_type": "markdown",
   "metadata": {},
   "source": [
    "Q6. Write the Python function to get a string made of 4 copies of the last\n",
    "two characters of the specified string (length must be at least 2).\n"
   ]
  },
  {
   "cell_type": "code",
   "execution_count": 90,
   "metadata": {},
   "outputs": [],
   "source": [
    "def insert_end(sample_string):\n",
    "    if len(sample_string) < 2:\n",
    "        print('Length of the string must be minimum 2')\n",
    "    else:\n",
    "        return(sample_string[-2:]*4)"
   ]
  },
  {
   "cell_type": "code",
   "execution_count": 93,
   "metadata": {},
   "outputs": [
    {
     "data": {
      "text/plain": [
       "'PyPyPyPy'"
      ]
     },
     "execution_count": 93,
     "metadata": {},
     "output_type": "execute_result"
    }
   ],
   "source": [
    "insert_end('Py')"
   ]
  },
  {
   "cell_type": "markdown",
   "metadata": {},
   "source": [
    "Q7. Write the python function to get a string made of its first three\n",
    "characters of a specified string. If the length of the string is less than 3\n",
    "then return the original string.\n",
    "\n",
    "Sample function and result :\n",
    "first-three('ipy') -> ipy\n",
    "first-three('python') -> pyt"
   ]
  },
  {
   "cell_type": "code",
   "execution_count": 94,
   "metadata": {},
   "outputs": [],
   "source": [
    "def first_three(sample_string):\n",
    "    if len(sample_string) < 3:\n",
    "        return sample_string\n",
    "    else:\n",
    "        return(sample_string[:3])"
   ]
  },
  {
   "cell_type": "code",
   "execution_count": 95,
   "metadata": {},
   "outputs": [
    {
     "data": {
      "text/plain": [
       "'Ama'"
      ]
     },
     "execution_count": 95,
     "metadata": {},
     "output_type": "execute_result"
    }
   ],
   "source": [
    "first_three('Amar')"
   ]
  },
  {
   "cell_type": "markdown",
   "metadata": {},
   "source": [
    "Q8. Write the python program to print the following floating numbers up to 2 decimal places?"
   ]
  },
  {
   "cell_type": "code",
   "execution_count": 102,
   "metadata": {},
   "outputs": [],
   "source": [
    "def print_decimal(n):\n",
    "    print('The decimal value rounded upto two places of {} is {:.2f}'.format(n,n))"
   ]
  },
  {
   "cell_type": "code",
   "execution_count": 103,
   "metadata": {},
   "outputs": [
    {
     "name": "stdout",
     "output_type": "stream",
     "text": [
      "The decimal value rounded upto two places of 5.6778 is 5.68\n"
     ]
    }
   ],
   "source": [
    "print_decimal(5.6778)"
   ]
  },
  {
   "cell_type": "markdown",
   "metadata": {},
   "source": [
    "Q9. Write the Python program to format a number with a percentage?\n"
   ]
  },
  {
   "cell_type": "code",
   "execution_count": 106,
   "metadata": {},
   "outputs": [],
   "source": [
    "def print_percentage(n):\n",
    "    print('The percenatge equivalent of {} is {:.2%}'.format(n,n))"
   ]
  },
  {
   "cell_type": "code",
   "execution_count": 107,
   "metadata": {},
   "outputs": [
    {
     "name": "stdout",
     "output_type": "stream",
     "text": [
      "The percenatge equivalent of 0.25 is 25.00%\n"
     ]
    }
   ],
   "source": [
    "print_percentage(.25)"
   ]
  },
  {
   "cell_type": "markdown",
   "metadata": {},
   "source": [
    "Q10. Write the Python program to count occurrences of a substring in a\n",
    "String?\n"
   ]
  },
  {
   "cell_type": "code",
   "execution_count": 109,
   "metadata": {},
   "outputs": [],
   "source": [
    "def count_string(a,b):\n",
    "    return a.count(b)"
   ]
  },
  {
   "cell_type": "code",
   "execution_count": 110,
   "metadata": {},
   "outputs": [
    {
     "data": {
      "text/plain": [
       "4"
      ]
     },
     "execution_count": 110,
     "metadata": {},
     "output_type": "execute_result"
    }
   ],
   "source": [
    "count_string('The Man is The First Person To Eat The Grass And Drive The Ferrari','The')"
   ]
  },
  {
   "cell_type": "markdown",
   "metadata": {},
   "source": [
    "Q11. Write the Python program to count repeated characters in a string."
   ]
  },
  {
   "cell_type": "code",
   "execution_count": 122,
   "metadata": {},
   "outputs": [],
   "source": [
    "from collections import Counter\n",
    "def count_repeated(s):\n",
    "    for a,b in Counter(s).items():\n",
    "        if b>1:\n",
    "            print(a,b)\n",
    "    "
   ]
  },
  {
   "cell_type": "code",
   "execution_count": 124,
   "metadata": {},
   "outputs": [
    {
     "name": "stdout",
     "output_type": "stream",
     "text": [
      "t 2\n",
      "h 2\n",
      "e 3\n",
      "u 2\n",
      "r 2\n",
      "o 3\n"
     ]
    }
   ],
   "source": [
    "count_repeated('thequickbrownjumpsoverthelazydog')"
   ]
  },
  {
   "cell_type": "markdown",
   "metadata": {},
   "source": [
    "Q12. Write the Python program to print the square and cube symbol in the area of a rectangle and volume of a cylinder?\n",
    "\n",
    "Sample output\n",
    "\n",
    "The area of the rectangle is 1256.66cm2\n",
    "The volume of the cylinder is 1254.725cm3\n"
   ]
  },
  {
   "cell_type": "code",
   "execution_count": 133,
   "metadata": {},
   "outputs": [],
   "source": [
    "def print_area(area,number_of_decimals):\n",
    "    print('The area of the surface is {0:.{1}f}cm\\u00b2'.format(area,number_of_decimals))\n",
    "def print_volume(volume,number_of_decimals):\n",
    "    print('The volume of the object is {0:.{1}f}cm\\u00b3'.format(volume,number_of_decimals))   "
   ]
  },
  {
   "cell_type": "code",
   "execution_count": 134,
   "metadata": {},
   "outputs": [
    {
     "name": "stdout",
     "output_type": "stream",
     "text": [
      "The area of the surface is 5.68cm²\n",
      "The volume of the object is 4.677cm³\n"
     ]
    }
   ],
   "source": [
    "print_area(5.6778,2)\n",
    "print_volume(4.67678,3)"
   ]
  },
  {
   "cell_type": "markdown",
   "metadata": {},
   "source": [
    "Q13. Write the Python program to check if a string contains all letters of the alphabet?\n"
   ]
  },
  {
   "cell_type": "code",
   "execution_count": 139,
   "metadata": {},
   "outputs": [],
   "source": [
    "def check_isalpha(s):\n",
    "    return s.isalpha()"
   ]
  },
  {
   "cell_type": "code",
   "execution_count": 141,
   "metadata": {},
   "outputs": [
    {
     "data": {
      "text/plain": [
       "False"
      ]
     },
     "execution_count": 141,
     "metadata": {},
     "output_type": "execute_result"
    }
   ],
   "source": [
    "check_isalpha('jyoti1')"
   ]
  },
  {
   "cell_type": "markdown",
   "metadata": {},
   "source": [
    "Q14. Write the Python program to find the second most repeated word in a given string?"
   ]
  },
  {
   "cell_type": "code",
   "execution_count": 149,
   "metadata": {},
   "outputs": [],
   "source": [
    "from collections import Counter\n",
    "def second_most_common_letter(s):\n",
    "    print(Counter(s).most_common(2)[-1][0])\n",
    "    "
   ]
  },
  {
   "cell_type": "code",
   "execution_count": 150,
   "metadata": {},
   "outputs": [
    {
     "name": "stdout",
     "output_type": "stream",
     "text": [
      "b\n"
     ]
    }
   ],
   "source": [
    "second_most_common_letter('Aaanbdbdbjsa')"
   ]
  },
  {
   "cell_type": "markdown",
   "metadata": {},
   "source": [
    "Q15. Write the Python program to find the minimum window in the given string, which will contains all the characters of another given strings?\n"
   ]
  },
  {
   "cell_type": "code",
   "execution_count": 194,
   "metadata": {},
   "outputs": [
    {
     "name": "stdout",
     "output_type": "stream",
     "text": [
      "abdc\n"
     ]
    }
   ],
   "source": [
    "from collections import Counter\n",
    "def minWindow(s:str,t:str):\n",
    "    need,missing=Counter(t),len(t)\n",
    "    i,mwStart,mwEnd=0,0,0\n",
    "    for j,c in enumerate(s,1):  \n",
    "        if need[c]>0:\n",
    "            missing -= 1\n",
    "        need[c] -= 1\n",
    "        if missing == 0:\n",
    "            while i < j and need[s[i]]<0:\n",
    "                need[s[i]]+=1\n",
    "                i+=1\n",
    "            if mwStart == 0 or j-i <= mwEnd - mwStart:\n",
    "                mwStart,mwEnd=i,j        \n",
    "    print(s[mwStart:mwEnd])\n",
    "if __name__=='__main__':\n",
    "    minWindow('aebdfghcnabdc','abcd')"
   ]
  },
  {
   "cell_type": "markdown",
   "metadata": {},
   "source": [
    "Q16. Write the Python program to find smallest window that contains all characters of the given string"
   ]
  },
  {
   "cell_type": "code",
   "execution_count": 206,
   "metadata": {},
   "outputs": [
    {
     "name": "stdout",
     "output_type": "stream",
     "text": [
      "dabc\n"
     ]
    }
   ],
   "source": [
    "from collections import Counter\n",
    "def minWindow(s:str):\n",
    "    need,missing=Counter(set(s)),len(Counter(set(s)))\n",
    "    i,mwStart,mwEnd=0,0,0\n",
    "    for j,c in enumerate(s,1):  \n",
    "        if need[c]>0:\n",
    "            missing -= 1\n",
    "        need[c] -= 1\n",
    "        if missing == 0:\n",
    "            while i < j and need[s[i]]<0:\n",
    "                need[s[i]]+=1\n",
    "                i+=1\n",
    "            if mwStart == 0 or j-i <= mwEnd - mwStart:\n",
    "                mwStart,mwEnd=i,j        \n",
    "    print(s[mwStart:mwEnd])\n",
    "if __name__=='__main__':\n",
    "    minWindow('abcccdabccd')"
   ]
  },
  {
   "cell_type": "markdown",
   "metadata": {},
   "source": [
    "Q17. Write the Python program to count number of substrings from a given string of lowercase \n",
    "alphabets with exactly k distinct (given)\n",
    "characters?"
   ]
  },
  {
   "cell_type": "code",
   "execution_count": 213,
   "metadata": {},
   "outputs": [
    {
     "name": "stdout",
     "output_type": "stream",
     "text": [
      "Number of substrings with exactly 4 distinct characters: 1\n"
     ]
    }
   ],
   "source": [
    "from itertools import combinations\n",
    "def number_of_distinct_words(s,k):\n",
    "    l=len(list(combinations(s,k)))\n",
    "    print('Number of substrings with exactly 4 distinct characters:',l)\n",
    "    \n",
    "if __name__=='__main__':\n",
    "    number_of_distinct_words('wolf',4)"
   ]
  },
  {
   "cell_type": "code",
   "execution_count": null,
   "metadata": {},
   "outputs": [],
   "source": [
    "Q18. Write the Python program to count number of non-empty\n",
    "substrings of the given string?\n"
   ]
  },
  {
   "cell_type": "code",
   "execution_count": 219,
   "metadata": {},
   "outputs": [
    {
     "name": "stdout",
     "output_type": "stream",
     "text": [
      "Number of substrings: 55.0\n"
     ]
    }
   ],
   "source": [
    "from itertools import permutations\n",
    "def number_of_distinct_words(s):\n",
    "    l=(len(s)*(len(s)+1))/2\n",
    "    print('Number of substrings:',l)\n",
    "    \n",
    "if __name__=='__main__':\n",
    "    number_of_distinct_words('w3resource')"
   ]
  },
  {
   "cell_type": "markdown",
   "metadata": {},
   "source": [
    "Q19. Write the Python program to count number of substrings with same first and last characters of the given string?\n"
   ]
  },
  {
   "cell_type": "code",
   "execution_count": 222,
   "metadata": {},
   "outputs": [
    {
     "name": "stdout",
     "output_type": "stream",
     "text": [
      "Input a string: abcabc\n",
      "9\n"
     ]
    }
   ],
   "source": [
    "def no_of_substring_with_equalEnds(str1): \n",
    "    result = 0; \n",
    "    n = len(str1); \n",
    "    for i in range(n): \n",
    "        for j in range(i, n): \n",
    "            if (str1[i] == str1[j]): \n",
    "                result = result + 1\n",
    "    return result \n",
    "str1 = input(\"Input a string: \")\n",
    "print(no_of_substring_with_equalEnds(str1))"
   ]
  },
  {
   "cell_type": "markdown",
   "metadata": {},
   "source": [
    "Q20. Write the Python program to count the number of strings where the string length is 2 or more, and first and last character are same\n",
    "from a given list of strings.\n",
    "\n",
    "Sample List : ['abc', 'xyz', 'wxw', '1331']\n",
    "Expected Result: 2\n",
    "\n"
   ]
  },
  {
   "cell_type": "code",
   "execution_count": 225,
   "metadata": {},
   "outputs": [
    {
     "name": "stdout",
     "output_type": "stream",
     "text": [
      "2\n"
     ]
    }
   ],
   "source": [
    "def count_same_string(l):\n",
    "    count=0\n",
    "    for word in l:\n",
    "        if len(word)>2 and word[0]==word[-1]:\n",
    "            count+=1\n",
    "    print(count)\n",
    "if __name__=='__main__':\n",
    "    count_same_string(['abc', 'xyz', 'wxw', '1331'])"
   ]
  },
  {
   "cell_type": "markdown",
   "metadata": {},
   "source": [
    "Q21. Write the Python program to get a list, sorted in increasing order by\n",
    "the last element in each tuple from the given list of non-empty\n",
    "tuples?\n",
    "\n",
    "Sample List - [ (2, 5), (1, 2), (4, 4), (2, 3), (2, 1) ]\n",
    "Expected Result - [ (2, 1), (1, 2), (2, 3), (4, 4), (2, 5) ]\n"
   ]
  },
  {
   "cell_type": "code",
   "execution_count": 233,
   "metadata": {},
   "outputs": [
    {
     "name": "stdout",
     "output_type": "stream",
     "text": [
      "[(2, 1), (1, 2), (2, 3), (4, 4), (2, 5)]\n"
     ]
    }
   ],
   "source": [
    "def sort_list_last(tuples):\n",
    "      print(sorted(tuples, key=lambda x:x[-1]))\n",
    "if __name__=='__main__':\n",
    "    sort_list_last([ (2, 5), (1, 2), (4, 4), (2, 3), (2, 1) ])"
   ]
  },
  {
   "cell_type": "markdown",
   "metadata": {},
   "source": [
    "Q22. Write the Python program to remove duplicates from a list?"
   ]
  },
  {
   "cell_type": "code",
   "execution_count": 234,
   "metadata": {},
   "outputs": [
    {
     "name": "stdout",
     "output_type": "stream",
     "text": [
      "[1, 2, 3, 4]\n"
     ]
    }
   ],
   "source": [
    "def remove_duplicates(mylist):\n",
    "      print(list(dict.fromkeys(mylist)))\n",
    "if __name__=='__main__':\n",
    "    remove_duplicates([ 1,2,3,4,1,2,3,4,1,2,3 ])"
   ]
  },
  {
   "cell_type": "markdown",
   "metadata": {},
   "source": [
    "Q23. Write the Python program to find the list of words that are longer\n",
    "than n from a given list of words?\n"
   ]
  },
  {
   "cell_type": "code",
   "execution_count": 235,
   "metadata": {},
   "outputs": [
    {
     "name": "stdout",
     "output_type": "stream",
     "text": [
      "['amar', 'jyoti', 'rahim', 'sho']\n"
     ]
    }
   ],
   "source": [
    "def newlist(list_of_words,n):\n",
    "    for words in list_of_words:\n",
    "        if len(words)<n:\n",
    "            list_of_words.remove(words)\n",
    "    print(list_of_words)\n",
    "if __name__=='__main__':\n",
    "    newlist(['amar','jyoti','rahim','ab','sho'],3)"
   ]
  },
  {
   "cell_type": "markdown",
   "metadata": {},
   "source": [
    "Q24. Write the Python program to print a specified list after removing the\n",
    "0th, 4th, and 5th elements?\n"
   ]
  },
  {
   "cell_type": "code",
   "execution_count": 238,
   "metadata": {},
   "outputs": [
    {
     "name": "stdout",
     "output_type": "stream",
     "text": [
      "['jyoti', 'rahim', 'ab']\n"
     ]
    }
   ],
   "source": [
    "def print_list(l):\n",
    "    a,b,c=l[0],l[4],l[5]\n",
    "    l.remove(a)\n",
    "    l.remove(b)\n",
    "    l.remove(c)\n",
    "    print(l)\n",
    "if __name__=='__main__':\n",
    "    print_list(['amar','jyoti','rahim','ab','sho','shaohua'])"
   ]
  },
  {
   "cell_type": "markdown",
   "metadata": {},
   "source": [
    "Q25. Write the Python program to generate all permutations of a list in\n",
    "Python?"
   ]
  },
  {
   "cell_type": "code",
   "execution_count": 244,
   "metadata": {},
   "outputs": [
    {
     "name": "stdout",
     "output_type": "stream",
     "text": [
      "[(0, 1), (1, 0)]\n"
     ]
    }
   ],
   "source": [
    "from itertools import permutations\n",
    "def gen_permutatins(l):\n",
    "    print(list(permutations(l)))\n",
    "if __name__=='__main__':\n",
    "    gen_permutatins([0,1])"
   ]
  },
  {
   "cell_type": "markdown",
   "metadata": {},
   "source": [
    "Q26. Write the Python program to convert a pair of values into a sorted unique array?\n",
    "Original List- [ (1, 2), (3, 4), (1, 2), (5, 6), (7, 8), (1, 2), (3, 4), (3, 4), (7, 8), (9, 10) ]\n",
    "Sorted Unique Data- [ 1, 2, 3, 4, 5, 6, 7, 8, 9, 10 ] \n"
   ]
  },
  {
   "cell_type": "code",
   "execution_count": 4,
   "metadata": {},
   "outputs": [
    {
     "name": "stdout",
     "output_type": "stream",
     "text": [
      "[1, 2, 3, 4, 5, 6, 7, 8, 9, 10]\n"
     ]
    }
   ],
   "source": [
    "def convert_to_unique(l):\n",
    "    new_list=[]\n",
    "    for (a,b) in l:\n",
    "        new_list.append(a)\n",
    "        new_list.append(b)\n",
    "    print(sorted(list(set(new_list))))\n",
    "if __name__=='__main__':\n",
    "    convert_to_unique([ (1, 2), (3, 4), (1, 2), (5, 6), (7, 8), (1, 2), (3, 4), (3, 4), (7, 8), (9, 10) ])"
   ]
  },
  {
   "cell_type": "markdown",
   "metadata": {},
   "source": [
    "Q27. Write the Python class to convert an integer to a roman numeral?"
   ]
  },
  {
   "cell_type": "code",
   "execution_count": 9,
   "metadata": {},
   "outputs": [
    {
     "name": "stdout",
     "output_type": "stream",
     "text": [
      "I\n",
      "MMMM\n"
     ]
    }
   ],
   "source": [
    "class py_solution:\n",
    "    def int_to_Roman(self, num):\n",
    "        val = [\n",
    "            1000, 900, 500, 400,\n",
    "            100, 90, 50, 40,\n",
    "            10, 9, 5, 4,\n",
    "            1\n",
    "            ]\n",
    "        syb = [\n",
    "            \"M\", \"CM\", \"D\", \"CD\",\n",
    "            \"C\", \"XC\", \"L\", \"XL\",\n",
    "            \"X\", \"IX\", \"V\", \"IV\",\n",
    "            \"I\"\n",
    "            ]\n",
    "        roman_num = ''\n",
    "        i = 0\n",
    "        while  num > 0:\n",
    "            for _ in range(num // val[i]):\n",
    "                roman_num += syb[i]\n",
    "                num -= val[i]\n",
    "            i += 1\n",
    "        return roman_num\n",
    "if __name__=='__main__':\n",
    "    print(py_solution().int_to_Roman(1))\n",
    "    print(py_solution().int_to_Roman(4000))"
   ]
  },
  {
   "cell_type": "markdown",
   "metadata": {},
   "source": [
    "Q28 Write the Python class to convert a Roman numeral to an integer?"
   ]
  },
  {
   "cell_type": "code",
   "execution_count": 10,
   "metadata": {},
   "outputs": [
    {
     "name": "stdout",
     "output_type": "stream",
     "text": [
      "3986\n",
      "4000\n",
      "100\n"
     ]
    }
   ],
   "source": [
    "class py_solution:\n",
    "    def roman_to_int(self, s):\n",
    "        rom_val = {'I': 1, 'V': 5, 'X': 10, 'L': 50, 'C': 100, 'D': 500, 'M': 1000}\n",
    "        int_val = 0\n",
    "        for i in range(len(s)):\n",
    "            if i > 0 and rom_val[s[i]] > rom_val[s[i - 1]]:\n",
    "                int_val += rom_val[s[i]] - 2 * rom_val[s[i - 1]]\n",
    "            else:\n",
    "                int_val += rom_val[s[i]]\n",
    "        return int_val\n",
    "print(py_solution().roman_to_int('MMMCMLXXXVI'))\n",
    "print(py_solution().roman_to_int('MMMM'))\n",
    "print(py_solution().roman_to_int('C'))"
   ]
  },
  {
   "cell_type": "markdown",
   "metadata": {},
   "source": [
    "Q29. Write the Python class to find the validity of the string of the\n",
    "parentheses, '(', ')', '{', '}', '[' and '] and the brackets must be closed\n",
    "in the correct order, example - \"()\" and \"()[]{}\" are valid but \"[)\",\n",
    "\"({[)]\" and \"{{{\" are invalid."
   ]
  },
  {
   "cell_type": "code",
   "execution_count": 12,
   "metadata": {},
   "outputs": [
    {
     "name": "stdout",
     "output_type": "stream",
     "text": [
      "Valid\n"
     ]
    }
   ],
   "source": [
    "class check_valid_string:\n",
    "    def check_valid(self,string):\n",
    "        s=0\n",
    "        for i in string:\n",
    "            if i == \"(\" or i==\"[\" or i==\"{\":\n",
    "                s+=1\n",
    "            elif i == \")\" or i==\"]\" or i==\"}\":\n",
    "                s-=1\n",
    "            else:\n",
    "                continue\n",
    "        if s==0:\n",
    "            return \"Valid\"\n",
    "        else:\n",
    "            return \"Invalid\"\n",
    "print(check_valid_string().check_valid('()'))"
   ]
  },
  {
   "cell_type": "markdown",
   "metadata": {},
   "source": [
    "Q30. Write the Python class to get all possible unique subsets from a set\n",
    "of distinct integers?"
   ]
  },
  {
   "cell_type": "code",
   "execution_count": 38,
   "metadata": {},
   "outputs": [],
   "source": [
    "from itertools import combinations"
   ]
  },
  {
   "cell_type": "code",
   "execution_count": 42,
   "metadata": {},
   "outputs": [
    {
     "name": "stdout",
     "output_type": "stream",
     "text": [
      "[[], [(4,), (5,), (6,)], [(4, 5), (4, 6), (5, 6)], [(4, 5, 6)]]\n"
     ]
    }
   ],
   "source": [
    "class unique_subsets:\n",
    "   \n",
    "    def unique_subsets_list(self,myset):\n",
    "        uniq=[[]]\n",
    "        for i in range(1,len(myset)+1):\n",
    "                uniq.append(list(combinations(myset,i)))\n",
    "        return uniq\n",
    "              \n",
    "print(unique_subsets().unique_subsets_list([4,5,6]))"
   ]
  },
  {
   "cell_type": "markdown",
   "metadata": {},
   "source": [
    "Q31. Write the Python class to find a pair of elements (indices of the two numbers) from a given array whose sum equals the specific target\n",
    "number?\n"
   ]
  },
  {
   "cell_type": "code",
   "execution_count": 48,
   "metadata": {},
   "outputs": [
    {
     "name": "stdout",
     "output_type": "stream",
     "text": [
      "[(0, 3), (1, 2)]\n"
     ]
    }
   ],
   "source": [
    "class array_list:\n",
    "   \n",
    "    def sum_of_two_50(self,myset,target):\n",
    "        return [(myset.index(a),myset.index(b)) for (a,b) in list(combinations(myset,2)) if a+b == target]\n",
    "              \n",
    "print(array_list().sum_of_two_50([10,20,30,40,50,60,70],50))"
   ]
  },
  {
   "cell_type": "markdown",
   "metadata": {},
   "source": [
    "Q32. Write the Python class to find the three elements that sum to zero from the set of n real numbers?"
   ]
  },
  {
   "cell_type": "code",
   "execution_count": 53,
   "metadata": {},
   "outputs": [
    {
     "name": "stdout",
     "output_type": "stream",
     "text": [
      "[[-10, 2, 8], [-7, -3, 10]]\n"
     ]
    }
   ],
   "source": [
    "class array_list:\n",
    "   \n",
    "    def sum_of_three_0(self,myset,target):\n",
    "        return [list((a,b,c)) for (a,b,c) in list(combinations(myset,3)) if a+b+c == target]\n",
    "              \n",
    "print(array_list().sum_of_three_0([-25, -10, -7, -3, 2, 4, 8, 10],0))"
   ]
  },
  {
   "cell_type": "markdown",
   "metadata": {},
   "source": [
    "Q33. Write the Python class to implement pow(x, n)?\n"
   ]
  },
  {
   "cell_type": "code",
   "execution_count": 58,
   "metadata": {},
   "outputs": [
    {
     "name": "stdout",
     "output_type": "stream",
     "text": [
      "3125\n"
     ]
    }
   ],
   "source": [
    "class power:\n",
    "    def power_of_a_num(self,num,to_power):\n",
    "        a=1\n",
    "        for i in range(1,to_power+1):\n",
    "            a*=num\n",
    "        return a\n",
    "print(power().power_of_a_num(5,5))"
   ]
  },
  {
   "cell_type": "markdown",
   "metadata": {},
   "source": [
    "Q34. Write the Python class which has two methods get_String and\n",
    "print_String. get_String accept the string from the user and \n",
    "print_String print the string in upper case."
   ]
  },
  {
   "cell_type": "code",
   "execution_count": 67,
   "metadata": {},
   "outputs": [
    {
     "name": "stdout",
     "output_type": "stream",
     "text": [
      "Enter the stringname\n"
     ]
    }
   ],
   "source": [
    "class string_funcitons:\n",
    "    def __init__(self):\n",
    "        self.string=''\n",
    "    \n",
    "    def get_string(self):\n",
    "        self.string=input('Enter the string')\n",
    "        \n",
    "    def put_string(self):\n",
    "        print(self.string.upper())\n",
    "\n",
    "ok=string_funcitons()\n",
    "ok.get_string()"
   ]
  },
  {
   "cell_type": "code",
   "execution_count": 68,
   "metadata": {},
   "outputs": [
    {
     "name": "stdout",
     "output_type": "stream",
     "text": [
      "NAME\n"
     ]
    }
   ],
   "source": [
    "ok.put_string()"
   ]
  },
  {
   "cell_type": "markdown",
   "metadata": {},
   "source": [
    "Q35. Write the Python class named Rectangle constructed by a length\n",
    "and width and the method which will compute the area of the\n",
    "rectangle?"
   ]
  },
  {
   "cell_type": "code",
   "execution_count": 74,
   "metadata": {},
   "outputs": [
    {
     "name": "stdout",
     "output_type": "stream",
     "text": [
      "40\n"
     ]
    }
   ],
   "source": [
    "class rectangle:\n",
    "    def __init__(self,length,breadth):\n",
    "        self.length=length\n",
    "        self.breadth=breadth\n",
    "        \n",
    "    def area(self):\n",
    "        print(self.length*self.breadth)\n",
    "ground=rectangle(10,4)\n",
    "ground.area()"
   ]
  },
  {
   "cell_type": "markdown",
   "metadata": {},
   "source": [
    "Q36. Write the Python class named Circle constructed by the radius\n",
    "and two methods which will compute the area and perimeter of\n",
    "the circle?\n"
   ]
  },
  {
   "cell_type": "code",
   "execution_count": 76,
   "metadata": {},
   "outputs": [
    {
     "name": "stdout",
     "output_type": "stream",
     "text": [
      "area of the circle is 314.0\n",
      "perimeter of the circle is 62.800000000000004\n"
     ]
    }
   ],
   "source": [
    "class circle:\n",
    "    pi=3.14\n",
    "    def __init__(self,radius):\n",
    "        self.radius=radius\n",
    "        \n",
    "    def area(self):\n",
    "        print('area of the circle is',self.pi*self.radius*self.radius)\n",
    "    \n",
    "    def perimeter(self):\n",
    "        print('perimeter of the circle is',2*self.pi*self.radius)\n",
    "        \n",
    "        \n",
    "ground=circle(10)\n",
    "ground.area()\n",
    "ground.perimeter()\n"
   ]
  },
  {
   "cell_type": "markdown",
   "metadata": {},
   "source": [
    "Q37. Write the Python program to get the class name of an instance in\n",
    "Python?\n"
   ]
  },
  {
   "cell_type": "code",
   "execution_count": 77,
   "metadata": {},
   "outputs": [
    {
     "name": "stdout",
     "output_type": "stream",
     "text": [
      "list\n"
     ]
    }
   ],
   "source": [
    "from itertools import combinations\n",
    "x = list(combinations('acd',2))\n",
    "print(type(x).__name__)"
   ]
  },
  {
   "cell_type": "markdown",
   "metadata": {},
   "source": [
    "Q38. Write the Python program to count the number of students of\n",
    "individual class?\n",
    "Sample dataclasses = (\n",
    "('V', 1),\n",
    "('VI', 1),\n",
    "('V', 2),\n",
    "('VI', 2),\n",
    "('VI', 3),\n",
    "('VII', 1),\n",
    ")\n",
    "Expected OutputCounter({'VI': 3, 'V': 2, 'VII': 1})\n"
   ]
  },
  {
   "cell_type": "code",
   "execution_count": 83,
   "metadata": {},
   "outputs": [
    {
     "name": "stdout",
     "output_type": "stream",
     "text": [
      "defaultdict(<class 'int'>, {'V': 3, 'VI': 6, 'VII': 1})\n"
     ]
    }
   ],
   "source": [
    "from collections import defaultdict\n",
    "def count_total(array):\n",
    "    mydict=defaultdict(int)\n",
    "    for (a,b) in array:\n",
    "        mydict[a]+=b\n",
    "    return mydict\n",
    "if __name__=='__main__':\n",
    "    print(count_total(\n",
    "             (('V', 1),\n",
    "             ('VI', 1),\n",
    "             ('V', 2),\n",
    "             ('VI', 2),\n",
    "             ('VI', 3),\n",
    "             ('VII', 1),\n",
    "                    )))"
   ]
  },
  {
   "cell_type": "markdown",
   "metadata": {},
   "source": [
    "Q39. Write the Python program to create an instance of an OrderedDict \n",
    "using the given dictionary and sort dictionary during the\n",
    "creation and print members of the dictionary in reverse order?\n",
    "\n",
    "Expected Output\n",
    "Angola 244.\n",
    "Andorra 376.\n",
    "Algeria 213.\n",
    "Afghanistan 93.\n",
    "Albania 355.\n",
    "\n",
    "In reverse orderAlbania 355.\n",
    "Afghanistan 93.\n",
    "Algeria 213.\n",
    "Andorra 376.\n",
    "Angola 244"
   ]
  },
  {
   "cell_type": "code",
   "execution_count": 84,
   "metadata": {},
   "outputs": [
    {
     "name": "stdout",
     "output_type": "stream",
     "text": [
      "Afghanistan 93\n",
      "Albania 355\n",
      "Algeria 213\n",
      "Andorra 376\n",
      "Angola 244\n",
      "Afghanistan 93\n",
      "Albania 355\n",
      "Algeria 213\n",
      "Andorra 376\n",
      "Angola 244\n"
     ]
    }
   ],
   "source": [
    "from collections import OrderedDict\n",
    "\n",
    "orig_dict={'Afghanistan': 93, 'Albania': 355, 'Algeria': 213, 'Andorra': 376, 'Angola': 244}\n",
    "new_dict=OrderedDict(orig_dict.items())\n",
    "\n",
    "for key in orig_dict:\n",
    "    print(key,orig_dict[key])\n",
    "\n",
    "for key in new_dict:\n",
    "    print(key,new_dict[key])"
   ]
  },
  {
   "cell_type": "markdown",
   "metadata": {},
   "source": [
    "Q40. Write the Python program to compare two unordered lists (not\n",
    "sets)?"
   ]
  },
  {
   "cell_type": "code",
   "execution_count": 87,
   "metadata": {},
   "outputs": [
    {
     "name": "stdout",
     "output_type": "stream",
     "text": [
      "False\n"
     ]
    }
   ],
   "source": [
    "from collections import Counter\n",
    "def compare_list(x,y):\n",
    "    return Counter(x)==Counter(y)\n",
    "n1 = [20, 10, 30, 10, 20, 30]\n",
    "n2 = [30, 20, 10, 30, 20, 50]\n",
    "print(compare_list(n1, n2))"
   ]
  },
  {
   "cell_type": "markdown",
   "metadata": {},
   "source": [
    "Q41. Write the Python program to get an array buffer information?"
   ]
  },
  {
   "cell_type": "code",
   "execution_count": 89,
   "metadata": {},
   "outputs": [
    {
     "name": "stdout",
     "output_type": "stream",
     "text": [
      "(2381267923056, 2)\n"
     ]
    }
   ],
   "source": [
    "from array import array\n",
    "a=array(\"i\",(10,23))\n",
    "print(a.buffer_info())"
   ]
  },
  {
   "cell_type": "markdown",
   "metadata": {},
   "source": [
    "Q42. Write the Python program to convert an array to an array of\n",
    "machine values and return the bytes representation?"
   ]
  },
  {
   "cell_type": "code",
   "execution_count": 94,
   "metadata": {},
   "outputs": [
    {
     "name": "stdout",
     "output_type": "stream",
     "text": [
      "b'\\x01\\x00\\x00\\x00\\x02\\x00\\x00\\x00\\x03\\x00\\x00\\x00\\x04\\x00\\x00\\x00\\x05\\x00\\x00\\x00\\x06\\x00\\x00\\x00'\n"
     ]
    }
   ],
   "source": [
    "from array import *\n",
    "A1=array('i', [1, 2, 3, 4, 5, 6])\n",
    "print(A1.tobytes())"
   ]
  },
  {
   "cell_type": "markdown",
   "metadata": {},
   "source": [
    "Q43. Write the Python program to read a string and interpreting the\n",
    "string as an array of machine values?"
   ]
  },
  {
   "cell_type": "code",
   "execution_count": 95,
   "metadata": {},
   "outputs": [
    {
     "name": "stdout",
     "output_type": "stream",
     "text": [
      "array1: array('i', [7, 8, 9, 10])\n",
      "Bytes: b'0700000008000000090000000a000000'\n",
      "array2: array('i', [7, 8, 9, 10])\n"
     ]
    }
   ],
   "source": [
    "from array import array\n",
    "import binascii\n",
    "array1 = array('i', [7, 8, 9, 10])\n",
    "print('array1:', array1)\n",
    "as_bytes = array1.tobytes()\n",
    "print('Bytes:', binascii.hexlify(as_bytes))\n",
    "array2 = array('i')\n",
    "array2.frombytes(as_bytes)\n",
    "print('array2:', array2)"
   ]
  },
  {
   "cell_type": "markdown",
   "metadata": {},
   "source": [
    "Q44. Write the Python program to push three items into the heap and\n",
    "return the smallest item from the heap. Also, return and pop the\n",
    "smallest item from the heap?"
   ]
  },
  {
   "cell_type": "code",
   "execution_count": 97,
   "metadata": {},
   "outputs": [
    {
     "name": "stdout",
     "output_type": "stream",
     "text": [
      "Items in the heap:\n",
      "('VI', 1)\n",
      "('VII', 3)\n",
      "('VIII', 2)\n",
      "----------------------\n",
      "Using heappushpop push item on the heap and return the smallest item.\n",
      "('VI', 1)\n",
      "('VII', 3)\n",
      "('VIII', 2)\n"
     ]
    }
   ],
   "source": [
    "import heapq\n",
    "heap = []\n",
    "heapq.heappush(heap, ('VI', 1))\n",
    "heapq.heappush(heap, ('VII', 3))\n",
    "heapq.heappush(heap, ('VIII', 2))\n",
    "print(\"Items in the heap:\")\n",
    "for a in heap:\n",
    "    print(a)\n",
    "print(\"----------------------\")\n",
    "print(\"Using heappushpop push item on the heap and return the smallest item.\")\n",
    "heapq.heappushpop(heap, ('V1', 1))\n",
    "for a in heap:\n",
    "    print(a)"
   ]
  },
  {
   "cell_type": "markdown",
   "metadata": {},
   "source": [
    "Q45. Write the Python program to locate the left insertion point for a\n",
    "specified value in sorted order?\n"
   ]
  },
  {
   "cell_type": "code",
   "execution_count": 100,
   "metadata": {},
   "outputs": [
    {
     "name": "stdout",
     "output_type": "stream",
     "text": [
      "3\n",
      "2\n"
     ]
    }
   ],
   "source": [
    "import bisect\n",
    "def index(a, x):\n",
    "    i = bisect.bisect_right(a, x)\n",
    "    return i\n",
    "    \n",
    "a = [1,2,4,8]\n",
    "print(index(a, 6))\n",
    "print(index(a, 3))"
   ]
  },
  {
   "cell_type": "markdown",
   "metadata": {},
   "source": [
    "Q46. Write the Python program to create the FIFO queue?\n"
   ]
  },
  {
   "cell_type": "code",
   "execution_count": 102,
   "metadata": {},
   "outputs": [
    {
     "name": "stdout",
     "output_type": "stream",
     "text": [
      "0 1 2 3 "
     ]
    }
   ],
   "source": [
    "import queue\n",
    "q=queue.Queue()\n",
    "\n",
    "for i in range(4):\n",
    "    q.put(str(i))\n",
    "while not q.empty():\n",
    "    print(q.get(),end=' ')"
   ]
  },
  {
   "cell_type": "markdown",
   "metadata": {},
   "source": [
    "Q47. Write the Python program to calculate the harmonic sum of n-1.\n",
    " Note: The harmonic sum is the sum of reciprocals of the positive\n",
    "Integers?"
   ]
  },
  {
   "cell_type": "code",
   "execution_count": 107,
   "metadata": {},
   "outputs": [
    {
     "name": "stdout",
     "output_type": "stream",
     "text": [
      "The harmonic sum of 5 is 2.083333\n"
     ]
    }
   ],
   "source": [
    "def harmonic_sum(n):\n",
    "    a=0\n",
    "    for i in range(1,n):\n",
    "        a+=1/i\n",
    "    print('The harmonic sum of 5 is {0:1f}'.format(a)) \n",
    "harmonic_sum(5)"
   ]
  },
  {
   "cell_type": "markdown",
   "metadata": {},
   "source": [
    "Q48. Write the NumPy program to create a 2d array with 6 on the border\n",
    "and 0 inside?"
   ]
  },
  {
   "cell_type": "code",
   "execution_count": 118,
   "metadata": {},
   "outputs": [
    {
     "name": "stdout",
     "output_type": "stream",
     "text": [
      "[[6. 6. 6. 6. 6. 6.]\n",
      " [6. 0. 0. 0. 0. 6.]\n",
      " [6. 0. 0. 0. 0. 6.]\n",
      " [6. 0. 0. 0. 0. 6.]\n",
      " [6. 0. 0. 0. 0. 6.]\n",
      " [6. 6. 6. 6. 6. 6.]]\n"
     ]
    }
   ],
   "source": [
    "import numpy as np\n",
    "def create_array(n,m):\n",
    "    arr_6=np.ones(n*m).reshape(n,m)*6\n",
    "    for i in range(n):\n",
    "        for j in range(m):\n",
    "            if i not in (0,5) and j not in (0,5):\n",
    "                arr_6[i,j]=0\n",
    "    print(arr_6)\n",
    "create_array(6,6)"
   ]
  },
  {
   "cell_type": "markdown",
   "metadata": {},
   "source": [
    "Q49. Write the NumPy program to create a 8x8 matrix and fill it with the\n",
    "checkerboard pattern?\n",
    "Checkerboard pattern-\n",
    "[[3 9 3 9 3 9 3 9]\n",
    "[9 3 9 3 9 3 9 3]\n",
    "[3 9 3 9 3 9 3 9]\n",
    "[9 3 9 3 9 3 9 3]\n",
    "[3 9 3 9 3 9 3 9]\n",
    "[9 3 9 3 9 3 9 3]\n",
    "[3 9 3 9 3 9 3 9]\n",
    "[9 3 9 3 9 3 9 3]]"
   ]
  },
  {
   "cell_type": "code",
   "execution_count": 128,
   "metadata": {},
   "outputs": [
    {
     "name": "stdout",
     "output_type": "stream",
     "text": [
      "[[3. 9. 3. 9. 3.]\n",
      " [9. 3. 9. 3. 9.]\n",
      " [3. 9. 3. 9. 3.]\n",
      " [9. 3. 9. 3. 9.]\n",
      " [3. 9. 3. 9. 3.]\n",
      " [9. 3. 9. 3. 9.]]\n"
     ]
    }
   ],
   "source": [
    "import numpy as np\n",
    "def create_checkboard_array(n,m):\n",
    "    arr_6=np.ones(n*m).reshape(n,m)\n",
    "    for i in range(n):\n",
    "        for j in range(m):\n",
    "                if (i+j) % 2 == 0:\n",
    "                    arr_6[i,j]=3\n",
    "                else:\n",
    "                    arr_6[i,j]=9\n",
    "    print(arr_6)\n",
    "create_checkboard_array(6,5)"
   ]
  },
  {
   "cell_type": "markdown",
   "metadata": {},
   "source": [
    "Q50. Write the NumPy program to create an empty and a full array.\n",
    " Expected Output-\n",
    "[[4.45057637e-308 1.78021527e-306 8.45549797e-307 1.37962049e-306]\n",
    "[1.11260619e-306 1.78010255e-306 9.79054228e-307 4.45057637e-308]\n",
    "[8.45596650e-307 9.34602321e-307 4.94065646e-322 0.00000000e+000]]\n",
    "[[6 6 6]\n",
    "[6 6 6]\n",
    "[6 6 6]]\n"
   ]
  },
  {
   "cell_type": "code",
   "execution_count": 2,
   "metadata": {},
   "outputs": [
    {
     "name": "stdout",
     "output_type": "stream",
     "text": [
      "[[3.56043053e-307 1.60219306e-306 7.56571288e-307 1.89146896e-307\n",
      "  1.37961302e-306]\n",
      " [1.05699242e-307 8.01097889e-307 1.78020169e-306 7.56601165e-307\n",
      "  1.02359984e-306]\n",
      " [1.33510679e-306 2.22522597e-306 1.24611674e-306 1.29061821e-306\n",
      "  6.23057349e-307]\n",
      " [2.22522597e-306 1.06810268e-306 6.23052935e-307 1.86920193e-306\n",
      "  9.34608432e-307]\n",
      " [2.22522597e-306 1.33511969e-306 8.34425615e-308 2.10081501e-312\n",
      "  1.60220800e-306]\n",
      " [1.42418172e-306 1.37961641e-306 1.22383391e-307 8.45610231e-307\n",
      "  3.20552953e-317]]\n",
      "[[6 6 6 6 6]\n",
      " [6 6 6 6 6]\n",
      " [6 6 6 6 6]\n",
      " [6 6 6 6 6]\n",
      " [6 6 6 6 6]\n",
      " [6 6 6 6 6]]\n"
     ]
    }
   ],
   "source": [
    "import numpy as np\n",
    "def create_empty_full(n,m,o):\n",
    "    print(np.empty((n,m)))\n",
    "    print(np.full((n,m),o))\n",
    "create_empty_full(6,5,6)"
   ]
  },
  {
   "cell_type": "markdown",
   "metadata": {},
   "source": [
    "Q51.Write the NumPy program to convert the values of Centigrade\n",
    "degrees into the Fahrenheit degrees and the centigrade values are\n",
    "stored in the NumPy array.\n",
    "\n",
    "Sample Array -[0, 12, 45.21 ,34, 99.91]\n",
    "Expected Output\n",
    "Values in Fahrenheit degrees-[ 0. 12. 45.21 34. 99.91]\n",
    "Values in Centigrade degrees-[-17.77777778 -11.11111111 7.33888889 1.11111111 37.72777778]\n"
   ]
  },
  {
   "cell_type": "code",
   "execution_count": 8,
   "metadata": {},
   "outputs": [
    {
     "name": "stdout",
     "output_type": "stream",
     "text": [
      "Values in Fahrenheit degrees [ 0.   12.   45.21 34.   99.91]\n",
      "Values in Fahrenheit degrees [-17.77777778 -11.11111111   7.33888889   1.11111111  37.72777778]\n"
     ]
    }
   ],
   "source": [
    "def convert_to_fahrenheit(arr):\n",
    "    \n",
    "    arr1=np.array(arr)\n",
    "    print('Values in Fahrenheit degrees',arr1)\n",
    "    \n",
    "    arr2=(5/9)*(arr1-32)\n",
    "    \n",
    "    print('Values in Fahrenheit degrees',arr2)\n",
    "\n",
    "convert_to_fahrenheit([ 0, 12, 45.21, 34, 99.91])\n",
    "\n",
    "    "
   ]
  },
  {
   "cell_type": "markdown",
   "metadata": {},
   "source": [
    "Q52. Write the NumPy program to find the real and imaginary parts of an\n",
    "array of complex numbers?\n",
    "Expected Output\n",
    "\n",
    "Original array [ 1.00000000+0.j 0.70710678+0.70710678j]\n",
    "Real part of the array-\n",
    "[ 1. 0.70710678]\n",
    "Imaginary part of the array-\n",
    "[ 0. 0.70710678]"
   ]
  },
  {
   "cell_type": "code",
   "execution_count": 11,
   "metadata": {},
   "outputs": [
    {
     "name": "stdout",
     "output_type": "stream",
     "text": [
      "Original Array X: (1+0j)\n",
      "Original Array Y: (0.9238795317361372+0.38268343204401234j)\n",
      "Real part of the array\n",
      "1.0\n",
      "0.9238795317361372\n",
      "imaginary part of the array\n",
      "0.0\n",
      "0.38268343204401234\n"
     ]
    }
   ],
   "source": [
    "import numpy as np\n",
    "x=np.sqrt(1+0j)\n",
    "y=np.sqrt(0.70710678+0.70710678j)\n",
    "print('Original Array X:',x)\n",
    "print('Original Array Y:',y)\n",
    "print('Real part of the array')\n",
    "print(x.real)\n",
    "print(y.real)\n",
    "print('imaginary part of the array')\n",
    "print(x.imag)\n",
    "print(y.imag)"
   ]
  },
  {
   "cell_type": "markdown",
   "metadata": {},
   "source": [
    "Q53.Write the NumPy program to test whether each element of a 1-D\n",
    "array is also present in the second array?"
   ]
  },
  {
   "cell_type": "code",
   "execution_count": 12,
   "metadata": {},
   "outputs": [
    {
     "name": "stdout",
     "output_type": "stream",
     "text": [
      "Array 1 [ 0 10 20 40 60]\n",
      "Array 2 [ 0 40]\n",
      "Common values between two arrays-\n"
     ]
    },
    {
     "data": {
      "text/plain": [
       "array([ True, False, False,  True, False])"
      ]
     },
     "execution_count": 12,
     "metadata": {},
     "output_type": "execute_result"
    }
   ],
   "source": [
    "arr1= np.array([0, 10, 20, 40, 60])\n",
    "print('Array 1',arr1 )\n",
    "arr2= np.array([0, 40])\n",
    "print('Array 2',arr2 )\n",
    "print('Common values between two arrays-')\n",
    "np.in1d(arr1,arr2)"
   ]
  },
  {
   "cell_type": "code",
   "execution_count": null,
   "metadata": {},
   "outputs": [],
   "source": [
    "Q54. Write the NumPy program to find common values between two\n",
    "arrays?\n",
    "Expected OutputArray1: [ 0 10 20 40 60]\n",
    "Array2: [10, 30, 40]\n",
    "Common values between two arrays-\n",
    "[10 40]"
   ]
  },
  {
   "cell_type": "code",
   "execution_count": 13,
   "metadata": {},
   "outputs": [
    {
     "name": "stdout",
     "output_type": "stream",
     "text": [
      "Array 1 [ 0 10 20 40 60]\n",
      "Array 2 [10 30 40]\n",
      "Common values between two arrays-\n"
     ]
    },
    {
     "data": {
      "text/plain": [
       "array([10, 40])"
      ]
     },
     "execution_count": 13,
     "metadata": {},
     "output_type": "execute_result"
    }
   ],
   "source": [
    "arr1= np.array([0, 10, 20, 40, 60])\n",
    "print('Array 1',arr1 )\n",
    "arr2= np.array([10,30,40])\n",
    "print('Array 2',arr2 )\n",
    "print('Common values between two arrays-')\n",
    "np.intersect1d(arr1,arr2)"
   ]
  },
  {
   "cell_type": "markdown",
   "metadata": {},
   "source": [
    "Q55. Write the NumPy program to get the unique elements of an array?\n",
    "Expected Output\n",
    "\n",
    "Original array- [10 10 20 20 30 30]\n",
    "Unique elements of the above array-\n",
    "[10 20 30]\n",
    "\n",
    "Original array-\n",
    "[[1 1]\n",
    "[2 3]]\n",
    "\n",
    "Unique elements of the above array-\n",
    "[1 2 3]"
   ]
  },
  {
   "cell_type": "code",
   "execution_count": 14,
   "metadata": {},
   "outputs": [
    {
     "name": "stdout",
     "output_type": "stream",
     "text": [
      "Original array:\n",
      "[10 10 20 20 30 30]\n",
      "Unique elements of the above array:\n",
      "[10 20 30]\n",
      "Original array:\n",
      "[[1 1]\n",
      " [2 3]]\n",
      "Unique elements of the above array:\n",
      "[1 2 3]\n"
     ]
    }
   ],
   "source": [
    "import numpy as np\n",
    "x = np.array([10, 10, 20, 20, 30, 30])\n",
    "print(\"Original array:\")\n",
    "print(x)\n",
    "print(\"Unique elements of the above array:\")\n",
    "print(np.unique(x))\n",
    "x = np.array([[1, 1], [2, 3]])\n",
    "print(\"Original array:\")\n",
    "print(x)\n",
    "print(\"Unique elements of the above array:\")\n",
    "print(np.unique(x))"
   ]
  },
  {
   "cell_type": "markdown",
   "metadata": {},
   "source": [
    "Q56. Write the NumPy program to find the set exclusive-or of two arrays.\n",
    "Set exclusive-or will return the sorted, unique values that are in\n",
    "only one (not both) of the input arrays?\n",
    "Array1- [ 0 10 20 40 60 80]\n",
    "Array2- [10, 30, 40, 50, 70]\n",
    "Unique values that are in only one (not both) of the input arrays-\n",
    "[ 0 20 30 50 60 70 80]\n"
   ]
  },
  {
   "cell_type": "code",
   "execution_count": 15,
   "metadata": {},
   "outputs": [
    {
     "name": "stdout",
     "output_type": "stream",
     "text": [
      "Array1:  [ 0 10 20 40 60 80]\n",
      "Array2:  [10, 30, 40, 50, 70]\n",
      "Unique values that are in only one (not both) of the input arrays:\n",
      "[ 0 20 30 50 60 70 80]\n"
     ]
    }
   ],
   "source": [
    "import numpy as np\n",
    "array1 = np.array([0, 10, 20, 40, 60, 80])\n",
    "print(\"Array1: \",array1)\n",
    "array2 = [10, 30, 40, 50, 70]\n",
    "print(\"Array2: \",array2)\n",
    "print(\"Unique values that are in only one (not both) of the input arrays:\")\n",
    "print(np.setxor1d(array1, array2))"
   ]
  },
  {
   "cell_type": "markdown",
   "metadata": {},
   "source": [
    "Q57. Write the NumPy program to test if all elements in an array\n",
    "evaluate to True ?\n",
    "\n",
    "Note: 0 evaluates to False in NumPy."
   ]
  },
  {
   "cell_type": "code",
   "execution_count": 16,
   "metadata": {},
   "outputs": [
    {
     "name": "stdout",
     "output_type": "stream",
     "text": [
      "False\n",
      "True\n",
      "False\n",
      "True\n"
     ]
    }
   ],
   "source": [
    "import numpy as np\n",
    "print(np.all([[True,False],[True,True]]))\n",
    "print(np.all([[True,True],[True,True]]))\n",
    "print(np.all([10, 20, 0, -50]))\n",
    "print(np.all([10, 20, -50]))"
   ]
  },
  {
   "cell_type": "markdown",
   "metadata": {},
   "source": [
    "Q58 Write the NumPy program to test whether any array element along\n",
    "the given axis evaluates to True?\n",
    "Note: 0 evaluates to False in NumPy."
   ]
  },
  {
   "cell_type": "code",
   "execution_count": 17,
   "metadata": {},
   "outputs": [
    {
     "name": "stdout",
     "output_type": "stream",
     "text": [
      "False\n",
      "True\n",
      "True\n",
      "True\n"
     ]
    }
   ],
   "source": [
    "import numpy as np\n",
    "print(np.any([[False,False],[False,False]]))\n",
    "print(np.any([[True,True],[True,True]]))\n",
    "print(np.any([10, 20, 0, -50]))\n",
    "print(np.any([10, 20, -50]))"
   ]
  },
  {
   "cell_type": "markdown",
   "metadata": {},
   "source": [
    "Q59. Write the NumPy program to construct an array by repeating?\n",
    "Sample array- [1, 2, 3, 4]\n",
    "Expected OutputOriginal array\n",
    "[1, 2, 3, 4]\n",
    "Repeating 2 times\n",
    "[1 2 3 4 1 2 3 4]\n",
    "P a g e 15 | 44\n",
    "Repeating 3 times\n",
    "[1 2 3 4 1 2 3 4 1 2 3 4]"
   ]
  },
  {
   "cell_type": "code",
   "execution_count": 19,
   "metadata": {},
   "outputs": [
    {
     "name": "stdout",
     "output_type": "stream",
     "text": [
      "Original array\n",
      "[1, 2, 3, 4]\n",
      "Repeating 2 times\n",
      "[1 2 3 4 1 2 3 4]\n",
      "Repeating 3 times\n",
      "[1 2 3 4 1 2 3 4 1 2 3 4]\n"
     ]
    }
   ],
   "source": [
    "import numpy as np\n",
    "a = [1, 2, 3, 4]\n",
    "print(\"Original array\")\n",
    "print(a)\n",
    "print(\"Repeating 2 times\")\n",
    "x = np.tile(a, 2)\n",
    "print(x)\n",
    "print(\"Repeating 3 times\")\n",
    "x = np.tile(a, 3)\n",
    "print(x)"
   ]
  },
  {
   "cell_type": "markdown",
   "metadata": {},
   "source": [
    "Q60. Write the NumPy program to find the indices of the maximum and\n",
    "minimum values with the given axis of an array?\n",
    "Original array- [1 2 3 4 5 6]\n",
    "Maximum Values- 5\n",
    "Minimum Values- 0\n"
   ]
  },
  {
   "cell_type": "code",
   "execution_count": 22,
   "metadata": {},
   "outputs": [
    {
     "name": "stdout",
     "output_type": "stream",
     "text": [
      "Original array:  [1 2 3 4 5 6]\n",
      "Maximum Values:  5\n",
      "Minimum Values:  0\n"
     ]
    }
   ],
   "source": [
    "import numpy as np\n",
    "x = np.array([1, 2, 3, 4, 5, 6])\n",
    "print(\"Original array: \",x)\n",
    "print(\"Maximum Values: \",np.argmax(x))\n",
    "print(\"Minimum Values: \",np.argmin(x))"
   ]
  },
  {
   "cell_type": "markdown",
   "metadata": {},
   "source": [
    "Q61. Write the NumPy program compare two arrays using numpy?\n",
    "Array a- [1 2]\n",
    "Array b- [4 5]\n",
    "a > b\n",
    "[False False]\n",
    "a >= b\n",
    "[False False]\n",
    "a < b\n",
    "[ True True]\n",
    "a <= b\n",
    "[ True True]"
   ]
  },
  {
   "cell_type": "code",
   "execution_count": 27,
   "metadata": {},
   "outputs": [
    {
     "name": "stdout",
     "output_type": "stream",
     "text": [
      "Array a:  [1 2]\n",
      "Array b:  [4 5]\n",
      "a > b\n",
      "[False False]\n",
      "a >= b\n",
      "[False False]\n",
      "a < b\n",
      "[ True  True]\n",
      "a <= b\n",
      "[ True  True]\n"
     ]
    }
   ],
   "source": [
    "import numpy as np\n",
    "a = np.array([1, 2])\n",
    "b = np.array([4, 5])\n",
    "print(\"Array a: \",a)\n",
    "print(\"Array b: \",b)\n",
    "print(\"a > b\")\n",
    "print(np.greater(a, b))\n",
    "print(\"a >= b\")\n",
    "print(np.greater_equal(a, b))\n",
    "print(\"a < b\")\n",
    "print(np.less(a, b))\n",
    "print(\"a <= b\")\n",
    "print(np.less_equal(a, b))"
   ]
  },
  {
   "cell_type": "markdown",
   "metadata": {},
   "source": [
    "Q62. Write the NumPy program to sort an along the first, last axis of an\n",
    "array?\n",
    "Sample array- [[2,5],[4,4]]\n",
    "Expected OutputOriginal array:\n",
    "[[4 6]\n",
    "[2 1]]\n",
    "Sort along the first axis:\n",
    "[[2 1]\n",
    "[4 6]]\n",
    "P a g e 16 | 44\n",
    "Sort along the last axis-\n",
    "[[1 2]\n",
    "[4 6]]\n"
   ]
  },
  {
   "cell_type": "code",
   "execution_count": 34,
   "metadata": {},
   "outputs": [
    {
     "name": "stdout",
     "output_type": "stream",
     "text": [
      "Original array: \n",
      "[[4 6]\n",
      " [2 1]]\n",
      "Sort along the first axis: \n",
      "[[2 1]\n",
      " [4 6]]\n",
      "Sort along the last axis: \n",
      "[[1 2]\n",
      " [4 6]]\n"
     ]
    }
   ],
   "source": [
    "import numpy as np\n",
    "a = np.array([[4, 6],[2, 1]])\n",
    "print(\"Original array: \")\n",
    "print(a)\n",
    "print(\"Sort along the first axis: \")\n",
    "x = np.sort(a, axis=0)\n",
    "print(x)\n",
    "print(\"Sort along the last axis: \")\n",
    "y = np.sort(x, axis=1)\n",
    "print(y)"
   ]
  },
  {
   "cell_type": "markdown",
   "metadata": {},
   "source": [
    "Q63. Write the NumPy program to sort pairs of first name and last name\n",
    "return their indices (first by last name, then by first name).\n",
    "first_names - ( Betsey, Shelley, Lanell, Genesis, Margery )\n",
    "last_names - ( Battle, Brien, Plotner, Stahl, Woolum )\n",
    "Expected Output-\n",
    "[1 3 2 4 0]"
   ]
  },
  {
   "cell_type": "code",
   "execution_count": 39,
   "metadata": {},
   "outputs": [
    {
     "name": "stdout",
     "output_type": "stream",
     "text": [
      "[0 3 2 4 1]\n"
     ]
    }
   ],
   "source": [
    "a=('Betsey', 'Shelley', 'Lanell', 'Genesis', 'Margery')\n",
    "b=('Battle', 'Brien', 'Plotner', 'Stahl', 'Woolum')\n",
    "print(np.lexsort((b,a)))"
   ]
  },
  {
   "cell_type": "markdown",
   "metadata": {},
   "source": [
    "Q64. Write the NumPy program to get the values and indices of the\n",
    "elements that are bigger than 10 in the given array?\n",
    "Original array-\n",
    "[[ 0 10 20]\n",
    "[20 30 40]]\n",
    "Values bigger than 10 = [20 20 30 40]\n",
    "Their indices are (array([0, 1, 1, 1]), array([2, 0, 1, 2]))\n"
   ]
  },
  {
   "cell_type": "code",
   "execution_count": 44,
   "metadata": {},
   "outputs": [
    {
     "name": "stdout",
     "output_type": "stream",
     "text": [
      "Values bigger than 10 = [20 20 30 40]\n",
      "(array([0, 1, 1, 1], dtype=int64), array([2, 0, 1, 2], dtype=int64))\n"
     ]
    }
   ],
   "source": [
    "x=np.array([[ 0, 10, 20],[20, 30, 40]])\n",
    "print(\"Values bigger than 10 =\", x[x>10])\n",
    "print(np.nonzero(x>10))"
   ]
  },
  {
   "cell_type": "markdown",
   "metadata": {},
   "source": [
    "Q65. Write the NumPy program to find the memory size of a NumPy\n",
    "array?\n",
    "Expected Output128 bytes\n"
   ]
  },
  {
   "cell_type": "code",
   "execution_count": 49,
   "metadata": {},
   "outputs": [
    {
     "name": "stdout",
     "output_type": "stream",
     "text": [
      "128 bytes\n"
     ]
    }
   ],
   "source": [
    "n = np.zeros((4,4))\n",
    "print('{} bytes'.format(n.itemsize * n.size))"
   ]
  },
  {
   "cell_type": "markdown",
   "metadata": {},
   "source": [
    "Q66. Write the NumPy program to create an array of ones and an array\n",
    "of zeros?\n",
    "\n",
    "Expected OutputCreate an array of zeros\n",
    "Default type is float\n",
    "\n",
    "[[ 0. 0.]]\n",
    "Type changes to int\n",
    "[[0 0]]\n",
    "Create an array of ones\n",
    "Default type is float\n",
    "[[ 1. 1.]]\n",
    "Type changes to int\n",
    "[[1 1]]"
   ]
  },
  {
   "cell_type": "code",
   "execution_count": 68,
   "metadata": {},
   "outputs": [
    {
     "name": "stdout",
     "output_type": "stream",
     "text": [
      "[0. 0.]\n",
      "[1. 1.]\n",
      "[[0 0]]\n",
      "[[1 1]]\n"
     ]
    }
   ],
   "source": [
    "a=np.zeros(1*2)\n",
    "b=np.ones(1*2)\n",
    "print(a)\n",
    "print(b)\n",
    "a=np.zeros((1,2),dtype=np.int)\n",
    "print(a)\n",
    "b=np.ones((1,2),dtype=np.int)\n",
    "print(b)"
   ]
  },
  {
   "cell_type": "markdown",
   "metadata": {},
   "source": [
    "Q67. Write the NumPy program to change the dimension of an array?\n",
    "Expected Output6 rows and 0 columns\n",
    "(6,)\n",
    "(3, 3) -> 3 rows and 3 columns\n",
    "[[1 2 3]\n",
    "[4 5 6]\n",
    "[7 8 9]]\n",
    "Change array shape to (3, 3) -> 3 rows and 3 columns\n",
    "[[1 2 3]\n",
    "[4 5 6]\n",
    "[7 8 9]]\n"
   ]
  },
  {
   "cell_type": "code",
   "execution_count": 74,
   "metadata": {},
   "outputs": [
    {
     "name": "stdout",
     "output_type": "stream",
     "text": [
      "6 rows and 0 columns\n",
      "(6,)\n",
      "(3, 3) -> 3 rows and 3 columns \n",
      "[[1 2 3]\n",
      " [4 5 6]\n",
      " [7 8 9]]\n",
      "Change array shape to (3, 3) -> 3 rows and 3 columns \n",
      "[[1 2 3]\n",
      " [4 5 6]\n",
      " [7 8 9]]\n"
     ]
    }
   ],
   "source": [
    "import numpy as np\n",
    "x = np.array([1, 2, 3, 4, 5, 6])\n",
    "print(\"6 rows and 0 columns\")\n",
    "print(x.shape)\n",
    "\n",
    "y = np.array([[1, 2, 3],[4, 5, 6],[7,8,9]])\n",
    "print(\"(3, 3) -> 3 rows and 3 columns \")\n",
    "print(y)\n",
    "\n",
    "x = np.array([1,2,3,4,5,6,7,8,9])\n",
    "print(\"Change array shape to (3, 3) -> 3 rows and 3 columns \")\n",
    "x.shape = (3, 3)\n",
    "print(x)"
   ]
  },
  {
   "cell_type": "markdown",
   "metadata": {},
   "source": [
    "Q68. Write the NumPy program to create a new shape to an array\n",
    "without changing its data ?\n",
    "Reshape 3x2-\n",
    "[[1 2]\n",
    "[3 4]\n",
    "[5 6]]\n",
    "Reshape 2x3-\n",
    "[[1 2 3]\n",
    "[4 5 6]]"
   ]
  },
  {
   "cell_type": "code",
   "execution_count": 77,
   "metadata": {},
   "outputs": [
    {
     "name": "stdout",
     "output_type": "stream",
     "text": [
      "Reshape 3x2:\n",
      "[[1 2]\n",
      " [3 4]\n",
      " [5 6]]\n",
      "Reshape 2x3:\n",
      "[[1 2 3]\n",
      " [4 5 6]]\n"
     ]
    }
   ],
   "source": [
    "x = np.array([1, 2, 3, 4, 5, 6])\n",
    "import numpy as np\n",
    "x = np.array([1, 2, 3, 4, 5, 6])\n",
    "y = np.reshape(x,(3,2))\n",
    "print(\"Reshape 3x2:\")\n",
    "print(y)\n",
    "z = np.reshape(x,(2,3))\n",
    "print(\"Reshape 2x3:\")\n",
    "print(z)"
   ]
  },
  {
   "cell_type": "markdown",
   "metadata": {},
   "source": [
    "Q69. Write the NumPy program to create a new array of 3*5, filled with\n",
    "2?\n",
    "Expected Output-\n",
    "[[2 2 2 2 2]\n",
    "[2 2 2 2 2]\n",
    "[2 2 2 2 2]]\n",
    "[[2 2 2 2 2]\n",
    "[2 2 2 2 2]\n",
    "[2 2 2 2 2]]"
   ]
  },
  {
   "cell_type": "code",
   "execution_count": 78,
   "metadata": {},
   "outputs": [
    {
     "name": "stdout",
     "output_type": "stream",
     "text": [
      "[[2 2 2 2 2]\n",
      " [2 2 2 2 2]\n",
      " [2 2 2 2 2]]\n",
      "[[2 2 2 2 2]\n",
      " [2 2 2 2 2]\n",
      " [2 2 2 2 2]]\n"
     ]
    }
   ],
   "source": [
    "import numpy as np\n",
    "#using no.full\n",
    "x = np.full((3, 5), 2, dtype=np.uint)\n",
    "print(x)\n",
    "#using no.ones\n",
    "y = np.ones([3, 5], dtype=np.uint) *2\n",
    "print(y)"
   ]
  },
  {
   "cell_type": "markdown",
   "metadata": {},
   "source": [
    "Q70. Write the NumPy program to create a 3-D array with ones on a\n",
    "diagonal and zeros elsewhere?\n",
    "Expected Output-\n",
    "[[ 1. 0. 0.]\n",
    "[ 0. 1. 0.]\n",
    "[ 0. 0. 1.]]"
   ]
  },
  {
   "cell_type": "code",
   "execution_count": 79,
   "metadata": {},
   "outputs": [
    {
     "data": {
      "text/plain": [
       "array([[1., 0., 0.],\n",
       "       [0., 1., 0.],\n",
       "       [0., 0., 1.]])"
      ]
     },
     "execution_count": 79,
     "metadata": {},
     "output_type": "execute_result"
    }
   ],
   "source": [
    "np.eye(3)"
   ]
  },
  {
   "cell_type": "code",
   "execution_count": null,
   "metadata": {},
   "outputs": [],
   "source": [
    "Q71. Write the NumPy program to split an array of 14 elements into the\n",
    "3 arrays and each of which has 2, 4, and 8 elements in original\n",
    "order?\n",
    "Expected OutputOriginal array- [ 1 2 3 4 5 6 7 8 9 10 11 12 13 14]\n",
    "After splitting-\n",
    "[array([1, 2]), array([3, 4, 5, 6]), array([ 7, 8, 9, 10, 11, 12, 13, 14])]\n"
   ]
  },
  {
   "cell_type": "code",
   "execution_count": 88,
   "metadata": {},
   "outputs": [
    {
     "name": "stdout",
     "output_type": "stream",
     "text": [
      "Original array: [ 1  2  3  4  5  6  7  8  9 10 11 12 13 14]\n",
      "After splitting:\n",
      "[array([1]), array([2, 3, 4, 5, 6]), array([ 7,  8,  9, 10, 11, 12, 13, 14])]\n"
     ]
    }
   ],
   "source": [
    "import numpy as np\n",
    "x = np.arange(1,15)\n",
    "print(\"Original array:\",x)\n",
    "print(\"After splitting:\")\n",
    "print(np.split(x, [1,6]))"
   ]
  },
  {
   "cell_type": "markdown",
   "metadata": {},
   "source": [
    "Q72. Write the NumPy program to split of an array of shape 4x4 it into\n",
    "two arrays along the second axis ?\n",
    "\n",
    "Sample array -\n",
    "[[ 0 1 2 3]\n",
    "[ 4 5 6 7]\n",
    "[ 8 9 10 11]\n",
    "[12 13 14 15]]\n",
    "\n",
    "Expected Output-\n",
    "\n",
    "[array([[ 0, 1],\n",
    "[ 4, 5],\n",
    "[ 8, 9],\n",
    "[12, 13]]), array([[ 2, 3],\n",
    "[ 6, 7],\n",
    "[10, 11],\n",
    "[14, 15]]), array([], shape=(4, 0), dtype=int64)]"
   ]
  },
  {
   "cell_type": "code",
   "execution_count": 95,
   "metadata": {},
   "outputs": [
    {
     "name": "stdout",
     "output_type": "stream",
     "text": [
      "Original array: [[ 0  1  2  3]\n",
      " [ 4  5  6  7]\n",
      " [ 8  9 10 11]\n",
      " [12 13 14 15]]\n",
      "After splitting:\n",
      "[array([[ 0,  1],\n",
      "       [ 4,  5],\n",
      "       [ 8,  9],\n",
      "       [12, 13]]), array([[ 2,  3],\n",
      "       [ 6,  7],\n",
      "       [10, 11],\n",
      "       [14, 15]])]\n"
     ]
    }
   ],
   "source": [
    "import numpy as np\n",
    "x = np.arange(16).reshape(4,4)\n",
    "print(\"Original array:\",x)\n",
    "print(\"After splitting:\")\n",
    "print(np.hsplit(x,[2]))"
   ]
  },
  {
   "cell_type": "markdown",
   "metadata": {},
   "source": [
    "Q73. Write the NumPy program to create a 5x5 matrix with row values\n",
    "ranging from 0 to 4?\n",
    "Original array-\n",
    "[[ 0. 0. 0. 0. 0.]\n",
    "[ 0. 0. 0. 0. 0.]\n",
    "[ 0. 0. 0. 0. 0.]\n",
    "[ 0. 0. 0. 0. 0.]\n",
    "[ 0. 0. 0. 0. 0.]]\n",
    "Row values ranging from 0 to 4.\n",
    "[[ 0. 1. 2. 3. 4.]\n",
    "[ 0. 1. 2. 3. 4.]\n",
    "[ 0. 1. 2. 3. 4.]\n",
    "[ 0. 1. 2. 3. 4.]\n",
    "[ 0. 1. 2. 3. 4.]]"
   ]
  },
  {
   "cell_type": "code",
   "execution_count": 100,
   "metadata": {},
   "outputs": [
    {
     "name": "stdout",
     "output_type": "stream",
     "text": [
      "[[0. 1. 2. 3. 4.]\n",
      " [0. 1. 2. 3. 4.]\n",
      " [0. 1. 2. 3. 4.]\n",
      " [0. 1. 2. 3. 4.]\n",
      " [0. 1. 2. 3. 4.]]\n"
     ]
    }
   ],
   "source": [
    "a=np.zeros((5,5))\n",
    "a += np.arange(5)\n",
    "print(a)"
   ]
  },
  {
   "cell_type": "markdown",
   "metadata": {},
   "source": [
    "Q74. Write the NumPy program to create an array of zeros and three\n",
    "column types (integer, float, character)?\n",
    "\n",
    "Expected Output-\n",
    "[(1, 2., b'Albert Einstein') (2, 2., b'Edmond Halley')\n",
    "(3, 3., b'Gertrude B. Elion')]"
   ]
  },
  {
   "cell_type": "code",
   "execution_count": 105,
   "metadata": {},
   "outputs": [
    {
     "name": "stdout",
     "output_type": "stream",
     "text": [
      "[(1, 2.0, 'Albert Einstein'), (2, 2.0, 'Edmond Halley'), (3, 3.0, 'Gertrude B. Elion')]\n"
     ]
    }
   ],
   "source": [
    "a=np.zeros((3,3),dtype=('i4,f4,a40'))\n",
    "new_data = [(1, 2., \"Albert Einstein\"), (2, 2., \"Edmond Halley\"), (3, 3., \"Gertrude B. Elion\")]\n",
    "a=new_data\n",
    "print(a)"
   ]
  },
  {
   "cell_type": "markdown",
   "metadata": {},
   "source": [
    "Q75. Write the NumPy program to remove the negative values in the\n",
    "numpy array with 0?\n",
    "\n",
    "Expected OutputOriginal array:\n",
    "[-1 -4 0 2 3 4 5 -6]\n",
    "Replace the negative values of the said array with 0-\n",
    "[0 0 0 2 3 4 5 0]"
   ]
  },
  {
   "cell_type": "code",
   "execution_count": 107,
   "metadata": {},
   "outputs": [
    {
     "data": {
      "text/plain": [
       "array([0, 0, 0, 2, 3, 4, 5, 0])"
      ]
     },
     "execution_count": 107,
     "metadata": {},
     "output_type": "execute_result"
    }
   ],
   "source": [
    "x=np.array([-1 ,-4, 0, 2, 3, 4, 5, -6])\n",
    "x[x<0]=0\n",
    "x"
   ]
  },
  {
   "cell_type": "markdown",
   "metadata": {},
   "source": [
    "Q76. Write the NumPy program to compute the histogram of a set of\n",
    "data?\n"
   ]
  },
  {
   "cell_type": "code",
   "execution_count": 113,
   "metadata": {},
   "outputs": [
    {
     "data": {
      "image/png": "[encoded data removed]",
      "text/plain": [
       "<Figure size 432x288 with 1 Axes>"
      ]
     },
     "metadata": {},
     "output_type": "display_data"
    }
   ],
   "source": [
    "import matplotlib.pyplot as plt\n",
    "plt.hist([1,2,1],bins=[0,1,2,3,4,5])\n",
    "plt.show()"
   ]
  },
  {
   "cell_type": "markdown",
   "metadata": {},
   "source": [
    "Q77. Write the NumPy program to compute the line graph of a set of\n",
    "data?"
   ]
  },
  {
   "cell_type": "code",
   "execution_count": 116,
   "metadata": {},
   "outputs": [
    {
     "name": "stderr",
     "output_type": "stream",
     "text": [
      "C:\\ProgramData\\Anaconda3\\lib\\site-packages\\matplotlib\\figure.py:459: UserWarning: matplotlib is currently using a non-GUI backend, so cannot show the figure\n",
      "  \"matplotlib is currently using a non-GUI backend, \"\n"
     ]
    },
    {
     "data": {
      "image/png": "[encoded data removed]",
      "text/plain": [
       "<Figure size 432x288 with 1 Axes>"
      ]
     },
     "metadata": {},
     "output_type": "display_data"
    }
   ],
   "source": [
    "arr=np.random.randint(1,50,10)\n",
    "y,x=np.histogram(arr,bins=np.arange(50))\n",
    "fig,ax=plt.subplots()\n",
    "ax.plot(x[:-1],y)\n",
    "fig.show()"
   ]
  },
  {
   "cell_type": "markdown",
   "metadata": {},
   "source": [
    "Q78. Write the NumPy program to extracts all the elements from second\n",
    "row from given (4x4) array?\n",
    "Sample OutputOriginal array-\n",
    "[[ 0 1 2 3]\n",
    "[ 4 5 6 7]\n",
    "[ 8 9 10 11]\n",
    "[12 13 14 15]]\n",
    "Extracted data- Second row\n",
    "[4 5 6 7]\n"
   ]
  },
  {
   "cell_type": "code",
   "execution_count": 118,
   "metadata": {},
   "outputs": [
    {
     "data": {
      "text/plain": [
       "array([4, 5, 6, 7])"
      ]
     },
     "execution_count": 118,
     "metadata": {},
     "output_type": "execute_result"
    }
   ],
   "source": [
    "a=np.array([[ 0, 1, 2, 3]\n",
    ",[ 4, 5, 6, 7]\n",
    ",[ 8, 9 ,10 ,11]\n",
    ",[12, 13, 14, 15]])\n",
    "a[1]"
   ]
  },
  {
   "cell_type": "markdown",
   "metadata": {},
   "source": [
    "Q79. Write the NumPy program to extract first element of the second\n",
    "row and fourth element of fourth row from a given (4x4) array?\n",
    "\n",
    "Sample OutputOriginal array-\n",
    "[[ 0 1 2 3]\n",
    "[ 4 5 6 7]\n",
    "[ 8 9 10 11]\n",
    "[12 13 14 15]]\n",
    "Extracted data- First element of the second row and fourth element of fourth row\n",
    "[ 4 15]"
   ]
  },
  {
   "cell_type": "code",
   "execution_count": 132,
   "metadata": {},
   "outputs": [
    {
     "data": {
      "text/plain": [
       "array([ 4, 15])"
      ]
     },
     "execution_count": 132,
     "metadata": {},
     "output_type": "execute_result"
    }
   ],
   "source": [
    "a=np.arange(16).reshape(4,4)\n",
    "a[[1,3], [0,3]]"
   ]
  },
  {
   "cell_type": "markdown",
   "metadata": {},
   "source": [
    "Q80. Write the NumPy program to add two arrays A and B of sizes (3,3)\n",
    "and (,3)?\n",
    "\n",
    "Sample Output\n",
    "\n",
    "Original arrayArray-1\n",
    "[[1 1 1]\n",
    "[1 1 1]\n",
    "[1 1 1]]\n",
    "\n",
    "Array-2\n",
    "[0 1 2]\n",
    "\n",
    "A + B:\n",
    "[[1 2 3]\n",
    "[1 2 3]\n",
    "[1 2 3]]"
   ]
  },
  {
   "cell_type": "code",
   "execution_count": 138,
   "metadata": {},
   "outputs": [
    {
     "name": "stdout",
     "output_type": "stream",
     "text": [
      "[[1. 2. 3.]\n",
      " [1. 2. 3.]\n",
      " [1. 2. 3.]]\n"
     ]
    }
   ],
   "source": [
    "a=np.ones((3,3))\n",
    "b=np.arange(3)\n",
    "print(a+b)"
   ]
  },
  {
   "cell_type": "markdown",
   "metadata": {},
   "source": [
    "Q81. Write the NumPy program to copy data from a given array to another array?\n",
    "\n",
    "Sample Output\n",
    "\n",
    "Original array-\n",
    "[24 27 30 29 18 14]\n",
    "Copy of the said array-\n",
    "[24 27 30 29 18 14]\n"
   ]
  },
  {
   "cell_type": "code",
   "execution_count": 139,
   "metadata": {},
   "outputs": [
    {
     "name": "stdout",
     "output_type": "stream",
     "text": [
      "[24 27 30 29 18 14]\n"
     ]
    }
   ],
   "source": [
    "a=np.array([24, 27, 30, 29, 18, 14])\n",
    "b=a\n",
    "print(b)"
   ]
  },
  {
   "cell_type": "markdown",
   "metadata": {},
   "source": [
    "Q82. Write the NumPy program to calculate the sum of all columns of\n",
    "the 2D numpy array?\n",
    "Sample OutputOriginal array-\n",
    "[[ 0 1 2 3 4 5 6 7 8]\n",
    "[ 9 10 11 12 13 14 15 16 17]\n",
    "[18 19 20 21 22 23 24 25 26]\n",
    "[27 28 29 30 31 32 33 34 35]]\n",
    "Sum of all columns-\n",
    "[54 58 62 66 70 74 78 82 86]\n"
   ]
  },
  {
   "cell_type": "code",
   "execution_count": 141,
   "metadata": {},
   "outputs": [
    {
     "name": "stdout",
     "output_type": "stream",
     "text": [
      "[54 58 62 66 70 74 78 82 86]\n"
     ]
    }
   ],
   "source": [
    "a=np.arange(36).reshape(4,9)\n",
    "print(np.sum(a,axis=0))"
   ]
  },
  {
   "cell_type": "markdown",
   "metadata": {},
   "source": [
    "Q83. Write the NumPy program to calculate averages without NaNs\n",
    "along the given array?\n",
    "\n",
    "Sample OutputOriginal array-\n",
    "[[10. 20. 30.]\n",
    "[40. 50. nan]\n",
    "[nan 6. nan]\n",
    "[nan nan nan]]\n",
    "\n",
    "Averages without NaNs along the said array-\n",
    "[20. 45. 6. nan]"
   ]
  },
  {
   "cell_type": "code",
   "execution_count": 144,
   "metadata": {},
   "outputs": [
    {
     "name": "stdout",
     "output_type": "stream",
     "text": [
      "[20. 45.  6. nan]\n"
     ]
    }
   ],
   "source": [
    "arr1 = np.array([[10, 20 ,30], [40, 50, np.nan], [np.nan, 6, np.nan], [np.nan, np.nan, np.nan]])\n",
    "temp = np.ma.masked_array(arr1,np.isnan(arr1))\n",
    "result=np.mean(temp,axis=1)\n",
    "print(result.filled(np.nan))"
   ]
  },
  {
   "cell_type": "markdown",
   "metadata": {},
   "source": [
    "Q84. Create two arrays of six elements. Write the NumPy program to\n",
    "count the number of instances of a value occurring in one array on\n",
    "the condition of another array.\n",
    "\n",
    "Sample OutputOriginal arrays-\n",
    "[ 10 -10 10 -10 -10 10]\n",
    "[0.85 0.45 0.9 0.8 0.12 0.6 ]\n",
    "Number of instances of a value occurring in one array on the condition of another\n",
    "array: 3\n"
   ]
  },
  {
   "cell_type": "code",
   "execution_count": 146,
   "metadata": {},
   "outputs": [
    {
     "name": "stdout",
     "output_type": "stream",
     "text": [
      "3\n"
     ]
    }
   ],
   "source": [
    "x = np.array([10,-10,10,-10,-10,10])\n",
    "y = np.array([.85,.45,.9,.8,.12,.6])\n",
    "\n",
    "result=np.sum((x==10) & (y > .5))\n",
    "print(result)"
   ]
  },
  {
   "cell_type": "markdown",
   "metadata": {},
   "source": [
    "Q85. Write the NumPy program to convert a Python dictionary to a\n",
    "Numpy ndarray ?\n",
    "\n",
    "Original dictionary-\n",
    "{'column0': {'a': 1, 'b': 0.0, 'c': 0.0, 'd': 2.0},\n",
    "'column1': {'a': 3.0, 'b': 1, 'c': 0.0, 'd': -1.0},\n",
    "'column2': {'a': 4, 'b': 1, 'c': 5.0, 'd': -1.0},\n",
    "'column3': {'a': 3.0, 'b': -1.0, 'c': -1.0, 'd': -1.0}}\n",
    "Type: <class 'dict'>\n",
    "\n",
    "    ndarray-\n",
    "[[ 1. 0. 0. 2.]\n",
    "[ 3. 1. 0. -1.]\n",
    "[ 4. 1. 5. -1.]\n",
    "[ 3. -1. -1. -1.]]\n",
    "Type: <class 'numpy.ndarray'>"
   ]
  },
  {
   "cell_type": "code",
   "execution_count": 154,
   "metadata": {},
   "outputs": [
    {
     "name": "stdout",
     "output_type": "stream",
     "text": [
      "[[ 1.  0.  0.  2.]\n",
      " [ 3.  1.  0. -1.]\n",
      " [ 4.  1.  5. -1.]\n",
      " [ 3. -1. -1. -1.]]\n"
     ]
    }
   ],
   "source": [
    "from ast import literal_eval\n",
    "udict = \"\"\"{\"column0\":{\"a\":1,\"b\":0.0,\"c\":0.0,\"d\":2.0},\n",
    "            \"column1\":{\"a\":3.0,\"b\":1,\"c\":0.0,\"d\":-1.0},\n",
    "            \"column2\":{\"a\":4,\"b\":1,\"c\":5.0,\"d\":-1.0},\n",
    "            \"column3\":{\"a\":3.0,\"b\":-1.0,\"c\":-1.0,\"d\":-1.0}\n",
    "        }\"\"\"\n",
    "t = literal_eval(udict)\n",
    "arr=np.array([[v[j] for j in ['a','b','c','d']] for k,v in t.items()])\n",
    "print(arr)"
   ]
  },
  {
   "cell_type": "markdown",
   "metadata": {},
   "source": [
    "Q86. Write the Numpy program to find and store the non-zero unique\n",
    "rows in an array after comparing each row with other row in the\n",
    "given matrix?\n",
    "\n",
    "Original array-\n",
    "[[ 1 1 0]\n",
    "[ 0 0 0]\n",
    "[ 0 2 3]\n",
    "[ 0 0 0]\n",
    "[ 0 -1 1]\n",
    "[ 0 0 0]]\n",
    "Non-zero unique rows-\n",
    "[[ 1 1 0]\n",
    "[ 0 2 3]\n",
    "[ 0 -1 1]]\n",
    "\n"
   ]
  },
  {
   "cell_type": "code",
   "execution_count": 160,
   "metadata": {},
   "outputs": [
    {
     "name": "stdout",
     "output_type": "stream",
     "text": [
      "[[1 1 0]\n",
      " [0 0 0]\n",
      " [0 2 3]\n",
      " [0 0 0]]\n"
     ]
    }
   ],
   "source": [
    "arra = np.array([[ 1,  1,  0],\n",
    "                 [ 0,  0,  0],\n",
    "                 [ 0,  2,  3],\n",
    "                 [ 0,  0,  0],\n",
    "                 [ 0, -1,  1],\n",
    "                 [ 0,  0,  0]])\n",
    "\n",
    "tmp={(0,0,0)}\n",
    "\n",
    "idx=[]\n",
    "\n",
    "for i,j in enumerate(map(tuple,arr)):\n",
    "    if j != tmp:\n",
    "        idx.append(i)\n",
    "print(arra[idx])"
   ]
  },
  {
   "cell_type": "markdown",
   "metadata": {},
   "source": [
    "Q87. Write the NumPy program to multiply the matrix by another matrix\n",
    "of complex numbers and create a new matrix of complex\n",
    "numbers?\n",
    "\n",
    "Sample outputFirst array-\n",
    "[ 1.+2.j 3.+4.j]\n",
    "Second array-\n",
    "[ 5.+6.j 7.+8.j]\n",
    "Product of above two arrays-\n",
    "(70-8j)\n"
   ]
  },
  {
   "cell_type": "code",
   "execution_count": 163,
   "metadata": {},
   "outputs": [
    {
     "name": "stdout",
     "output_type": "stream",
     "text": [
      "First array:\n",
      "[1.+2.j 3.+4.j]\n",
      "Second array:\n",
      "[5.+6.j 7.+8.j]\n",
      "Product of above two arrays:\n",
      "(70-8j)\n"
     ]
    }
   ],
   "source": [
    "import numpy as np\n",
    "x = np.array([1+2j,3+4j])\n",
    "print(\"First array:\")\n",
    "print(x)\n",
    "y = np.array([5+6j,7+8j])\n",
    "print(\"Second array:\")\n",
    "print(y)\n",
    "z = np.vdot(x, y)\n",
    "print(\"Product of above two arrays:\")\n",
    "print(z)"
   ]
  },
  {
   "cell_type": "code",
   "execution_count": null,
   "metadata": {},
   "outputs": [],
   "source": [
    "Q88. Write a NumPy program to generate the matrix product of two\n",
    "Arrays?\n",
    "Sample OutputMatrices and vectors.\n",
    "x-\n",
    "[[1, 0], \n",
    " [1, 1]]\n",
    "y-\n",
    "[[3, 1], \n",
    " [2, 2]]\n",
    "\n",
    "Matrix product of above two arrays-\n",
    "\n",
    "[[3 1]\n",
    "[5 3]]"
   ]
  },
  {
   "cell_type": "code",
   "execution_count": 164,
   "metadata": {},
   "outputs": [
    {
     "name": "stdout",
     "output_type": "stream",
     "text": [
      "[[3 1]\n",
      " [5 3]]\n"
     ]
    }
   ],
   "source": [
    "x = [[1, 0], [1, 1]]\n",
    "y = [[3, 1], [2, 2]]\n",
    "print(np.matmul(x,y))"
   ]
  },
  {
   "cell_type": "markdown",
   "metadata": {},
   "source": [
    "Q89. Write the NumPy program to find roots of the following\n",
    "Polynomials?\n",
    "a) (x2- 4x + 7)\n",
    "b) x4- 11x3 + 9x2 + 11x ? 10\n",
    "Sample outputRoots of the first polynomial-\n",
    "[ 1. 1.]\n",
    "Roots of the second polynomial-\n",
    "[ 11.04461946+0.j -0.87114210+0.j 0.91326132+0.4531004j\n",
    "0.91326132-0.4531004j ]\n"
   ]
  },
  {
   "cell_type": "code",
   "execution_count": 166,
   "metadata": {},
   "outputs": [
    {
     "name": "stdout",
     "output_type": "stream",
     "text": [
      "[2.+1.73205081j 2.-1.73205081j]\n",
      "[ 9.97739366+0.j          1.9206355 +0.j         -0.44901458+0.56588568j\n",
      " -0.44901458-0.56588568j]\n"
     ]
    }
   ],
   "source": [
    "print(np.roots([1, -4, 7]))\n",
    "print(np.roots([1, -11,9,11,10 ]))"
   ]
  },
  {
   "cell_type": "markdown",
   "metadata": {},
   "source": [
    "Q90. Write the NumPy program to calculate inverse of sine, cosine,\n",
    "and inverse tangent for all elements in a given array?\n",
    "\n",
    "Sample output\n",
    "Inverse sine- [-1.57079633 0. 1.57079633]\n",
    "Inverse cosine- [3.14159265 1.57079633 0. ]\n",
    "Inverse tangent- [-0.78539816 0. 0.78539816]\n"
   ]
  },
  {
   "cell_type": "code",
   "execution_count": 167,
   "metadata": {},
   "outputs": [
    {
     "name": "stdout",
     "output_type": "stream",
     "text": [
      "Inverse sine: [-1.57079633  0.          1.57079633]\n",
      "Inverse cosine: [3.14159265 1.57079633 0.        ]\n",
      "Inverse tangent: [-0.78539816  0.          0.78539816]\n"
     ]
    }
   ],
   "source": [
    "x = np.array([-1., 0, 1.])\n",
    "print(\"Inverse sine:\", np.arcsin(x))\n",
    "print(\"Inverse cosine:\", np.arccos(x))\n",
    "print(\"Inverse tangent:\", np.arctan(x))"
   ]
  },
  {
   "cell_type": "markdown",
   "metadata": {},
   "source": [
    "Q91. Write the NumPy program to calculate the difference between in\n",
    "neighbouring elements, element-wise of a given array?\n",
    "\n",
    "Sample outputOriginal array-\n",
    "[1 3 5 7 0]\n",
    "Difference between neighbouring elements, element-wise of the said array-\n",
    "[ 2 2 2 -7]"
   ]
  },
  {
   "cell_type": "code",
   "execution_count": 172,
   "metadata": {},
   "outputs": [
    {
     "data": {
      "text/plain": [
       "array([ 2,  2,  2, -7])"
      ]
     },
     "execution_count": 172,
     "metadata": {},
     "output_type": "execute_result"
    }
   ],
   "source": [
    "a=np.array([1, 3, 5, 7 ,0])\n",
    "b=np.diff(a)\n",
    "b"
   ]
  },
  {
   "cell_type": "markdown",
   "metadata": {},
   "source": [
    "Q92. Write the Python program to find the maximum and the minimum\n",
    "value of a given flattened array?\n",
    "Expected OutputOriginal flattened array-\n",
    "[[0 1]\n",
    "[2 3]]\n",
    "Maximum value of the above flattened array3\n",
    "Minimum value of the above flattened array0"
   ]
  },
  {
   "cell_type": "code",
   "execution_count": 176,
   "metadata": {},
   "outputs": [
    {
     "name": "stdout",
     "output_type": "stream",
     "text": [
      "Maximum value of the above flattened array 3\n",
      "Minimum value of the above flattened array 0\n"
     ]
    }
   ],
   "source": [
    "a=np.arange(4).reshape(2,2)\n",
    "print('Maximum value of the above flattened array',a.max())\n",
    "print('Minimum value of the above flattened array',a.min())"
   ]
  },
  {
   "cell_type": "markdown",
   "metadata": {},
   "source": [
    "Q93. Write the NumPy program to calculate the difference between in\n",
    "the maximum and the minimum values of a given array along the\n",
    "second axis ?\n",
    "\n",
    "Expected OutputOriginal array-\n",
    "[[ 0 1 2 3 4 5]\n",
    "[ 6 7 8 9 10 11]]\n",
    "Difference between the maximum and the minimum values of the said array-\n",
    "[5 5]\n"
   ]
  },
  {
   "cell_type": "code",
   "execution_count": 177,
   "metadata": {},
   "outputs": [
    {
     "name": "stdout",
     "output_type": "stream",
     "text": [
      "\n",
      "Original array:\n",
      "[[ 0  1  2  3  4  5]\n",
      " [ 6  7  8  9 10 11]]\n",
      "\n",
      "Difference between the maximum and the minimum values of the said array:\n",
      "[5 5]\n"
     ]
    }
   ],
   "source": [
    "import numpy as np\n",
    "x = np.arange(12).reshape((2, 6))\n",
    "print(\"\\nOriginal array:\")\n",
    "print(x)\n",
    "r1 = np.ptp(x, 1)\n",
    "r2 = np.amax(x, 1) - np.amin(x, 1)\n",
    "assert np.allclose(r1, r2)\n",
    "print(\"\\nDifference between the maximum and the minimum values of the said array:\")\n",
    "print(r1)"
   ]
  },
  {
   "cell_type": "markdown",
   "metadata": {},
   "source": [
    "Q94. Write the NumPy program to compute the weighted of the given\n",
    "array ?\n",
    "Sample OutputOriginal array-\n",
    "[0 1 2 3 4]\n",
    "Weighted average of the said array2.6666666666666665"
   ]
  },
  {
   "cell_type": "code",
   "execution_count": 180,
   "metadata": {},
   "outputs": [
    {
     "name": "stdout",
     "output_type": "stream",
     "text": [
      "\n",
      "Original array:\n",
      "[0 1 2 3 4]\n",
      "\n",
      "Weighted average of the said array:\n",
      "2.6666666666666665\n"
     ]
    }
   ],
   "source": [
    "import numpy as np\n",
    "x = np.arange(5)\n",
    "print(\"\\nOriginal array:\")\n",
    "print(x)\n",
    "weights = np.arange(1, 6)\n",
    "r1 = np.average(x, weights=weights)\n",
    "print(\"\\nWeighted average of the said array:\")\n",
    "print(r1)"
   ]
  },
  {
   "cell_type": "code",
   "execution_count": null,
   "metadata": {},
   "outputs": [],
   "source": [
    "Q95. Write the NumPy program to compute the mean, standard\n",
    "deviation, and the variance of a given array along the second\n",
    "axis?\n",
    "\n",
    "Sample output\n",
    "\n",
    "Original array-\n",
    "[0 1 2 3 4 5]\n",
    "Mean- 2.5\n",
    "std- 1\n",
    "variance- 2.9166666666666665"
   ]
  },
  {
   "cell_type": "code",
   "execution_count": 184,
   "metadata": {},
   "outputs": [
    {
     "name": "stdout",
     "output_type": "stream",
     "text": [
      "Original array-\n",
      " [0 1 2 3 4 5]\n",
      "Mean- 2.5\n",
      "std- 1.707825127659933\n",
      "variance- 2.9166666666666665\n"
     ]
    }
   ],
   "source": [
    "x = np.arange(6)\n",
    "print('Original array-\\n',x)\n",
    "print('Mean-',x.mean())\n",
    "print('std-',x.std())\n",
    "print('variance-',x.var())"
   ]
  },
  {
   "cell_type": "code",
   "execution_count": null,
   "metadata": {},
   "outputs": [],
   "source": [
    "Q96. Write the Numpy program to compute the covariance matrix of the\n",
    "two given arrays?\n",
    "\n",
    "Sample OutputOriginal array1-\n",
    "[0 1 2]\n",
    "Original array1-\n",
    "[2 1 0]\n",
    "Covariance matrix of the said arrays-\n",
    "[[ 1. -1.]\n",
    "[-1. 1.]]"
   ]
  },
  {
   "cell_type": "code",
   "execution_count": 187,
   "metadata": {},
   "outputs": [
    {
     "name": "stdout",
     "output_type": "stream",
     "text": [
      "\n",
      "Original array1:\n",
      "[0 1 2]\n",
      "\n",
      "Original array1:\n",
      "[2 1 0]\n",
      "\n",
      "Covariance matrix of the said arrays:\n",
      " [[ 1. -1.]\n",
      " [-1.  1.]]\n"
     ]
    }
   ],
   "source": [
    "x = np.array([0, 1, 2])\n",
    "y = np.array([2, 1, 0])\n",
    "print(\"\\nOriginal array1:\")\n",
    "print(x)\n",
    "print(\"\\nOriginal array1:\")\n",
    "print(y)\n",
    "print(\"\\nCovariance matrix of the said arrays:\\n\",np.cov(x, y))"
   ]
  },
  {
   "cell_type": "markdown",
   "metadata": {},
   "source": [
    "Q97. Write a NumPy program to compute the cross-correlation of two\n",
    "given arrays ?\n",
    "Sample OutputOriginal array1-\n",
    "P a g e 28 | 44\n",
    "[0 1 3]\n",
    "Original array1-\n",
    "[2 4 5]\n",
    "Cross-correlation of the said arrays-\n",
    "[ [ 2.33333333 2.16666667 ]\n",
    " [ 2.16666667 2.33333333 ] ]"
   ]
  },
  {
   "cell_type": "code",
   "execution_count": 188,
   "metadata": {},
   "outputs": [
    {
     "name": "stdout",
     "output_type": "stream",
     "text": [
      "\n",
      "Original array1:\n",
      "[0 1 3]\n",
      "\n",
      "Original array1:\n",
      "[2 4 5]\n",
      "\n",
      "Cross-correlation of the said arrays:\n",
      " [[2.33333333 2.16666667]\n",
      " [2.16666667 2.33333333]]\n"
     ]
    }
   ],
   "source": [
    "import numpy as np\n",
    "x = np.array([0, 1, 3])\n",
    "y = np.array([2, 4, 5])\n",
    "print(\"\\nOriginal array1:\")\n",
    "print(x)\n",
    "print(\"\\nOriginal array1:\")\n",
    "print(y)\n",
    "print(\"\\nCross-correlation of the said arrays:\\n\",np.cov(x, y))"
   ]
  },
  {
   "cell_type": "markdown",
   "metadata": {},
   "source": [
    "Q98. Write the NumPy program to compute Pearson product-moment\n",
    "correlation coefficients of two given arrays?\n",
    "Sample OutputOriginal array1-\n",
    "[0 1 3]\n",
    "Original array1-\n",
    "[2 4 5]\n",
    "Pearson product-moment correlation coefficients of the said arrays-\n",
    "[[1. 0.92857143]\n",
    "[0.92857143 1. ]]"
   ]
  },
  {
   "cell_type": "code",
   "execution_count": 190,
   "metadata": {},
   "outputs": [
    {
     "name": "stdout",
     "output_type": "stream",
     "text": [
      "\n",
      "Original array1:\n",
      "[0 1 3]\n",
      "\n",
      "Original array1:\n",
      "[2 4 5]\n",
      "\n",
      "Pearson product-moment correlation coefficients of the said arrays:\n",
      " [[1.         0.92857143]\n",
      " [0.92857143 1.        ]]\n"
     ]
    }
   ],
   "source": [
    "import numpy as np\n",
    "x = np.array([0, 1, 3])\n",
    "y = np.array([2, 4, 5])\n",
    "print(\"\\nOriginal array1:\")\n",
    "print(x)\n",
    "print(\"\\nOriginal array1:\")\n",
    "print(y)\n",
    "print(\"\\nPearson product-moment correlation coefficients of the said arrays:\\n\",np.corrcoef(x, y))"
   ]
  },
  {
   "cell_type": "markdown",
   "metadata": {},
   "source": [
    "Q99. Write the python program to count the number of occurrences of\n",
    "each value in a given array of non-negative integers?\n",
    " Note: bincount() Function- It count the occurrence of each value in an array of the\n",
    "non- negative integers in the range of the array between the minimum and maximum values\n",
    "including the values that did not occur.\n",
    "Sample OutputOriginal array-\n",
    "[0, 1, 6, 1, 4, 1, 2, 2, 7]\n",
    "Number of occurrences of each value in array-\n",
    "[1 3 2 0 1 0 1 1]\n"
   ]
  },
  {
   "cell_type": "code",
   "execution_count": 191,
   "metadata": {},
   "outputs": [
    {
     "name": "stdout",
     "output_type": "stream",
     "text": [
      "Original array:\n",
      "[0, 1, 6, 1, 4, 1, 2, 2, 7]\n",
      "Number of occurrences of each value in array: \n",
      "[1 3 2 0 1 0 1 1]\n"
     ]
    }
   ],
   "source": [
    "import numpy as np\n",
    "array1 = [0, 1, 6, 1, 4, 1, 2, 2, 7] \n",
    "print(\"Original array:\")\n",
    "print(array1)\n",
    "print(\"Number of occurrences of each value in array: \")\n",
    "print(np.bincount(array1))"
   ]
  },
  {
   "cell_type": "markdown",
   "metadata": {},
   "source": [
    "Q100. Write a Numpy program to compute the histogram of nums\n",
    "against the bins?\n",
    "Sample Output\n",
    "\n",
    "nums- [0.5 0.7 1. 1.2 1.3 2.1]"
   ]
  },
  {
   "cell_type": "code",
   "execution_count": 192,
   "metadata": {},
   "outputs": [
    {
     "name": "stdout",
     "output_type": "stream",
     "text": [
      "nums:  [0.5 0.7 1.  1.2 1.3 2.1]\n",
      "bins:  [0 1 2 3]\n",
      "Result: (array([2, 3, 1], dtype=int64), array([0, 1, 2, 3]))\n"
     ]
    },
    {
     "data": {
      "image/png": "[encoded data removed]",
      "text/plain": [
       "<Figure size 432x288 with 1 Axes>"
      ]
     },
     "metadata": {},
     "output_type": "display_data"
    }
   ],
   "source": [
    "import numpy as np\n",
    "import matplotlib.pyplot as plt\n",
    "nums = np.array([0.5, 0.7, 1.0, 1.2, 1.3, 2.1])\n",
    "bins = np.array([0, 1, 2, 3])\n",
    "print(\"nums: \",nums)\n",
    "print(\"bins: \",bins)\n",
    "print(\"Result:\", np.histogram(nums, bins))\n",
    "plt.hist(nums, bins=bins)\n",
    "plt.show()"
   ]
  },
  {
   "cell_type": "markdown",
   "metadata": {},
   "source": [
    "Q101. Write the Python program to add, subtract, multiply and divide two pandas series ?\n",
    "\n",
    "Sample Series- [2, 4, 6, 8, 10], [1, 3, 5, 7, 9]\n"
   ]
  },
  {
   "cell_type": "markdown",
   "metadata": {},
   "source": [
    "Q101. Write the Python program to add, subtract, multiply and divide\n",
    "two pandas series ?\n",
    "Sample Series- [2, 4, 6, 8, 10], [1, 3, 5, 7, 9]\n"
   ]
  },
  {
   "cell_type": "code",
   "execution_count": 200,
   "metadata": {},
   "outputs": [
    {
     "name": "stdout",
     "output_type": "stream",
     "text": [
      "add\n",
      "0     3\n",
      "1     7\n",
      "2    11\n",
      "3    15\n",
      "4    19\n",
      "dtype: int64\n",
      "subtract\n",
      "0    1\n",
      "1    1\n",
      "2    1\n",
      "3    1\n",
      "4    1\n",
      "dtype: int64\n",
      "multiply\n",
      "0     2\n",
      "1    12\n",
      "2    30\n",
      "3    56\n",
      "4    90\n",
      "dtype: int64\n",
      "Division\n",
      "0    2.000000\n",
      "1    1.333333\n",
      "2    1.200000\n",
      "3    1.142857\n",
      "4    1.111111\n",
      "dtype: float64\n"
     ]
    }
   ],
   "source": [
    "import pandas as pd\n",
    "ds1=pd.Series([2, 4, 6, 8, 10])\n",
    "ds2=pd.Series([1,3,5,7,9])\n",
    "print('add')\n",
    "print(ds1+ds2)\n",
    "print('subtract')\n",
    "print(ds1-ds2)\n",
    "print('multiply')\n",
    "print(ds1*ds2)\n",
    "print('Division')\n",
    "print(ds1/ds2)\n"
   ]
  },
  {
   "cell_type": "markdown",
   "metadata": {},
   "source": [
    "Q102. Write a Python program to convert a dictionary to the Pandas\n",
    "Series?\n",
    "Sample SeriesOriginal dictionary-\n",
    "{'a': 100, 'b': 200, 'c': 300, 'd': 400, 'e': 800}"
   ]
  },
  {
   "cell_type": "code",
   "execution_count": 202,
   "metadata": {},
   "outputs": [
    {
     "data": {
      "text/plain": [
       "a    100\n",
       "b    200\n",
       "c    300\n",
       "d    400\n",
       "e    800\n",
       "dtype: int64"
      ]
     },
     "execution_count": 202,
     "metadata": {},
     "output_type": "execute_result"
    }
   ],
   "source": [
    "b={'a': 100, 'b': 200, 'c': 300, 'd': 400, 'e': 800}\n",
    "a=pd.Series(b)\n",
    "a"
   ]
  },
  {
   "cell_type": "markdown",
   "metadata": {},
   "source": [
    "Q103. Write a python program to change the data type of given acolumn or a Series?\n",
    "\n",
    "Sample Series\n",
    "\n",
    "Original Data Series0 100\n",
    "1 200\n",
    "2 python\n",
    "3 300.12\n",
    "4 400\n",
    "dtype- object\n",
    "\n",
    "Change the said data type to numeric\n",
    "0 100.00\n",
    "1 200.00\n",
    "2 NaN\n",
    "3 300.12\n",
    "4 400.00\n",
    "dtype- float64"
   ]
  },
  {
   "cell_type": "code",
   "execution_count": 204,
   "metadata": {},
   "outputs": [
    {
     "name": "stdout",
     "output_type": "stream",
     "text": [
      "0    100.00\n",
      "1    200.00\n",
      "2       NaN\n",
      "3    300.12\n",
      "4    400.00\n",
      "dtype: float64\n"
     ]
    }
   ],
   "source": [
    "s1 = pd.Series(['100', '200', 'python', '300.12', '400'])\n",
    "s2=pd.to_numeric(s1,errors='coerce')\n",
    "print(s2)"
   ]
  },
  {
   "cell_type": "markdown",
   "metadata": {},
   "source": [
    "Q104. Write the python pandas program to convert the first column of a\n",
    "DataFrame as a Series?\n",
    "Sample Output\n",
    "\n",
    "Original DataFrame\n",
    "col1 col2 col3\n",
    "0 1 4 7\n",
    "1 2 5 5\n",
    "2 3 6 8\n",
    "3 4 9 12\n",
    "4 7 5 1\n",
    "5 11 0 11\n",
    "\n",
    "1st column as a Series\n",
    "0 1\n",
    "1 2\n",
    "2 3\n",
    "3 4\n",
    "4 7\n",
    "5 11\n",
    "Name- col1, dtype- int64\n",
    "<class 'pandas.core.series.Series'>"
   ]
  },
  {
   "cell_type": "code",
   "execution_count": 209,
   "metadata": {},
   "outputs": [
    {
     "name": "stderr",
     "output_type": "stream",
     "text": [
      "C:\\ProgramData\\Anaconda3\\lib\\site-packages\\ipykernel_launcher.py:3: DeprecationWarning: \n",
      ".ix is deprecated. Please use\n",
      ".loc for label based indexing or\n",
      ".iloc for positional indexing\n",
      "\n",
      "See the documentation here:\n",
      "http://pandas.pydata.org/pandas-docs/stable/indexing.html#ix-indexer-is-deprecated\n",
      "  This is separate from the ipykernel package so we can avoid doing imports until\n"
     ]
    },
    {
     "data": {
      "text/plain": [
       "0     1\n",
       "1     2\n",
       "2     3\n",
       "3     4\n",
       "4     7\n",
       "5    11\n",
       "Name: col1, dtype: int64"
      ]
     },
     "execution_count": 209,
     "metadata": {},
     "output_type": "execute_result"
    }
   ],
   "source": [
    "d = {'col1': [1, 2, 3, 4, 7, 11], 'col2': [4, 5, 6, 9, 5, 0], 'col3': [7, 5, 8, 12, 1,11]}\n",
    "df=pd.DataFrame(d)\n",
    "s1=df.ix[:,0]\n",
    "s1"
   ]
  },
  {
   "cell_type": "markdown",
   "metadata": {},
   "source": [
    "Q105. Write a pandas program to create the mean and standard\n",
    "deviation of the data of a given Series?\n",
    "Sample OutputOriginal Data Series\n",
    "0 1\n",
    "1 2\n",
    "2 3\n",
    "3 4\n",
    "4 5\n",
    "5 6\n",
    "6 7\n",
    "7 8\n",
    "8 9\n",
    "9 5\n",
    "10 3\n",
    "dtype- int64\n",
    "Mean of the said Data Series4.81818181818\n",
    "Standard deviation of the said Data Series2.52262489555"
   ]
  },
  {
   "cell_type": "code",
   "execution_count": 210,
   "metadata": {},
   "outputs": [
    {
     "name": "stdout",
     "output_type": "stream",
     "text": [
      "mean 4.818181818181818\n",
      "std 2.522624895547565\n"
     ]
    }
   ],
   "source": [
    "s = pd.Series(data = [1,2,3,4,5,6,7,8,9,5,3])\n",
    "print('mean',s.mean())\n",
    "print('std',s.std())"
   ]
  },
  {
   "cell_type": "markdown",
   "metadata": {},
   "source": [
    "Q106. Write a pandas program to get powers of an array values\n",
    "element-wise?\n",
    "Note First array elements raised the powers from the second array.\n",
    "Sample data: \n",
    "{'X ':[78,85,96,80,86], ' Y ':[84,94,89,83,86],'Z':[86,97,96,72,83]}\n",
    "\n",
    "Expected Output:\n",
    "    X Y Z\n",
    "0 78 84 86\n",
    "1 85 94 97\n",
    "2 96 89 96\n",
    "3 80 83 72\n",
    "4 86 86 83"
   ]
  },
  {
   "cell_type": "code",
   "execution_count": 211,
   "metadata": {},
   "outputs": [
    {
     "name": "stdout",
     "output_type": "stream",
     "text": [
      "    X   Y   Z\n",
      "0  78  84  86\n",
      "1  85  94  97\n",
      "2  96  89  96\n",
      "3  80  83  72\n",
      "4  86  86  83\n"
     ]
    }
   ],
   "source": [
    "df = pd.DataFrame({'X':[78,85,96,80,86], 'Y':[84,94,89,83,86],'Z':[86,97,96,72,83]});\n",
    "print(df)"
   ]
  },
  {
   "cell_type": "markdown",
   "metadata": {},
   "source": [
    "Q107. Write the pandas program to get the first 3 rows of a given\n",
    "DataFrame?\n",
    "Sample Python dictionary data and list labels\n",
    "exam_data = {'name': ['Anastasia', 'Dima', 'Katherine', 'James', 'Emily', 'Michael',\n",
    "                      'Matthew', 'Laura', 'Kevin', 'Jonas'],\n",
    "            'score': [12.5, 9, 16.5, np.nan, 9, 20, 14.5, np.nan, 8, 19],\n",
    "            'attempts'- [1, 3, 2, 3, 2, 3, 1, 1, 2, 1],\n",
    "            'qualify'- [ 'yes', 'no', 'yes' , 'no', ' no ', ' yes ', 'yes', 'no', 'no', 'yes' ] }\n",
    "labels = ['a', 'b', 'c', 'd', 'e', 'f', 'g', 'h', 'i', 'j' ]\n",
    "Expected OutputFirst three rows of the data frame\n",
    "attempts name qualify score\n",
    "a 1 Anastasia yes 12.5\n",
    "b 3 Dima no 9.0\n",
    "c 2 Katherine yes 16.5\n"
   ]
  },
  {
   "cell_type": "code",
   "execution_count": 216,
   "metadata": {},
   "outputs": [
    {
     "data": {
      "text/html": [
       "<div>\n",
       "<style scoped>\n",
       "    .dataframe tbody tr th:only-of-type {\n",
       "        vertical-align: middle;\n",
       "    }\n",
       "\n",
       "    .dataframe tbody tr th {\n",
       "        vertical-align: top;\n",
       "    }\n",
       "\n",
       "    .dataframe thead th {\n",
       "        text-align: right;\n",
       "    }\n",
       "</style>\n",
       "<table border=\"1\" class=\"dataframe\">\n",
       "  <thead>\n",
       "    <tr style=\"text-align: right;\">\n",
       "      <th></th>\n",
       "      <th>name</th>\n",
       "      <th>score</th>\n",
       "      <th>attempts</th>\n",
       "      <th>qualify</th>\n",
       "    </tr>\n",
       "  </thead>\n",
       "  <tbody>\n",
       "    <tr>\n",
       "      <th>a</th>\n",
       "      <td>Anastasia</td>\n",
       "      <td>12.5</td>\n",
       "      <td>1</td>\n",
       "      <td>yes</td>\n",
       "    </tr>\n",
       "    <tr>\n",
       "      <th>b</th>\n",
       "      <td>Dima</td>\n",
       "      <td>9.0</td>\n",
       "      <td>3</td>\n",
       "      <td>no</td>\n",
       "    </tr>\n",
       "    <tr>\n",
       "      <th>c</th>\n",
       "      <td>Katherine</td>\n",
       "      <td>16.5</td>\n",
       "      <td>2</td>\n",
       "      <td>yes</td>\n",
       "    </tr>\n",
       "  </tbody>\n",
       "</table>\n",
       "</div>"
      ],
      "text/plain": [
       "        name  score  attempts qualify\n",
       "a  Anastasia   12.5         1     yes\n",
       "b       Dima    9.0         3      no\n",
       "c  Katherine   16.5         2     yes"
      ]
     },
     "execution_count": 216,
     "metadata": {},
     "output_type": "execute_result"
    }
   ],
   "source": [
    "exam_data = {'name': ['Anastasia', 'Dima', 'Katherine', 'James', 'Emily', 'Michael',\n",
    "                      'Matthew', 'Laura', 'Kevin', 'Jonas'],\n",
    "            'score': [12.5, 9, 16.5, np.nan, 9, 20, 14.5, np.nan, 8, 19],\n",
    "            'attempts': [1, 3, 2, 3, 2, 3, 1, 1, 2, 1],\n",
    "            'qualify':[ 'yes', 'no', 'yes' , 'no', ' no ', ' yes ', 'yes', 'no', 'no', 'yes' ] }\n",
    "labels = ['a', 'b', 'c', 'd', 'e', 'f', 'g', 'h', 'i', 'j' ]\n",
    "df=pd.DataFrame(exam_data,index=labels)\n",
    "df[:3]"
   ]
  },
  {
   "cell_type": "markdown",
   "metadata": {},
   "source": [
    "Q108: Write the pandas program to select the specified columns and\n",
    " the rows from a given data frame?\n",
    "Sample Python dictionary data and list labelsSelect 'name' and 'score' columns in rows 1, 3, 5, 6 from the following data frame.\n",
    "exam_data = {'name ': [ 'Anastasia', 'Dima', 'Katherine', 'James', 'Emily', 'Michael',\n",
    "                        'Matthew', 'Laura', 'Kevin', 'Jonas'],\n",
    "            'score': [12.5, 9, 16.5, np.nan, 9, 20, 14.5, np.nan, 8, 19],\n",
    "            'attempts': [1, 3, 2, 3, 2, 3, 1, 1, 2, 1],\n",
    "            'qualify': ['yes', 'no', 'yes', 'no', 'no', 'yes', 'yes', 'no', 'no', 'yes'] }\n",
    "labels = ['a ', ' b ', ' c ', ' d ', ' e ', ' f ', ' g ', 'h', 'i', 'j']\n",
    "Expected Output Select specific columns and rows:\n",
    "  name score\n",
    "b Dima 9.0\n",
    "d James NaN\n",
    "f Michael 20.0\n",
    "g Matthew 14.5"
   ]
  },
  {
   "cell_type": "code",
   "execution_count": 221,
   "metadata": {},
   "outputs": [
    {
     "name": "stdout",
     "output_type": "stream",
     "text": [
      "      name  score\n",
      "b     Dima    9.0\n",
      "d    James    NaN\n",
      "f  Michael   20.0\n",
      "g  Matthew   14.5\n"
     ]
    }
   ],
   "source": [
    "exam_data  = {'name': ['Anastasia', 'Dima', 'Katherine', 'James', 'Emily', 'Michael', 'Matthew', 'Laura', 'Kevin', 'Jonas'],\n",
    "        'score': [12.5, 9, 16.5, np.nan, 9, 20, 14.5, np.nan, 8, 19],\n",
    "        'attempts': [1, 3, 2, 3, 2, 3, 1, 1, 2, 1],\n",
    "        'qualify': ['yes', 'no', 'yes', 'no', 'no', 'yes', 'yes', 'no', 'no', 'yes']}\n",
    "labels = ['a', 'b', 'c', 'd', 'e', 'f', 'g', 'h', 'i', 'j']\n",
    "\n",
    "df = pd.DataFrame(exam_data , index=labels)\n",
    "\n",
    "print(df.iloc[[1, 3, 5, 6], [0, 1]])"
   ]
  },
  {
   "cell_type": "markdown",
   "metadata": {},
   "source": [
    "Q109. Write the pandas program to calculate mean score for each\n",
    "different student in DataFrame?\n",
    "Sample Python dictionary data and list labelsexam_data = {'name': ['Anastasia', 'Dima', 'Katherine', 'James', 'Emily', 'Michael',\n",
    "'Matthew', 'Laura', 'Kevin', 'Jonas'],\n",
    "'score': [12.5, 9, 16.5, np.nan, 9, 20, 14.5, np.nan, 8, 19],\n",
    "'attempts'- [1, 3, 2, 3, 2, 3, 1, 1, 2, 1],\n",
    "'qualify'- ['yes', 'no', ' yes ', ' no ', ' no ', ' yes ', ' yes ', ' no ', ' no ', ' yes '] }\n",
    "labels = ['a', 'b', 'c', 'd', 'e', 'f', 'g', 'h', 'i', 'j']\n",
    "Expected OutputMean score for each different student in data frame:\n",
    "13.5625\n"
   ]
  },
  {
   "cell_type": "code",
   "execution_count": 222,
   "metadata": {},
   "outputs": [
    {
     "data": {
      "text/plain": [
       "13.5625"
      ]
     },
     "execution_count": 222,
     "metadata": {},
     "output_type": "execute_result"
    }
   ],
   "source": [
    "exam_data  = {'name': ['Anastasia', 'Dima', 'Katherine', 'James', 'Emily', 'Michael', 'Matthew', 'Laura', 'Kevin', 'Jonas'],\n",
    "        'score': [12.5, 9, 16.5, np.nan, 9, 20, 14.5, np.nan, 8, 19],\n",
    "        'attempts': [1, 3, 2, 3, 2, 3, 1, 1, 2, 1],\n",
    "        'qualify': ['yes', 'no', 'yes', 'no', 'no', 'yes', 'yes', 'no', 'no', 'yes']}\n",
    "labels = ['a', 'b', 'c', 'd', 'e', 'f', 'g', 'h', 'i', 'j']\n",
    "\n",
    "df = pd.DataFrame(exam_data , index=labels)\n",
    "\n",
    "df['score'].mean()"
   ]
  },
  {
   "cell_type": "markdown",
   "metadata": {},
   "source": [
    "Q110. Write the Pandas program to rename columns of a given\n",
    "DataFrame ?\n",
    "Sample dataOriginal data frame\n",
    "col1 col2 col3\n",
    "0 1 4 7\n",
    "1 2 5 8\n",
    "2 3 6 9\n",
    "New data frame after renaming columns:\n",
    "Column1 Column2 Column3\n",
    "0 1 4 7\n",
    "1 2 5 8\n",
    "2 3 6 9"
   ]
  },
  {
   "cell_type": "code",
   "execution_count": 229,
   "metadata": {},
   "outputs": [
    {
     "name": "stdout",
     "output_type": "stream",
     "text": [
      "   col1  col2  col3\n",
      "0     1     4     7\n",
      "1     2     5     8\n",
      "2     3     6     9\n"
     ]
    },
    {
     "data": {
      "text/html": [
       "<div>\n",
       "<style scoped>\n",
       "    .dataframe tbody tr th:only-of-type {\n",
       "        vertical-align: middle;\n",
       "    }\n",
       "\n",
       "    .dataframe tbody tr th {\n",
       "        vertical-align: top;\n",
       "    }\n",
       "\n",
       "    .dataframe thead th {\n",
       "        text-align: right;\n",
       "    }\n",
       "</style>\n",
       "<table border=\"1\" class=\"dataframe\">\n",
       "  <thead>\n",
       "    <tr style=\"text-align: right;\">\n",
       "      <th></th>\n",
       "      <th>Column1</th>\n",
       "      <th>Column2</th>\n",
       "      <th>Column3</th>\n",
       "    </tr>\n",
       "  </thead>\n",
       "  <tbody>\n",
       "    <tr>\n",
       "      <th>0</th>\n",
       "      <td>1</td>\n",
       "      <td>4</td>\n",
       "      <td>7</td>\n",
       "    </tr>\n",
       "    <tr>\n",
       "      <th>1</th>\n",
       "      <td>2</td>\n",
       "      <td>5</td>\n",
       "      <td>8</td>\n",
       "    </tr>\n",
       "    <tr>\n",
       "      <th>2</th>\n",
       "      <td>3</td>\n",
       "      <td>6</td>\n",
       "      <td>9</td>\n",
       "    </tr>\n",
       "  </tbody>\n",
       "</table>\n",
       "</div>"
      ],
      "text/plain": [
       "   Column1  Column2  Column3\n",
       "0        1        4        7\n",
       "1        2        5        8\n",
       "2        3        6        9"
      ]
     },
     "execution_count": 229,
     "metadata": {},
     "output_type": "execute_result"
    }
   ],
   "source": [
    "d = {'col1': [1, 2, 3], 'col2': [4, 5, 6], 'col3': [7, 8, 9]}\n",
    "df=pd.DataFrame(d,columns=('col1','col2','col3'))\n",
    "print(df)\n",
    "df.rename(columns={'col1':'Column1','col2':'Column2','col3':'Column3'})"
   ]
  },
  {
   "cell_type": "markdown",
   "metadata": {},
   "source": [
    "Q111. Write a pandas program to count city-wise number of people from\n",
    "a given of data set (city, name of the person)?\n",
    "\n",
    "Sample data-\n",
    "\n",
    "city Number of people\n",
    "0 California 4\n",
    "1 Georgia 2\n",
    "2 Los Angeles 4\n"
   ]
  },
  {
   "cell_type": "code",
   "execution_count": 234,
   "metadata": {},
   "outputs": [
    {
     "data": {
      "text/html": [
       "<div>\n",
       "<style scoped>\n",
       "    .dataframe tbody tr th:only-of-type {\n",
       "        vertical-align: middle;\n",
       "    }\n",
       "\n",
       "    .dataframe tbody tr th {\n",
       "        vertical-align: top;\n",
       "    }\n",
       "\n",
       "    .dataframe thead th {\n",
       "        text-align: right;\n",
       "    }\n",
       "</style>\n",
       "<table border=\"1\" class=\"dataframe\">\n",
       "  <thead>\n",
       "    <tr style=\"text-align: right;\">\n",
       "      <th></th>\n",
       "      <th>city</th>\n",
       "      <th>Number Of People</th>\n",
       "    </tr>\n",
       "  </thead>\n",
       "  <tbody>\n",
       "    <tr>\n",
       "      <th>0</th>\n",
       "      <td>California</td>\n",
       "      <td>4</td>\n",
       "    </tr>\n",
       "    <tr>\n",
       "      <th>1</th>\n",
       "      <td>Georgia</td>\n",
       "      <td>2</td>\n",
       "    </tr>\n",
       "    <tr>\n",
       "      <th>2</th>\n",
       "      <td>Los Angeles</td>\n",
       "      <td>4</td>\n",
       "    </tr>\n",
       "  </tbody>\n",
       "</table>\n",
       "</div>"
      ],
      "text/plain": [
       "          city  Number Of People\n",
       "0   California                 4\n",
       "1      Georgia                 2\n",
       "2  Los Angeles                 4"
      ]
     },
     "execution_count": 234,
     "metadata": {},
     "output_type": "execute_result"
    }
   ],
   "source": [
    "df1 = pd.DataFrame({'name': ['Anastasia', 'Dima', 'Katherine', 'James', 'Emily', 'Michael', 'Matthew', 'Laura', 'Kevin', 'Jonas'],\n",
    "                    'city': ['California', 'Los Angeles', 'California', 'California', 'California', 'Los Angeles', 'Los Angeles', 'Georgia', 'Georgia', 'Los Angeles']})\n",
    "df1.groupby('city').size().reset_index(name='Number Of People')\n",
    "\n"
   ]
  },
  {
   "cell_type": "markdown",
   "metadata": {},
   "source": [
    "Q112. Write a pandas program to widen output display to see more\n",
    "columns?\n",
    "Sample data\n",
    "\n",
    "Original data frame\n",
    "col1 col2 col3\n",
    "0 1 4 7\n",
    "1 4 5 8\n",
    "2 3 6 9\n",
    "3 4 7 0\n",
    "4 5 8 1"
   ]
  },
  {
   "cell_type": "code",
   "execution_count": 235,
   "metadata": {},
   "outputs": [
    {
     "name": "stdout",
     "output_type": "stream",
     "text": [
      "Original DataFrame\n",
      "   col1  col2  col3\n",
      "0     1     4     7\n",
      "1     4     5     8\n",
      "2     3     6     9\n",
      "3     4     7     0\n",
      "4     5     8     1\n"
     ]
    }
   ],
   "source": [
    "import pandas as pd\n",
    "import numpy as np\n",
    "d = {'col1': [1, 4, 3, 4, 5], 'col2': [4, 5, 6, 7, 8], 'col3': [7, 8, 9, 0, 1]}\n",
    "df = pd.DataFrame(data=d)\n",
    "pd.set_option('display.max_rows', 500)\n",
    "pd.set_option('display.max_columns', 500)\n",
    "pd.set_option('display.width', 1000)\n",
    "print(\"Original DataFrame\")\n",
    "print(df)"
   ]
  },
  {
   "cell_type": "markdown",
   "metadata": {},
   "source": [
    "Q113. Write a pandas program to convert the data frame column type\n",
    "from string to DateTime?\n",
    "\n",
    "Sample data\n",
    "\n",
    "String Date\n",
    "0 3/11/2000\n",
    "1 3/12/2000\n",
    "2 3/13/2000\n",
    "dtype- object\n",
    "\n",
    "Original DataFrame (string to datetime)-\n",
    "0\n",
    "0 2000-03-11\n",
    "1 2000-03-12\n",
    "2 2000-03-13"
   ]
  },
  {
   "cell_type": "code",
   "execution_count": 239,
   "metadata": {},
   "outputs": [
    {
     "data": {
      "text/html": [
       "<div>\n",
       "<style scoped>\n",
       "    .dataframe tbody tr th:only-of-type {\n",
       "        vertical-align: middle;\n",
       "    }\n",
       "\n",
       "    .dataframe tbody tr th {\n",
       "        vertical-align: top;\n",
       "    }\n",
       "\n",
       "    .dataframe thead th {\n",
       "        text-align: right;\n",
       "    }\n",
       "</style>\n",
       "<table border=\"1\" class=\"dataframe\">\n",
       "  <thead>\n",
       "    <tr style=\"text-align: right;\">\n",
       "      <th></th>\n",
       "      <th>0</th>\n",
       "    </tr>\n",
       "  </thead>\n",
       "  <tbody>\n",
       "    <tr>\n",
       "      <th>0</th>\n",
       "      <td>2000-03-11</td>\n",
       "    </tr>\n",
       "    <tr>\n",
       "      <th>1</th>\n",
       "      <td>2000-03-12</td>\n",
       "    </tr>\n",
       "    <tr>\n",
       "      <th>2</th>\n",
       "      <td>2000-03-13</td>\n",
       "    </tr>\n",
       "  </tbody>\n",
       "</table>\n",
       "</div>"
      ],
      "text/plain": [
       "           0\n",
       "0 2000-03-11\n",
       "1 2000-03-12\n",
       "2 2000-03-13"
      ]
     },
     "execution_count": 239,
     "metadata": {},
     "output_type": "execute_result"
    }
   ],
   "source": [
    "s = pd.Series(['3/11/2000', '3/12/2000', '3/13/2000'])\n",
    "r=pd.DataFrame(pd.to_datetime(s))\n",
    "r"
   ]
  },
  {
   "cell_type": "markdown",
   "metadata": {},
   "source": [
    "Q114. Write a pandas program to append the data to an empty DataFrame?\n",
    "\n",
    "Sample data\n",
    "Original DataFrame- \n",
    "After appending some data: \n",
    " col1 col2 \n",
    "0 0 0 \n",
    "1 1 1 \n",
    "2 2 2"
   ]
  },
  {
   "cell_type": "code",
   "execution_count": 242,
   "metadata": {},
   "outputs": [
    {
     "data": {
      "text/html": [
       "<div>\n",
       "<style scoped>\n",
       "    .dataframe tbody tr th:only-of-type {\n",
       "        vertical-align: middle;\n",
       "    }\n",
       "\n",
       "    .dataframe tbody tr th {\n",
       "        vertical-align: top;\n",
       "    }\n",
       "\n",
       "    .dataframe thead th {\n",
       "        text-align: right;\n",
       "    }\n",
       "</style>\n",
       "<table border=\"1\" class=\"dataframe\">\n",
       "  <thead>\n",
       "    <tr style=\"text-align: right;\">\n",
       "      <th></th>\n",
       "      <th>col1</th>\n",
       "      <th>col2</th>\n",
       "    </tr>\n",
       "  </thead>\n",
       "  <tbody>\n",
       "    <tr>\n",
       "      <th>0</th>\n",
       "      <td>0</td>\n",
       "      <td>0</td>\n",
       "    </tr>\n",
       "    <tr>\n",
       "      <th>1</th>\n",
       "      <td>1</td>\n",
       "      <td>1</td>\n",
       "    </tr>\n",
       "    <tr>\n",
       "      <th>2</th>\n",
       "      <td>2</td>\n",
       "      <td>2</td>\n",
       "    </tr>\n",
       "  </tbody>\n",
       "</table>\n",
       "</div>"
      ],
      "text/plain": [
       "   col1  col2\n",
       "0     0     0\n",
       "1     1     1\n",
       "2     2     2"
      ]
     },
     "execution_count": 242,
     "metadata": {},
     "output_type": "execute_result"
    }
   ],
   "source": [
    "df=pd.DataFrame()\n",
    "data=pd.DataFrame({'col1':range(3),'col2':range(3)})\n",
    "df.append(data)"
   ]
  },
  {
   "cell_type": "markdown",
   "metadata": {},
   "source": [
    "Q115. Write a pandas program to count the number of columns of a\n",
    "DataFrame?\n",
    "Sample OutputOriginal DataFrame\n",
    "col1 col2 col3\n",
    "0 1 4 7\n",
    "1 2 5 8\n",
    "2 3 6 12\n",
    "3 4 9 1\n",
    "4 7 5 11\n",
    "Number of columns- 3"
   ]
  },
  {
   "cell_type": "code",
   "execution_count": 245,
   "metadata": {},
   "outputs": [
    {
     "name": "stdout",
     "output_type": "stream",
     "text": [
      "Total number of columns is 3\n"
     ]
    }
   ],
   "source": [
    "d = {'col1': [1, 2, 3, 4, 7], 'col2': [4, 5, 6, 9, 5], 'col3': [7, 8, 12, 1, 11]}\n",
    "df=pd.DataFrame(d)\n",
    "print('Total number of columns is',len(df.columns))"
   ]
  },
  {
   "cell_type": "markdown",
   "metadata": {},
   "source": [
    "Q116. Write a Pandas program to remove the last n rows of a given\n",
    "DataFrame ?\n",
    "\n",
    "Sample Output:\n",
    "Original DataFrame\n",
    "col1 col2 col3\n",
    "0 1 4 7\n",
    "1 2 5 5\n",
    "2 3 6 8\n",
    "3 4 9 12\n",
    "4 7 5 1\n",
    "5 11 0 11\n",
    "After removing last 3 rows of the said DataFramecol1 col2 col3\n",
    "0 1 4 7\n",
    "1 2 5 5\n",
    "2 3 6 8"
   ]
  },
  {
   "cell_type": "code",
   "execution_count": 250,
   "metadata": {},
   "outputs": [
    {
     "name": "stdout",
     "output_type": "stream",
     "text": [
      "Original DataFrame\n",
      "   col1  col2  col3\n",
      "0     1     4     7\n",
      "1     2     5     5\n",
      "2     3     6     8\n",
      "3     4     9    12\n",
      "4     7     5     1\n",
      "5    11     0    11\n",
      "\n",
      "After removing last 3 rows of the said DataFrame:\n",
      "   col1  col2  col3\n",
      "0     1     4     7\n",
      "1     2     5     5\n",
      "2     3     6     8\n"
     ]
    }
   ],
   "source": [
    "import pandas as pd\n",
    "d = {'col1': [1, 2, 3, 4, 7, 11], 'col2': [4, 5, 6, 9, 5, 0], 'col3': [7, 5, 8, 12, 1,11]}\n",
    "df = pd.DataFrame(data=d)\n",
    "print(\"Original DataFrame\")\n",
    "print(df)\n",
    "print(\"\\nAfter removing last 3 rows of the said DataFrame:\")\n",
    "df1 = df.iloc[:-3]\n",
    "print(df1)"
   ]
  },
  {
   "cell_type": "markdown",
   "metadata": {},
   "source": [
    "Q117. Write a Pandas program to import excel data (coalpublic2013.xlsx) into a Pandas data frame."
   ]
  },
  {
   "cell_type": "code",
   "execution_count": 259,
   "metadata": {},
   "outputs": [
    {
     "data": {
      "text/html": [
       "<div>\n",
       "<style scoped>\n",
       "    .dataframe tbody tr th:only-of-type {\n",
       "        vertical-align: middle;\n",
       "    }\n",
       "\n",
       "    .dataframe tbody tr th {\n",
       "        vertical-align: top;\n",
       "    }\n",
       "\n",
       "    .dataframe thead th {\n",
       "        text-align: right;\n",
       "    }\n",
       "</style>\n",
       "<table border=\"1\" class=\"dataframe\">\n",
       "  <thead>\n",
       "    <tr style=\"text-align: right;\">\n",
       "      <th></th>\n",
       "      <th>Year</th>\n",
       "      <th>MSHA ID</th>\n",
       "      <th>Mine_Name</th>\n",
       "      <th>Production</th>\n",
       "      <th>Labor_Hours</th>\n",
       "    </tr>\n",
       "  </thead>\n",
       "  <tbody>\n",
       "    <tr>\n",
       "      <th>0</th>\n",
       "      <td>2013</td>\n",
       "      <td>103381</td>\n",
       "      <td>Tacoa Highwall Miner</td>\n",
       "      <td>56004</td>\n",
       "      <td>22392</td>\n",
       "    </tr>\n",
       "    <tr>\n",
       "      <th>1</th>\n",
       "      <td>2013</td>\n",
       "      <td>103404</td>\n",
       "      <td>Reid School Mine</td>\n",
       "      <td>28807</td>\n",
       "      <td>28447</td>\n",
       "    </tr>\n",
       "    <tr>\n",
       "      <th>2</th>\n",
       "      <td>2013</td>\n",
       "      <td>100759</td>\n",
       "      <td>North River #1 Underground Min</td>\n",
       "      <td>1440115</td>\n",
       "      <td>474784</td>\n",
       "    </tr>\n",
       "    <tr>\n",
       "      <th>3</th>\n",
       "      <td>2013</td>\n",
       "      <td>103246</td>\n",
       "      <td>Bear Creek</td>\n",
       "      <td>87587</td>\n",
       "      <td>29193</td>\n",
       "    </tr>\n",
       "    <tr>\n",
       "      <th>4</th>\n",
       "      <td>2013</td>\n",
       "      <td>103451</td>\n",
       "      <td>Knight Mine</td>\n",
       "      <td>147499</td>\n",
       "      <td>46393</td>\n",
       "    </tr>\n",
       "  </tbody>\n",
       "</table>\n",
       "</div>"
      ],
      "text/plain": [
       "   Year  MSHA ID                       Mine_Name  Production  Labor_Hours\n",
       "0  2013   103381            Tacoa Highwall Miner       56004        22392\n",
       "1  2013   103404                Reid School Mine       28807        28447\n",
       "2  2013   100759  North River #1 Underground Min     1440115       474784\n",
       "3  2013   103246                      Bear Creek       87587        29193\n",
       "4  2013   103451                     Knight Mine      147499        46393"
      ]
     },
     "execution_count": 259,
     "metadata": {},
     "output_type": "execute_result"
    }
   ],
   "source": [
    "df=pd.read_excel('C:/Users/jenajyo/Downloads/Data sets/coalpublic2013.xlsx')\n",
    "df.head()"
   ]
  },
  {
   "cell_type": "markdown",
   "metadata": {},
   "source": [
    "Q118. Write a Pandas program to import excel data (coalpublic2013.xlsx\n",
    ") into a data frame and find details where \"Mine Name\" starts with\n",
    "\"P."
   ]
  },
  {
   "cell_type": "code",
   "execution_count": 262,
   "metadata": {},
   "outputs": [
    {
     "data": {
      "text/html": [
       "<div>\n",
       "<style scoped>\n",
       "    .dataframe tbody tr th:only-of-type {\n",
       "        vertical-align: middle;\n",
       "    }\n",
       "\n",
       "    .dataframe tbody tr th {\n",
       "        vertical-align: top;\n",
       "    }\n",
       "\n",
       "    .dataframe thead th {\n",
       "        text-align: right;\n",
       "    }\n",
       "</style>\n",
       "<table border=\"1\" class=\"dataframe\">\n",
       "  <thead>\n",
       "    <tr style=\"text-align: right;\">\n",
       "      <th></th>\n",
       "      <th>Year</th>\n",
       "      <th>MSHA ID</th>\n",
       "      <th>Mine_Name</th>\n",
       "      <th>Production</th>\n",
       "      <th>Labor_Hours</th>\n",
       "    </tr>\n",
       "  </thead>\n",
       "  <tbody>\n",
       "    <tr>\n",
       "      <th>13</th>\n",
       "      <td>2013</td>\n",
       "      <td>103332</td>\n",
       "      <td>Powhatan Mine</td>\n",
       "      <td>140521</td>\n",
       "      <td>61394</td>\n",
       "    </tr>\n",
       "    <tr>\n",
       "      <th>18</th>\n",
       "      <td>2013</td>\n",
       "      <td>102976</td>\n",
       "      <td>Piney Woods Preparation Plant</td>\n",
       "      <td>0</td>\n",
       "      <td>14828</td>\n",
       "    </tr>\n",
       "    <tr>\n",
       "      <th>19</th>\n",
       "      <td>2013</td>\n",
       "      <td>102976</td>\n",
       "      <td>Piney Woods Preparation Plant</td>\n",
       "      <td>0</td>\n",
       "      <td>23193</td>\n",
       "    </tr>\n",
       "    <tr>\n",
       "      <th>46</th>\n",
       "      <td>2013</td>\n",
       "      <td>103321</td>\n",
       "      <td>Poplar Springs</td>\n",
       "      <td>189370</td>\n",
       "      <td>76366</td>\n",
       "    </tr>\n",
       "  </tbody>\n",
       "</table>\n",
       "</div>"
      ],
      "text/plain": [
       "    Year  MSHA ID                      Mine_Name  Production  Labor_Hours\n",
       "13  2013   103332                  Powhatan Mine      140521        61394\n",
       "18  2013   102976  Piney Woods Preparation Plant           0        14828\n",
       "19  2013   102976  Piney Woods Preparation Plant           0        23193\n",
       "46  2013   103321                 Poplar Springs      189370        76366"
      ]
     },
     "execution_count": 262,
     "metadata": {},
     "output_type": "execute_result"
    }
   ],
   "source": [
    "df=pd.read_excel('C:/Users/jenajyo/Downloads/Data sets/coalpublic2013.xlsx')\n",
    "df[df['Mine_Name'].map(lambda x:x.startswith('P'))].head()"
   ]
  },
  {
   "cell_type": "markdown",
   "metadata": {},
   "source": [
    "Q119. Write a Pandas program to import excel data (employee.xlsx )\n",
    "into a Pandas dataframe and find the list of employees where\n",
    "hire_date> 01-01-07"
   ]
  },
  {
   "cell_type": "code",
   "execution_count": 264,
   "metadata": {},
   "outputs": [
    {
     "data": {
      "text/html": [
       "<div>\n",
       "<style scoped>\n",
       "    .dataframe tbody tr th:only-of-type {\n",
       "        vertical-align: middle;\n",
       "    }\n",
       "\n",
       "    .dataframe tbody tr th {\n",
       "        vertical-align: top;\n",
       "    }\n",
       "\n",
       "    .dataframe thead th {\n",
       "        text-align: right;\n",
       "    }\n",
       "</style>\n",
       "<table border=\"1\" class=\"dataframe\">\n",
       "  <thead>\n",
       "    <tr style=\"text-align: right;\">\n",
       "      <th></th>\n",
       "      <th>emp_id</th>\n",
       "      <th>first_name</th>\n",
       "      <th>last_name</th>\n",
       "      <th>hire_date</th>\n",
       "    </tr>\n",
       "  </thead>\n",
       "  <tbody>\n",
       "    <tr>\n",
       "      <th>4</th>\n",
       "      <td>104</td>\n",
       "      <td>Bruce</td>\n",
       "      <td>Ernst</td>\n",
       "      <td>2007-05-21</td>\n",
       "    </tr>\n",
       "    <tr>\n",
       "      <th>7</th>\n",
       "      <td>107</td>\n",
       "      <td>Diana</td>\n",
       "      <td>Lorentz</td>\n",
       "      <td>2007-02-07</td>\n",
       "    </tr>\n",
       "    <tr>\n",
       "      <th>13</th>\n",
       "      <td>113</td>\n",
       "      <td>Luis</td>\n",
       "      <td>Popp</td>\n",
       "      <td>2007-12-07</td>\n",
       "    </tr>\n",
       "    <tr>\n",
       "      <th>19</th>\n",
       "      <td>119</td>\n",
       "      <td>Karen</td>\n",
       "      <td>Colmenares</td>\n",
       "      <td>2007-08-10</td>\n",
       "    </tr>\n",
       "  </tbody>\n",
       "</table>\n",
       "</div>"
      ],
      "text/plain": [
       "    emp_id first_name   last_name  hire_date\n",
       "4      104      Bruce       Ernst 2007-05-21\n",
       "7      107      Diana     Lorentz 2007-02-07\n",
       "13     113       Luis        Popp 2007-12-07\n",
       "19     119      Karen  Colmenares 2007-08-10"
      ]
     },
     "execution_count": 264,
     "metadata": {},
     "output_type": "execute_result"
    }
   ],
   "source": [
    "df=pd.read_excel('C:/Users/jenajyo/Downloads/Data sets/employee.xlsx')\n",
    "df[df['hire_date']> '01-01-07'].head()"
   ]
  },
  {
   "cell_type": "markdown",
   "metadata": {},
   "source": [
    "Q120. Write a Pandas program to import excel data (employee.xlsx )\n",
    "into a Pandas dataframe and find a list of the employees of a specified\n",
    "year?"
   ]
  },
  {
   "cell_type": "code",
   "execution_count": 268,
   "metadata": {},
   "outputs": [
    {
     "data": {
      "text/html": [
       "<div>\n",
       "<style scoped>\n",
       "    .dataframe tbody tr th:only-of-type {\n",
       "        vertical-align: middle;\n",
       "    }\n",
       "\n",
       "    .dataframe tbody tr th {\n",
       "        vertical-align: top;\n",
       "    }\n",
       "\n",
       "    .dataframe thead th {\n",
       "        text-align: right;\n",
       "    }\n",
       "</style>\n",
       "<table border=\"1\" class=\"dataframe\">\n",
       "  <thead>\n",
       "    <tr style=\"text-align: right;\">\n",
       "      <th></th>\n",
       "      <th>emp_id</th>\n",
       "      <th>first_name</th>\n",
       "      <th>last_name</th>\n",
       "      <th>hire_date</th>\n",
       "    </tr>\n",
       "  </thead>\n",
       "  <tbody>\n",
       "    <tr>\n",
       "      <th>4</th>\n",
       "      <td>104</td>\n",
       "      <td>Bruce</td>\n",
       "      <td>Ernst</td>\n",
       "      <td>2007-05-21</td>\n",
       "    </tr>\n",
       "    <tr>\n",
       "      <th>7</th>\n",
       "      <td>107</td>\n",
       "      <td>Diana</td>\n",
       "      <td>Lorentz</td>\n",
       "      <td>2007-02-07</td>\n",
       "    </tr>\n",
       "    <tr>\n",
       "      <th>13</th>\n",
       "      <td>113</td>\n",
       "      <td>Luis</td>\n",
       "      <td>Popp</td>\n",
       "      <td>2007-12-07</td>\n",
       "    </tr>\n",
       "    <tr>\n",
       "      <th>19</th>\n",
       "      <td>119</td>\n",
       "      <td>Karen</td>\n",
       "      <td>Colmenares</td>\n",
       "      <td>2007-08-10</td>\n",
       "    </tr>\n",
       "  </tbody>\n",
       "</table>\n",
       "</div>"
      ],
      "text/plain": [
       "    emp_id first_name   last_name  hire_date\n",
       "4      104      Bruce       Ernst 2007-05-21\n",
       "7      107      Diana     Lorentz 2007-02-07\n",
       "13     113       Luis        Popp 2007-12-07\n",
       "19     119      Karen  Colmenares 2007-08-10"
      ]
     },
     "execution_count": 268,
     "metadata": {},
     "output_type": "execute_result"
    }
   ],
   "source": [
    "df=pd.read_excel('C:/Users/jenajyo/Downloads/Data sets/employee.xlsx')\n",
    "df[df['hire_date'].apply(lambda x:x.year==2007)]"
   ]
  },
  {
   "cell_type": "markdown",
   "metadata": {},
   "source": [
    "Q121. Write a pandas program to import three datasheets from a given\n",
    "excel data (coalpublic2013.xlsx ) in to a single dataframe.\n"
   ]
  },
  {
   "cell_type": "code",
   "execution_count": 271,
   "metadata": {},
   "outputs": [
    {
     "data": {
      "text/html": [
       "<div>\n",
       "<style scoped>\n",
       "    .dataframe tbody tr th:only-of-type {\n",
       "        vertical-align: middle;\n",
       "    }\n",
       "\n",
       "    .dataframe tbody tr th {\n",
       "        vertical-align: top;\n",
       "    }\n",
       "\n",
       "    .dataframe thead th {\n",
       "        text-align: right;\n",
       "    }\n",
       "</style>\n",
       "<table border=\"1\" class=\"dataframe\">\n",
       "  <thead>\n",
       "    <tr style=\"text-align: right;\">\n",
       "      <th></th>\n",
       "      <th>emp_id</th>\n",
       "      <th>first_name</th>\n",
       "      <th>last_name</th>\n",
       "      <th>hire_date</th>\n",
       "    </tr>\n",
       "  </thead>\n",
       "  <tbody>\n",
       "    <tr>\n",
       "      <th>0</th>\n",
       "      <td>100</td>\n",
       "      <td>Steven</td>\n",
       "      <td>King</td>\n",
       "      <td>2003-06-17</td>\n",
       "    </tr>\n",
       "    <tr>\n",
       "      <th>1</th>\n",
       "      <td>101</td>\n",
       "      <td>Neena</td>\n",
       "      <td>Kochhar</td>\n",
       "      <td>2005-09-21</td>\n",
       "    </tr>\n",
       "    <tr>\n",
       "      <th>2</th>\n",
       "      <td>102</td>\n",
       "      <td>Lex</td>\n",
       "      <td>De Haan</td>\n",
       "      <td>2001-01-13</td>\n",
       "    </tr>\n",
       "    <tr>\n",
       "      <th>3</th>\n",
       "      <td>103</td>\n",
       "      <td>Alexander</td>\n",
       "      <td>Hunold</td>\n",
       "      <td>2006-01-03</td>\n",
       "    </tr>\n",
       "    <tr>\n",
       "      <th>4</th>\n",
       "      <td>104</td>\n",
       "      <td>Bruce</td>\n",
       "      <td>Ernst</td>\n",
       "      <td>2007-05-21</td>\n",
       "    </tr>\n",
       "  </tbody>\n",
       "</table>\n",
       "</div>"
      ],
      "text/plain": [
       "   emp_id first_name last_name  hire_date\n",
       "0     100     Steven      King 2003-06-17\n",
       "1     101      Neena   Kochhar 2005-09-21\n",
       "2     102        Lex   De Haan 2001-01-13\n",
       "3     103  Alexander    Hunold 2006-01-03\n",
       "4     104      Bruce     Ernst 2007-05-21"
      ]
     },
     "execution_count": 271,
     "metadata": {},
     "output_type": "execute_result"
    }
   ],
   "source": [
    "df1=pd.read_excel('C:/Users/jenajyo/Downloads/Data sets/employee.xlsx',sheet_name=0)\n",
    "df2=pd.read_excel('C:/Users/jenajyo/Downloads/Data sets/employee.xlsx',sheet_name=1)\n",
    "df3=pd.read_excel('C:/Users/jenajyo/Downloads/Data sets/employee.xlsx',sheet_name=2)\n",
    "df=pd.concat([df1,df2,df3])\n",
    "df.head()"
   ]
  },
  {
   "cell_type": "markdown",
   "metadata": {},
   "source": [
    "Q 122. Write a pandas program to import three datasheets from a given\n",
    "excel data (employee.xlsx ) into a single data frame and export the\n",
    "result into new Excel file.\n"
   ]
  },
  {
   "cell_type": "code",
   "execution_count": 272,
   "metadata": {},
   "outputs": [],
   "source": [
    "df1=pd.read_excel('C:/Users/jenajyo/Downloads/Data sets/employee.xlsx',sheet_name=0)\n",
    "df2=pd.read_excel('C:/Users/jenajyo/Downloads/Data sets/employee.xlsx',sheet_name=1)\n",
    "df3=pd.read_excel('C:/Users/jenajyo/Downloads/Data sets/employee.xlsx',sheet_name=2)\n",
    "df=pd.concat([df1,df2,df3])\n",
    "df.to_excel('C:/Users/jenajyo/Downloads/Data sets/output.xlsx',index=False)"
   ]
  },
  {
   "cell_type": "markdown",
   "metadata": {},
   "source": [
    "Q123. Write a pandas program to create the Pivot table with multiple\n",
    "indexes from the data set of the titanic.csv"
   ]
  },
  {
   "cell_type": "code",
   "execution_count": 274,
   "metadata": {},
   "outputs": [
    {
     "name": "stdout",
     "output_type": "stream",
     "text": [
      "              Unnamed: 15  adult_male  alone      fare  parch  pclass  sibsp  survived\n",
      "sex    age                                                                            \n",
      "female 0.75           0.0         0.0    0.0   38.5166      2       6      4         2\n",
      "       1.00           0.0         0.0    0.0   26.8750      3       6      1         2\n",
      "       2.00           0.0         0.0    0.0  259.4750      9      15      9         2\n",
      "       3.00           0.0         0.0    0.0   62.6542      3       5      4         1\n",
      "       4.00           0.0         0.0    0.0  114.1417      6      13      4         5\n",
      "       5.00           0.0         0.0    1.0   90.8708      5      11      7         4\n",
      "       6.00           0.0         0.0    0.0   64.2750      3       5      4         1\n",
      "       7.00           0.0         0.0    0.0   26.2500      2       2      0         1\n",
      "       8.00           0.0         0.0    0.0   47.3250      3       5      3         1\n",
      "       9.00           0.0         0.0    0.0  108.7958      7      12     10         0\n",
      "       10.00          0.0         0.0    0.0   24.1500      2       3      0         0\n",
      "       11.00          0.0         0.0    0.0   31.2750      2       3      4         0\n",
      "       13.00          0.0         0.0    1.0   26.7292      1       5      0         2\n",
      "       14.00          0.0         0.0    1.0  169.1667      2       9      3         3\n",
      "       14.50          0.0         0.0    0.0   14.4542      0       3      1         0\n",
      "       15.00          0.0         0.0    2.0  241.0459      1      10      1         4\n",
      "       16.00          0.0         0.0    3.0  246.2625      4      12      5         5\n",
      "       17.00          0.0         0.0    3.0  210.7833      2      12      6         5\n",
      "       18.00          0.0         0.0    4.0  697.0167      9      31      6         8\n",
      "       19.00          0.0         0.0    3.0  215.0959      2      13      3         7\n",
      "       20.00          0.0         0.0    1.0   18.4875      0       6      1         0\n",
      "       21.00          0.0         0.0    4.0  410.4333      4      16      5         4\n",
      "       22.00          0.0         0.0    7.0  444.1084      6      26      3        10\n",
      "       23.00          0.0         0.0    3.0  405.5417      2      10      4         4\n",
      "       24.00          0.0         0.0    7.0  772.1708     15      31     10        14\n",
      "       25.00          0.0         0.0    1.0  223.2500      4      11      3         2\n",
      "       26.00          0.0         0.0    3.0  136.7292      1      12      2         3\n",
      "       27.00          0.0         0.0    2.0   76.8916      3      15      2         5\n",
      "       28.00          0.0         0.0    4.0  110.9458      1      16      3         5\n",
      "       29.00          0.0         0.0    2.0  320.6208      7      16      3         5\n",
      "       30.00          0.0         0.0    9.0  465.9917      1      20      4         9\n",
      "       30.50          0.0         0.0    1.0    7.7500      0       3      0         0\n",
      "       31.00          0.0         0.0    2.0  359.4542      4      16      4         5\n",
      "       32.00          0.0         0.0    2.0  104.7917      1       6      1         2\n",
      "       32.50          0.0         0.0    1.0   13.0000      0       2      0         1\n",
      "       33.00          0.0         0.0    1.0  299.2000      4      10      6         6\n",
      "       34.00          0.0         0.0    2.0   79.0000      2       8      1         4\n",
      "       35.00          0.0         0.0    3.0  967.7875      1      11      5         8\n",
      "       36.00          0.0         0.0    3.0  396.0333      4      12      3         7\n",
      "       37.00          0.0         0.0    1.0    9.5875      0       3      0         0\n",
      "       38.00          0.0         0.0    3.0  423.1958      5       8      2         4\n",
      "       39.00          0.0         0.0    0.0  389.9916     13      10      5         4\n",
      "       40.00          0.0         0.0    3.0  365.1875      2      11      3         5\n",
      "       41.00          0.0         0.0    1.0  213.9000      8       9      0         2\n",
      "       42.00          0.0         0.0    2.0  266.5250      0       5      1         3\n",
      "       43.00          0.0         0.0    0.0  258.2375      7       4      1         1\n",
      "       44.00          0.0         0.0    1.0  111.7000      1       4      1         2\n",
      "       45.00          0.0         0.0    2.0  254.7209      7      14      3         3\n",
      "       47.00          0.0         0.0    0.0   67.0542      1       4      2         1\n",
      "       48.00          0.0         0.0    1.0  164.9042      5       7      3         3\n",
      "       49.00          0.0         0.0    1.0  102.6584      0       2      1         2\n",
      "       50.00          0.0         0.0    3.0  323.2333      2       8      0         4\n",
      "       51.00          0.0         0.0    0.0   77.9583      0       1      1         1\n",
      "       52.00          0.0         0.0    0.0  171.7667      1       2      2         2\n",
      "       53.00          0.0         0.0    0.0   51.4792      0       1      2         1\n",
      "       54.00          0.0         0.0    0.0  160.6667      3       4      3         3\n",
      "       55.00          0.0         0.0    1.0   16.0000      0       2      0         1\n",
      "       56.00          0.0         0.0    0.0   83.1583      1       1      0         1\n",
      "       57.00          0.0         0.0    1.0   10.5000      0       2      0         0\n",
      "       58.00          0.0         0.0    2.0  326.5333      1       3      0         3\n",
      "       60.00          0.0         0.0    0.0   75.2500      0       1      1         1\n",
      "       62.00          0.0         0.0    1.0   80.0000      0       1      0         1\n",
      "       63.00          0.0         0.0    1.0   87.5458      0       4      1         2\n",
      "male   0.42           0.0         0.0    0.0    8.5167      1       3      0         1\n",
      "       0.67           0.0         0.0    0.0   14.5000      1       2      1         1\n",
      "       0.83           0.0         0.0    0.0   47.7500      3       4      1         2\n",
      "       0.92           0.0         0.0    0.0  151.5500      2       1      1         1\n",
      "       1.00           0.0         0.0    0.0  183.1667      8      13     12         3\n",
      "       2.00           0.0         0.0    0.0  115.8875      4      11     12         1\n",
      "       3.00           0.0         0.0    0.0   92.0375      5      10      7         4\n",
      "       4.00           0.0         0.0    0.0  181.2916      8      13     12         2\n",
      "       6.00           0.0         0.0    0.0   12.4750      1       3      0         1\n",
      "       7.00           0.0         0.0    0.0   68.8125      2       6      8         0\n",
      "       8.00           0.0         0.0    0.0   65.8750      2       5      5         1\n",
      "       9.00           0.0         0.0    0.0  114.7125      7      12     10         2\n",
      "       10.00          0.0         0.0    0.0   27.9000      2       3      3         0\n",
      "       11.00          0.0         0.0    1.0  185.6875      4       7      6         1\n",
      "       12.00          0.0         0.0    0.0   11.2417      0       3      1         1\n",
      "       14.00          0.0         0.0    0.0   86.5875      3       6      9         0\n",
      "       15.00          0.0         0.0    0.0    7.2292      1       3      1         0\n",
      "       16.00          0.0        11.0    7.0  191.4042      5      31      8         1\n",
      "       17.00          0.0         7.0    4.0  158.2792      3      19      2         1\n",
      "       18.00          0.0        13.0    9.0  292.6333      2      33      4         1\n",
      "       19.00          0.0        18.0   15.0  481.6415      3      46      5         2\n",
      "       20.00          0.0        13.0   11.0  110.8751      1      39      2         3\n",
      "       20.50          0.0         1.0    1.0    7.2500      0       3      0         0\n",
      "       21.00          0.0        17.0   14.0  347.1416      1      46      3         1\n",
      "       22.00          0.0        15.0   14.0  244.5207      0      43      1         1\n",
      "       23.00          0.0        10.0    8.0  164.3791      2      22      2         1\n",
      "       23.50          0.0         1.0    1.0    7.2292      0       3      0         0\n",
      "       24.00          0.0        14.0   10.0  518.8999      1      35      5         1\n",
      "       24.50          0.0         1.0    1.0    8.0500      0       3      0         0\n",
      "       25.00          0.0        18.0   11.0  338.3126      2      45      7         4\n",
      "       26.00          0.0        13.0    9.0  206.8333      2      36      5         3\n",
      "       27.00          0.0        12.0    9.0  469.6125      2      25      2         6\n",
      "       28.00          0.0        18.0   14.0  414.5582      1      42      4         2\n",
      "       28.50          0.0         2.0    2.0   23.3292      0       6      0         0\n",
      "       29.00          0.0        13.0    9.0  221.1957      0      32      4         3\n",
      "       30.00          0.0        14.0   12.0  172.5500      0      35      2         1\n",
      "       30.50          0.0         1.0    1.0    8.0500      0       3      0         0\n",
      "       31.00          0.0        10.0    6.0  269.7000      2      20      4         3\n",
      "       32.00          0.0        15.0   12.0  333.0291      0      40      4         7\n",
      "       32.50          0.0         1.0    0.0   30.0708      0       2      1         0\n",
      "       33.00          0.0         9.0    8.0   88.1833      1      24      1         0\n",
      "       34.00          0.0        11.0    7.0  170.5458      1      25      4         2\n",
      "       34.50          0.0         1.0    1.0    6.4375      0       3      0         0\n",
      "       35.00          0.0        10.0   10.0  639.8375      0      22      0         3\n",
      "       36.00          0.0        15.0    9.0  923.1958      6      29      5         4\n",
      "       36.50          0.0         1.0    0.0   26.0000      2       2      0         0\n",
      "       37.00          0.0         5.0    0.0  169.2792      2       8      5         1\n",
      "       38.00          0.0         6.0    4.0  267.0708      1      12      1         1\n",
      "       39.00          0.0         8.0    7.0  123.2750      5      19      1         1\n",
      "       40.00          0.0         7.0    5.0  117.2416      5      15      2         1\n",
      "       40.50          0.0         2.0    1.0   22.2500      2       6      0         0\n",
      "       41.00          0.0         2.0    1.0   21.2333      0       6      2         0\n",
      "       42.00          0.0        10.0    6.0  216.1084      1      21      3         3\n",
      "       43.00          0.0         3.0    2.0   40.7500      1       8      1         0\n",
      "       44.00          0.0         6.0    3.0  156.1250      1      15      3         1\n",
      "       45.00          0.0         6.0    5.0  187.1000      0      10      1         2\n",
      "       45.50          0.0         2.0    2.0   35.7250      0       4      0         0\n",
      "       46.00          0.0         3.0    2.0  166.3750      0       4      1         0\n",
      "       47.00          0.0         7.0    7.0  181.3583      0      12      0         0\n",
      "       48.00          0.0         5.0    3.0  176.1334      0       8      2         3\n",
      "       49.00          0.0         4.0    1.0  256.9167      1       6      3         2\n",
      "       50.00          0.0         5.0    2.0  317.0250      0       8      4         1\n",
      "       51.00          0.0         6.0    5.0  123.3084      1      13      0         1\n",
      "       52.00          0.0         4.0    3.0  136.6500      1       6      1         1\n",
      "       54.00          0.0         5.0    3.0  195.1500      1       8      1         0\n",
      "       55.00          0.0         1.0    1.0   30.5000      0       1      0         0\n",
      "       55.50          0.0         1.0    1.0    8.0500      0       3      0         0\n",
      "       56.00          0.0         3.0    3.0   92.7458      0       3      0         1\n",
      "       57.00          0.0         1.0    1.0   12.3500      0       2      0         0\n",
      "       58.00          0.0         2.0    1.0  142.9750      2       2      0         0\n",
      "       59.00          0.0         2.0    2.0   20.7500      0       5      0         0\n",
      "       60.00          0.0         3.0    1.0  144.7500      2       4      2         1\n",
      "       61.00          0.0         3.0    3.0   72.0583      0       5      0         0\n",
      "       62.00          0.0         3.0    3.0   63.6000      0       4      0         1\n",
      "       64.00          0.0         2.0    1.0  289.0000      4       2      1         0\n",
      "       65.00          0.0         3.0    2.0   96.2792      1       5      0         0\n",
      "       66.00          0.0         1.0    1.0   10.5000      0       2      0         0\n",
      "       70.00          0.0         2.0    1.0   81.5000      1       3      1         0\n",
      "       70.50          0.0         1.0    1.0    7.7500      0       3      0         0\n",
      "       71.00          0.0         2.0    2.0   84.1584      0       2      0         0\n",
      "       74.00          0.0         1.0    1.0    7.7750      0       3      0         0\n",
      "       80.00          0.0         1.0    1.0   30.0000      0       1      0         1\n"
     ]
    }
   ],
   "source": [
    "df=pd.read_csv('C:/Users/jenajyo/Downloads/Data sets/titanic.csv')\n",
    "result = pd.pivot_table(df, index = [\"sex\",\"age\"], aggfunc=np.sum)\n",
    "print(result)"
   ]
  },
  {
   "cell_type": "markdown",
   "metadata": {},
   "source": [
    "Q124. Write a Pandas program to create the Pivot table and find survival\n",
    "rate by gender?\n"
   ]
  },
  {
   "cell_type": "code",
   "execution_count": 275,
   "metadata": {},
   "outputs": [
    {
     "name": "stdout",
     "output_type": "stream",
     "text": [
      "        survived\n",
      "sex             \n",
      "female  0.742038\n",
      "male    0.188908\n"
     ]
    }
   ],
   "source": [
    "df=pd.read_csv('C:/Users/jenajyo/Downloads/Data sets/titanic.csv')\n",
    "result=df.groupby('sex')[['survived']].mean()\n",
    "print(result)"
   ]
  },
  {
   "cell_type": "markdown",
   "metadata": {},
   "source": [
    "Q125. Write a pandas program to make partition each of the passengers\n",
    "into 4 categories based on their age.\n",
    "Note: Age categories- (0, 10), (10, 30), (30, 60), (60, 80)\n"
   ]
  },
  {
   "cell_type": "code",
   "execution_count": 276,
   "metadata": {},
   "outputs": [
    {
     "name": "stdout",
     "output_type": "stream",
     "text": [
      "0      (10, 30]\n",
      "1      (30, 60]\n",
      "2      (10, 30]\n",
      "3      (30, 60]\n",
      "4      (30, 60]\n",
      "5           NaN\n",
      "6      (30, 60]\n",
      "7       (0, 10]\n",
      "8      (10, 30]\n",
      "9      (10, 30]\n",
      "10      (0, 10]\n",
      "11     (30, 60]\n",
      "12     (10, 30]\n",
      "13     (30, 60]\n",
      "14     (10, 30]\n",
      "15     (30, 60]\n",
      "16      (0, 10]\n",
      "17          NaN\n",
      "18     (30, 60]\n",
      "19          NaN\n",
      "20     (30, 60]\n",
      "21     (30, 60]\n",
      "22     (10, 30]\n",
      "23     (10, 30]\n",
      "24      (0, 10]\n",
      "25     (30, 60]\n",
      "26          NaN\n",
      "27     (10, 30]\n",
      "28          NaN\n",
      "29          NaN\n",
      "30     (30, 60]\n",
      "31          NaN\n",
      "32          NaN\n",
      "33     (60, 80]\n",
      "34     (10, 30]\n",
      "35     (30, 60]\n",
      "36          NaN\n",
      "37     (10, 30]\n",
      "38     (10, 30]\n",
      "39     (10, 30]\n",
      "40     (30, 60]\n",
      "41     (10, 30]\n",
      "42          NaN\n",
      "43      (0, 10]\n",
      "44     (10, 30]\n",
      "45          NaN\n",
      "46          NaN\n",
      "47          NaN\n",
      "48          NaN\n",
      "49     (10, 30]\n",
      "50      (0, 10]\n",
      "51     (10, 30]\n",
      "52     (30, 60]\n",
      "53     (10, 30]\n",
      "54     (60, 80]\n",
      "55          NaN\n",
      "56     (10, 30]\n",
      "57     (10, 30]\n",
      "58      (0, 10]\n",
      "59     (10, 30]\n",
      "60     (10, 30]\n",
      "61     (30, 60]\n",
      "62     (30, 60]\n",
      "63      (0, 10]\n",
      "64          NaN\n",
      "65          NaN\n",
      "66     (10, 30]\n",
      "67     (10, 30]\n",
      "68     (10, 30]\n",
      "69     (10, 30]\n",
      "70     (30, 60]\n",
      "71     (10, 30]\n",
      "72     (10, 30]\n",
      "73     (10, 30]\n",
      "74     (30, 60]\n",
      "75     (10, 30]\n",
      "76          NaN\n",
      "77          NaN\n",
      "78      (0, 10]\n",
      "79     (10, 30]\n",
      "80     (10, 30]\n",
      "81     (10, 30]\n",
      "82          NaN\n",
      "83     (10, 30]\n",
      "84     (10, 30]\n",
      "85     (30, 60]\n",
      "86     (10, 30]\n",
      "87          NaN\n",
      "88     (10, 30]\n",
      "89     (10, 30]\n",
      "90     (10, 30]\n",
      "91     (10, 30]\n",
      "92     (30, 60]\n",
      "93     (10, 30]\n",
      "94     (30, 60]\n",
      "95          NaN\n",
      "96     (60, 80]\n",
      "97     (10, 30]\n",
      "98     (30, 60]\n",
      "99     (30, 60]\n",
      "100    (10, 30]\n",
      "101         NaN\n",
      "102    (10, 30]\n",
      "103    (30, 60]\n",
      "104    (30, 60]\n",
      "105    (10, 30]\n",
      "106    (10, 30]\n",
      "107         NaN\n",
      "108    (30, 60]\n",
      "109         NaN\n",
      "110    (30, 60]\n",
      "111    (10, 30]\n",
      "112    (10, 30]\n",
      "113    (10, 30]\n",
      "114    (10, 30]\n",
      "115    (10, 30]\n",
      "116    (60, 80]\n",
      "117    (10, 30]\n",
      "118    (10, 30]\n",
      "119     (0, 10]\n",
      "120    (10, 30]\n",
      "121         NaN\n",
      "122    (30, 60]\n",
      "123    (30, 60]\n",
      "124    (30, 60]\n",
      "125    (10, 30]\n",
      "126         NaN\n",
      "127    (10, 30]\n",
      "128         NaN\n",
      "129    (30, 60]\n",
      "130    (30, 60]\n",
      "131    (10, 30]\n",
      "132    (30, 60]\n",
      "133    (10, 30]\n",
      "134    (10, 30]\n",
      "135    (10, 30]\n",
      "136    (10, 30]\n",
      "137    (30, 60]\n",
      "138    (10, 30]\n",
      "139    (10, 30]\n",
      "140         NaN\n",
      "141    (10, 30]\n",
      "142    (10, 30]\n",
      "143    (10, 30]\n",
      "144    (10, 30]\n",
      "145    (10, 30]\n",
      "146    (10, 30]\n",
      "147     (0, 10]\n",
      "148    (30, 60]\n",
      "149    (30, 60]\n",
      "150    (30, 60]\n",
      "151    (10, 30]\n",
      "152    (30, 60]\n",
      "153    (30, 60]\n",
      "154         NaN\n",
      "155    (30, 60]\n",
      "156    (10, 30]\n",
      "157    (10, 30]\n",
      "158         NaN\n",
      "159         NaN\n",
      "160    (30, 60]\n",
      "161    (30, 60]\n",
      "162    (10, 30]\n",
      "163    (10, 30]\n",
      "164     (0, 10]\n",
      "165     (0, 10]\n",
      "166         NaN\n",
      "167    (30, 60]\n",
      "168         NaN\n",
      "169    (10, 30]\n",
      "170    (60, 80]\n",
      "171     (0, 10]\n",
      "172     (0, 10]\n",
      "173    (10, 30]\n",
      "174    (30, 60]\n",
      "175    (10, 30]\n",
      "176         NaN\n",
      "177    (30, 60]\n",
      "178    (10, 30]\n",
      "179    (30, 60]\n",
      "180         NaN\n",
      "181         NaN\n",
      "182     (0, 10]\n",
      "183     (0, 10]\n",
      "184     (0, 10]\n",
      "185         NaN\n",
      "186         NaN\n",
      "187    (30, 60]\n",
      "188    (30, 60]\n",
      "189    (30, 60]\n",
      "190    (30, 60]\n",
      "191    (10, 30]\n",
      "192    (10, 30]\n",
      "193     (0, 10]\n",
      "194    (30, 60]\n",
      "195    (30, 60]\n",
      "196         NaN\n",
      "197    (30, 60]\n",
      "198         NaN\n",
      "199    (10, 30]\n",
      "200    (10, 30]\n",
      "201         NaN\n",
      "202    (30, 60]\n",
      "203    (30, 60]\n",
      "204    (10, 30]\n",
      "205     (0, 10]\n",
      "206    (30, 60]\n",
      "207    (10, 30]\n",
      "208    (10, 30]\n",
      "209    (30, 60]\n",
      "210    (10, 30]\n",
      "211    (30, 60]\n",
      "212    (10, 30]\n",
      "213    (10, 30]\n",
      "214         NaN\n",
      "215    (30, 60]\n",
      "216    (10, 30]\n",
      "217    (30, 60]\n",
      "218    (30, 60]\n",
      "219    (10, 30]\n",
      "220    (10, 30]\n",
      "221    (10, 30]\n",
      "222    (30, 60]\n",
      "223         NaN\n",
      "224    (30, 60]\n",
      "225    (10, 30]\n",
      "226    (10, 30]\n",
      "227    (10, 30]\n",
      "228    (10, 30]\n",
      "229         NaN\n",
      "230    (30, 60]\n",
      "231    (10, 30]\n",
      "232    (30, 60]\n",
      "233     (0, 10]\n",
      "234    (10, 30]\n",
      "235         NaN\n",
      "236    (30, 60]\n",
      "237     (0, 10]\n",
      "238    (10, 30]\n",
      "239    (30, 60]\n",
      "240         NaN\n",
      "241         NaN\n",
      "242    (10, 30]\n",
      "243    (10, 30]\n",
      "244    (10, 30]\n",
      "245    (30, 60]\n",
      "246    (10, 30]\n",
      "247    (10, 30]\n",
      "248    (30, 60]\n",
      "249    (30, 60]\n",
      "         ...   \n",
      "641    (10, 30]\n",
      "642     (0, 10]\n",
      "643         NaN\n",
      "644     (0, 10]\n",
      "645    (30, 60]\n",
      "646    (10, 30]\n",
      "647    (30, 60]\n",
      "648         NaN\n",
      "649    (10, 30]\n",
      "650         NaN\n",
      "651    (10, 30]\n",
      "652    (10, 30]\n",
      "653         NaN\n",
      "654    (10, 30]\n",
      "655    (10, 30]\n",
      "656         NaN\n",
      "657    (30, 60]\n",
      "658    (10, 30]\n",
      "659    (30, 60]\n",
      "660    (30, 60]\n",
      "661    (30, 60]\n",
      "662    (30, 60]\n",
      "663    (30, 60]\n",
      "664    (10, 30]\n",
      "665    (30, 60]\n",
      "666    (10, 30]\n",
      "667         NaN\n",
      "668    (30, 60]\n",
      "669         NaN\n",
      "670    (30, 60]\n",
      "671    (30, 60]\n",
      "672    (60, 80]\n",
      "673    (30, 60]\n",
      "674         NaN\n",
      "675    (10, 30]\n",
      "676    (10, 30]\n",
      "677    (10, 30]\n",
      "678    (30, 60]\n",
      "679    (30, 60]\n",
      "680         NaN\n",
      "681    (10, 30]\n",
      "682    (10, 30]\n",
      "683    (10, 30]\n",
      "684    (30, 60]\n",
      "685    (10, 30]\n",
      "686    (10, 30]\n",
      "687    (10, 30]\n",
      "688    (10, 30]\n",
      "689    (10, 30]\n",
      "690    (30, 60]\n",
      "691     (0, 10]\n",
      "692         NaN\n",
      "693    (10, 30]\n",
      "694    (30, 60]\n",
      "695    (30, 60]\n",
      "696    (30, 60]\n",
      "697         NaN\n",
      "698    (30, 60]\n",
      "699    (30, 60]\n",
      "700    (10, 30]\n",
      "701    (30, 60]\n",
      "702    (10, 30]\n",
      "703    (10, 30]\n",
      "704    (10, 30]\n",
      "705    (30, 60]\n",
      "706    (30, 60]\n",
      "707    (30, 60]\n",
      "708    (10, 30]\n",
      "709         NaN\n",
      "710    (10, 30]\n",
      "711         NaN\n",
      "712    (30, 60]\n",
      "713    (10, 30]\n",
      "714    (30, 60]\n",
      "715    (10, 30]\n",
      "716    (30, 60]\n",
      "717    (10, 30]\n",
      "718         NaN\n",
      "719    (30, 60]\n",
      "720     (0, 10]\n",
      "721    (10, 30]\n",
      "722    (30, 60]\n",
      "723    (30, 60]\n",
      "724    (10, 30]\n",
      "725    (10, 30]\n",
      "726    (10, 30]\n",
      "727         NaN\n",
      "728    (10, 30]\n",
      "729    (10, 30]\n",
      "730    (10, 30]\n",
      "731    (10, 30]\n",
      "732         NaN\n",
      "733    (10, 30]\n",
      "734    (10, 30]\n",
      "735    (10, 30]\n",
      "736    (30, 60]\n",
      "737    (30, 60]\n",
      "738         NaN\n",
      "739         NaN\n",
      "740         NaN\n",
      "741    (30, 60]\n",
      "742    (10, 30]\n",
      "743    (10, 30]\n",
      "744    (30, 60]\n",
      "745    (60, 80]\n",
      "746    (10, 30]\n",
      "747    (10, 30]\n",
      "748    (10, 30]\n",
      "749    (30, 60]\n",
      "750     (0, 10]\n",
      "751     (0, 10]\n",
      "752    (30, 60]\n",
      "753    (10, 30]\n",
      "754    (30, 60]\n",
      "755     (0, 10]\n",
      "756    (10, 30]\n",
      "757    (10, 30]\n",
      "758    (30, 60]\n",
      "759    (30, 60]\n",
      "760         NaN\n",
      "761    (30, 60]\n",
      "762    (10, 30]\n",
      "763    (30, 60]\n",
      "764    (10, 30]\n",
      "765    (30, 60]\n",
      "766         NaN\n",
      "767    (30, 60]\n",
      "768         NaN\n",
      "769    (30, 60]\n",
      "770    (10, 30]\n",
      "771    (30, 60]\n",
      "772    (30, 60]\n",
      "773         NaN\n",
      "774    (30, 60]\n",
      "775    (10, 30]\n",
      "776         NaN\n",
      "777     (0, 10]\n",
      "778         NaN\n",
      "779    (30, 60]\n",
      "780    (10, 30]\n",
      "781    (10, 30]\n",
      "782    (10, 30]\n",
      "783         NaN\n",
      "784    (10, 30]\n",
      "785    (10, 30]\n",
      "786    (10, 30]\n",
      "787     (0, 10]\n",
      "788     (0, 10]\n",
      "789    (30, 60]\n",
      "790         NaN\n",
      "791    (10, 30]\n",
      "792         NaN\n",
      "793         NaN\n",
      "794    (10, 30]\n",
      "795    (30, 60]\n",
      "796    (30, 60]\n",
      "797    (30, 60]\n",
      "798    (10, 30]\n",
      "799    (10, 30]\n",
      "800    (30, 60]\n",
      "801    (30, 60]\n",
      "802    (10, 30]\n",
      "803     (0, 10]\n",
      "804    (10, 30]\n",
      "805    (30, 60]\n",
      "806    (30, 60]\n",
      "807    (10, 30]\n",
      "808    (30, 60]\n",
      "809    (30, 60]\n",
      "810    (10, 30]\n",
      "811    (30, 60]\n",
      "812    (30, 60]\n",
      "813     (0, 10]\n",
      "814    (30, 60]\n",
      "815         NaN\n",
      "816    (10, 30]\n",
      "817    (30, 60]\n",
      "818    (30, 60]\n",
      "819     (0, 10]\n",
      "820    (30, 60]\n",
      "821    (10, 30]\n",
      "822    (30, 60]\n",
      "823    (10, 30]\n",
      "824     (0, 10]\n",
      "825         NaN\n",
      "826         NaN\n",
      "827     (0, 10]\n",
      "828         NaN\n",
      "829    (60, 80]\n",
      "830    (10, 30]\n",
      "831     (0, 10]\n",
      "832         NaN\n",
      "833    (10, 30]\n",
      "834    (10, 30]\n",
      "835    (30, 60]\n",
      "836    (10, 30]\n",
      "837         NaN\n",
      "838    (30, 60]\n",
      "839         NaN\n",
      "840    (10, 30]\n",
      "841    (10, 30]\n",
      "842    (10, 30]\n",
      "843    (30, 60]\n",
      "844    (10, 30]\n",
      "845    (30, 60]\n",
      "846         NaN\n",
      "847    (30, 60]\n",
      "848    (10, 30]\n",
      "849         NaN\n",
      "850     (0, 10]\n",
      "851    (60, 80]\n",
      "852     (0, 10]\n",
      "853    (10, 30]\n",
      "854    (30, 60]\n",
      "855    (10, 30]\n",
      "856    (30, 60]\n",
      "857    (30, 60]\n",
      "858    (10, 30]\n",
      "859         NaN\n",
      "860    (30, 60]\n",
      "861    (10, 30]\n",
      "862    (30, 60]\n",
      "863         NaN\n",
      "864    (10, 30]\n",
      "865    (30, 60]\n",
      "866    (10, 30]\n",
      "867    (30, 60]\n",
      "868         NaN\n",
      "869     (0, 10]\n",
      "870    (10, 30]\n",
      "871    (30, 60]\n",
      "872    (30, 60]\n",
      "873    (30, 60]\n",
      "874    (10, 30]\n",
      "875    (10, 30]\n",
      "876    (10, 30]\n",
      "877    (10, 30]\n",
      "878         NaN\n",
      "879    (30, 60]\n",
      "880    (10, 30]\n",
      "881    (30, 60]\n",
      "882    (10, 30]\n",
      "883    (10, 30]\n",
      "884    (10, 30]\n",
      "885    (30, 60]\n",
      "886    (10, 30]\n",
      "887    (10, 30]\n",
      "888         NaN\n",
      "889    (10, 30]\n",
      "890    (30, 60]\n",
      "Name: age, Length: 891, dtype: category\n",
      "Categories (4, interval[int64]): [(0, 10] < (10, 30] < (30, 60] < (60, 80]]\n"
     ]
    }
   ],
   "source": [
    "df=pd.read_csv('C:/Users/jenajyo/Downloads/Data sets/titanic.csv')\n",
    "result = pd.cut(df['age'], [0, 10, 30, 60, 80])\n",
    "print(result)"
   ]
  },
  {
   "cell_type": "markdown",
   "metadata": {},
   "source": [
    "Q126. Write a pandas program to create the Pivot table and find survival\n",
    "rate by the gender, age of the different categories of various\n",
    "classes."
   ]
  },
  {
   "cell_type": "code",
   "execution_count": 277,
   "metadata": {},
   "outputs": [
    {
     "name": "stdout",
     "output_type": "stream",
     "text": [
      "class               First    Second     Third\n",
      "sex    age                                   \n",
      "female (20, 55]  0.928571  1.000000  0.510638\n",
      "       NaN       0.968750  0.912281  0.407407\n",
      "male   (20, 55]  0.571429  0.526316  0.197368\n",
      "       NaN       0.440000  0.054054  0.134503\n"
     ]
    }
   ],
   "source": [
    "df=pd.read_csv('C:/Users/jenajyo/Downloads/Data sets/titanic.csv')\n",
    "age = pd.cut(df['age'], [0, 20, 55])\n",
    "result = df.pivot_table('survived', index=['sex', age], columns='class')\n",
    "print(result)"
   ]
  },
  {
   "cell_type": "markdown",
   "metadata": {},
   "source": [
    "Q127. Write a pandas program to create the Pivot table and calculate\n",
    "number of women and men were in a particular cabin class.\n"
   ]
  },
  {
   "cell_type": "code",
   "execution_count": 278,
   "metadata": {},
   "outputs": [
    {
     "name": "stdout",
     "output_type": "stream",
     "text": [
      "       Unnamed: 15       adult_male            age          alive           alone           class           deck        embark_town           embarked           fare           parch           sibsp           survived            who          \n",
      "pclass           1  2  3          1    2    3    1   2    3     1    2    3     1    2    3     1    2    3    1   2  3           1    2    3        1    2    3    1    2    3     1    2    3     1    2    3        1    2    3    1    2    3\n",
      "sex                                                                                                                                                                                                                                              \n",
      "female           0  0  0         94   76  144   85  74  102    94   76  144    94   76  144    94   76  144   81  10  6          92   76  144       92   76  144   94   76  144    94   76  144    94   76  144       94   76  144   94   76  144\n",
      "male             0  0  0        122  108  347  101  99  253   122  108  347   122  108  347   122  108  347   94   6  6         122  108  347      122  108  347  122  108  347   122  108  347   122  108  347      122  108  347  122  108  347\n"
     ]
    }
   ],
   "source": [
    "df=pd.read_csv('C:/Users/jenajyo/Downloads/Data sets/titanic.csv')\n",
    "result = df.pivot_table(index=['sex'], columns=['pclass'], aggfunc='count')\n",
    "print(result)"
   ]
  },
  {
   "cell_type": "markdown",
   "metadata": {},
   "source": [
    "Q128. Write a pandas program to create the Pivot table and separate\n",
    "the gender according to whether they travelled alone or not to get\n",
    "the probability of survival\n"
   ]
  },
  {
   "cell_type": "code",
   "execution_count": 282,
   "metadata": {},
   "outputs": [
    {
     "name": "stdout",
     "output_type": "stream",
     "text": [
      "class            First    Second     Third\n",
      "sex    alone                              \n",
      "female False  0.966667  0.931818  0.416667\n",
      "       True   0.970588  0.906250  0.616667\n",
      "male   False  0.425532  0.277778  0.180723\n",
      "       True   0.333333  0.097222  0.121212\n"
     ]
    }
   ],
   "source": [
    "df=pd.read_csv('C:/Users/jenajyo/Downloads/Data sets/titanic.csv')\n",
    "\n",
    "result = df.pivot_table( 'survived' , [ 'sex' , 'alone' ] , 'class' )\n",
    "print(result)"
   ]
  },
  {
   "cell_type": "markdown",
   "metadata": {},
   "source": [
    "Q129. Write a pandas program to create the Pivot table and find the\n",
    "probability of survival by class, gender, solo boarding, and the port\n",
    "of embarkation.\n"
   ]
  },
  {
   "cell_type": "code",
   "execution_count": 283,
   "metadata": {},
   "outputs": [
    {
     "name": "stdout",
     "output_type": "stream",
     "text": [
      "embark_town  Cherbourg                     Queenstown                  Southampton                    \n",
      "class            First    Second     Third      First Second     Third       First    Second     Third\n",
      "sex    alone                                                                                          \n",
      "female False  1.000000  1.000000  0.611111        1.0    NaN  0.625000    0.941176  0.923077  0.327586\n",
      "       True   0.944444  1.000000  0.800000        NaN    1.0  0.760000    1.000000  0.892857  0.466667\n",
      "male   False  0.473684  0.166667  0.500000        0.0    NaN  0.100000    0.407407  0.300000  0.142857\n",
      "       True   0.347826  0.250000  0.151515        NaN    0.0  0.068966    0.326923  0.089552  0.123762\n"
     ]
    }
   ],
   "source": [
    "df=pd.read_csv('C:/Users/jenajyo/Downloads/Data sets/titanic.csv')\n",
    "\n",
    "result = df.pivot_table('survived', ['sex' , 'alone' ], [ 'embark_town', 'class' ])\n",
    "print(result)"
   ]
  },
  {
   "cell_type": "markdown",
   "metadata": {},
   "source": [
    "Q130. Write a pandas program to get current date, oldest date and\n",
    "number of days between Current date and the oldest date of Ufo\n",
    "dataset."
   ]
  },
  {
   "cell_type": "code",
   "execution_count": 302,
   "metadata": {},
   "outputs": [
    {
     "name": "stdout",
     "output_type": "stream",
     "text": [
      "max datetime 1998-10-10 23:50:00\n",
      "min datetime 1949-10-10 20:30:00\n",
      "diff datetime 17897\n"
     ]
    },
    {
     "name": "stderr",
     "output_type": "stream",
     "text": [
      "C:\\ProgramData\\Anaconda3\\lib\\site-packages\\IPython\\core\\interactiveshell.py:2785: DtypeWarning: Columns (0,1,2,3,4,6,7,8) have mixed types. Specify dtype option on import or set low_memory=False.\n",
      "  interactivity=interactivity, compiler=compiler, result=result)\n"
     ]
    }
   ],
   "source": [
    "df=pd.read_csv(r'C:/Users/jenajyo/Downloads/ufo.csv')\n",
    "df['datetime']=df['datetime'].astype('datetime64[ns]')\n",
    "print('max datetime',df.datetime.max())\n",
    "print('min datetime',df.datetime.min())\n",
    "print('diff datetime',(df.datetime.max()-df.datetime.min()).days)\n"
   ]
  },
  {
   "cell_type": "markdown",
   "metadata": {},
   "source": [
    "Q131. Write a pandas program to get all sighting days of the\n",
    "unidentified flying object (ufo) between 1950-10-10 and 1960-10-\n",
    "10.\n"
   ]
  },
  {
   "cell_type": "code",
   "execution_count": 304,
   "metadata": {},
   "outputs": [
    {
     "name": "stdout",
     "output_type": "stream",
     "text": [
      "             datetime                  city state country   shape  duration (seconds) duration (hours/min)                                           comments date posted   latitude   longitude  Unnamed: 11\n",
      "2 1955-10-10 17:00:00  chester (uk/england)   NaN      gb  circle                20.0           20 seconds  Green/Orange circular disc over Chester&#44 En...   1/21/2008  53.200000   -2.916667          NaN\n",
      "3 1956-10-10 21:00:00                  edna    tx      us  circle                20.0             1/2 hour  My older brother and twin sister were leaving ...   1/17/2004  28.978333  -96.645833          NaN\n",
      "4 1960-10-10 20:00:00               kaneohe    hi      us   light               900.0           15 minutes  AS a Marine 1st Lt. flying an FJ4B fighter/att...   1/22/2004  21.418056 -157.803611          NaN\n"
     ]
    },
    {
     "name": "stderr",
     "output_type": "stream",
     "text": [
      "C:\\ProgramData\\Anaconda3\\lib\\site-packages\\IPython\\core\\interactiveshell.py:2785: DtypeWarning: Columns (0,1,2,3,4,6,7,8) have mixed types. Specify dtype option on import or set low_memory=False.\n",
      "  interactivity=interactivity, compiler=compiler, result=result)\n"
     ]
    }
   ],
   "source": [
    "df=pd.read_csv(r'C:/Users/jenajyo/Downloads/ufo.csv')\n",
    "df['datetime']=df['datetime'].astype('datetime64[ns]')\n",
    "selected_period = df[(df['datetime'] >= '1950-01-01 00:00:00') & (df['datetime'] <= '1960-12-31 23:59:59')]\n",
    "print(selected_period)"
   ]
  },
  {
   "cell_type": "markdown",
   "metadata": {},
   "source": [
    "Q132. Write a Pandas program to extract the year, month, day, hour,\n",
    "minute, second, and weekday from unidentified flying object (UFO)\n",
    "reporting date."
   ]
  },
  {
   "cell_type": "code",
   "execution_count": 307,
   "metadata": {},
   "outputs": [
    {
     "name": "stdout",
     "output_type": "stream",
     "text": [
      "0    1949.0\n",
      "1    1949.0\n",
      "2    1955.0\n",
      "3    1956.0\n",
      "4    1960.0\n",
      "Name: datetime, dtype: float64\n",
      "\n",
      "Month:\n",
      "0    10.0\n",
      "1    10.0\n",
      "2    10.0\n",
      "3    10.0\n",
      "4    10.0\n",
      "Name: datetime, dtype: float64\n",
      "\n",
      "Day:\n",
      "0    10.0\n",
      "1    10.0\n",
      "2    10.0\n",
      "3    10.0\n",
      "4    10.0\n",
      "Name: datetime, dtype: float64\n",
      "\n",
      "Hour:\n",
      "0    20.0\n",
      "1    21.0\n",
      "2    17.0\n",
      "3    21.0\n",
      "4    20.0\n",
      "Name: datetime, dtype: float64\n",
      "\n",
      "Minute:\n",
      "0    30.0\n",
      "1     0.0\n",
      "2     0.0\n",
      "3     0.0\n",
      "4     0.0\n",
      "Name: datetime, dtype: float64\n",
      "\n",
      "Second:\n",
      "0    0.0\n",
      "1    0.0\n",
      "2    0.0\n",
      "3    0.0\n",
      "4    0.0\n",
      "Name: datetime, dtype: float64\n",
      "\n",
      "Weekday:\n",
      "0       Monday\n",
      "1       Monday\n",
      "2       Monday\n",
      "3    Wednesday\n",
      "4       Monday\n",
      "Name: datetime, dtype: object\n"
     ]
    },
    {
     "name": "stderr",
     "output_type": "stream",
     "text": [
      "C:\\ProgramData\\Anaconda3\\lib\\site-packages\\IPython\\core\\interactiveshell.py:2785: DtypeWarning: Columns (0,1,2,3,4,6,7,8) have mixed types. Specify dtype option on import or set low_memory=False.\n",
      "  interactivity=interactivity, compiler=compiler, result=result)\n"
     ]
    }
   ],
   "source": [
    "df=pd.read_csv(r'C:/Users/jenajyo/Downloads/ufo.csv')\n",
    "df['datetime']=df['datetime'].astype('datetime64[ns]')\n",
    "print(df.datetime.dt.year.head())\n",
    "print(\"\\nMonth:\")\n",
    "print(df.datetime.dt.month.head())\n",
    "print(\"\\nDay:\")\n",
    "print(df.datetime.dt.day.head())\n",
    "print(\"\\nHour:\")\n",
    "print(df.datetime.dt.hour.head())\n",
    "print(\"\\nMinute:\")\n",
    "print(df.datetime.dt.minute.head())\n",
    "print(\"\\nSecond:\")\n",
    "print(df.datetime.dt.second.head())\n",
    "print(\"\\nWeekday:\")\n",
    "print(df.datetime.dt.weekday_name.head())"
   ]
  },
  {
   "cell_type": "markdown",
   "metadata": {},
   "source": [
    "Q133. Write a pandas program to count year-country wise frequency of\n",
    "reporting dates of the unidentified flying object(UFO)."
   ]
  },
  {
   "cell_type": "code",
   "execution_count": 313,
   "metadata": {},
   "outputs": [
    {
     "name": "stderr",
     "output_type": "stream",
     "text": [
      "C:\\ProgramData\\Anaconda3\\lib\\site-packages\\IPython\\core\\interactiveshell.py:2785: DtypeWarning: Columns (0,1,2,3,4,6,7,8) have mixed types. Specify dtype option on import or set low_memory=False.\n",
      "  interactivity=interactivity, compiler=compiler, result=result)\n"
     ]
    },
    {
     "data": {
      "text/plain": [
       "Year    country\n",
       "1949.0  us         1\n",
       "1955.0  gb         1\n",
       "1956.0  us         1\n",
       "1960.0  us         1\n",
       "1961.0  us         1\n",
       "1965.0  gb         1\n",
       "        us         1\n",
       "1966.0  us         2\n",
       "1968.0  us         2\n",
       "1970.0  us         2\n",
       "1971.0  us         1\n",
       "1972.0  us         2\n",
       "1973.0  us         1\n",
       "1974.0  gb         1\n",
       "        us         2\n",
       "1975.0  us         1\n",
       "1976.0  gb         1\n",
       "        us         1\n",
       "1977.0  us         2\n",
       "1978.0  us         1\n",
       "1979.0  us         3\n",
       "1980.0  us         3\n",
       "1984.0  us         3\n",
       "1985.0  gb         1\n",
       "1988.0  us         4\n",
       "1989.0  us         2\n",
       "1990.0  us         1\n",
       "1991.0  us         2\n",
       "1992.0  us         4\n",
       "1993.0  us         2\n",
       "1994.0  ca         1\n",
       "        us         2\n",
       "1995.0  us         2\n",
       "1996.0  us         3\n",
       "1997.0  us         4\n",
       "1998.0  ca         1\n",
       "        us         8\n",
       "dtype: int64"
      ]
     },
     "execution_count": 313,
     "metadata": {},
     "output_type": "execute_result"
    }
   ],
   "source": [
    "df=pd.read_csv(r'C:/Users/jenajyo/Downloads/ufo.csv')\n",
    "df['datetime']=df['datetime'].astype('datetime64[ns]')\n",
    "\n",
    "df['Year'] = df['datetime'].apply(lambda x: (x.year))\n",
    "df.groupby(['Year', 'country']).size()\n"
   ]
  },
  {
   "cell_type": "code",
   "execution_count": null,
   "metadata": {},
   "outputs": [],
   "source": [
    "Q134. Write a pandas program to get the difference (in days) between\n",
    "documented date and reporting date of unidentified flying object\n",
    "(UFO).\n"
   ]
  },
  {
   "cell_type": "code",
   "execution_count": 317,
   "metadata": {},
   "outputs": [
    {
     "name": "stdout",
     "output_type": "stream",
     "text": [
      "Original Dataframe:\n",
      "             datetime                  city state country     shape  duration (seconds) duration (hours/min)                                           comments date posted   latitude   longitude  Unnamed: 11\n",
      "0 1949-10-10 20:30:00            san marcos    tx      us  cylinder              2700.0           45 minutes  This event took place in early fall around 194...  2004-04-27  29.883056  -97.941111          NaN\n",
      "1 1949-10-10 21:00:00          lackland afb    tx     NaN     light              7200.0              1-2 hrs  1949 Lackland AFB&#44 TX.  Lights racing acros...  2005-12-16  29.384210  -98.581082          NaN\n",
      "2 1955-10-10 17:00:00  chester (uk/england)   NaN      gb    circle                20.0           20 seconds  Green/Orange circular disc over Chester&#44 En...  2008-01-21  53.200000   -2.916667          NaN\n",
      "3 1956-10-10 21:00:00                  edna    tx      us    circle                20.0             1/2 hour  My older brother and twin sister were leaving ...  2004-01-17  28.978333  -96.645833          NaN\n",
      "4 1960-10-10 20:00:00               kaneohe    hi      us     light               900.0           15 minutes  AS a Marine 1st Lt. flying an FJ4B fighter/att...  2004-01-22  21.418056 -157.803611          NaN\n",
      "\n",
      "Difference (in days) between documented date and reporting date of UFO:\n",
      "             datetime                  city state country     shape  duration (seconds) duration (hours/min)                                           comments date posted   latitude   longitude  Unnamed: 11  Difference\n",
      "0 1949-10-10 20:30:00            san marcos    tx      us  cylinder              2700.0           45 minutes  This event took place in early fall around 194...  2004-04-27  29.883056  -97.941111          NaN     19922.0\n",
      "1 1949-10-10 21:00:00          lackland afb    tx     NaN     light              7200.0              1-2 hrs  1949 Lackland AFB&#44 TX.  Lights racing acros...  2005-12-16  29.384210  -98.581082          NaN     20520.0\n",
      "2 1955-10-10 17:00:00  chester (uk/england)   NaN      gb    circle                20.0           20 seconds  Green/Orange circular disc over Chester&#44 En...  2008-01-21  53.200000   -2.916667          NaN     19095.0\n",
      "3 1956-10-10 21:00:00                  edna    tx      us    circle                20.0             1/2 hour  My older brother and twin sister were leaving ...  2004-01-17  28.978333  -96.645833          NaN     17264.0\n",
      "4 1960-10-10 20:00:00               kaneohe    hi      us     light               900.0           15 minutes  AS a Marine 1st Lt. flying an FJ4B fighter/att...  2004-01-22  21.418056 -157.803611          NaN     15808.0\n"
     ]
    },
    {
     "name": "stderr",
     "output_type": "stream",
     "text": [
      "C:\\ProgramData\\Anaconda3\\lib\\site-packages\\IPython\\core\\interactiveshell.py:2785: DtypeWarning: Columns (0,1,2,3,4,6,7,8) have mixed types. Specify dtype option on import or set low_memory=False.\n",
      "  interactivity=interactivity, compiler=compiler, result=result)\n"
     ]
    }
   ],
   "source": [
    "df=pd.read_csv(r'C:/Users/jenajyo/Downloads/ufo.csv')\n",
    "df['datetime']=df['datetime'].astype('datetime64[ns]')\n",
    "df['date posted'] = df['date posted'].astype('datetime64[ns]')\n",
    "print(\"Original Dataframe:\")\n",
    "print(df.head())\n",
    "print(\"\\nDifference (in days) between documented date and reporting date of UFO:\")\n",
    "df['Difference'] = (df['date posted'] - df['datetime']).dt.days\n",
    "print(df.head())"
   ]
  },
  {
   "cell_type": "code",
   "execution_count": 315,
   "metadata": {},
   "outputs": [
    {
     "data": {
      "text/plain": [
       "Index(['datetime', 'city', 'state', 'country', 'shape', 'duration (seconds)', 'duration (hours/min)', 'comments', 'date posted', 'latitude', 'longitude', 'Unnamed: 11'], dtype='object')"
      ]
     },
     "execution_count": 315,
     "metadata": {},
     "output_type": "execute_result"
    }
   ],
   "source": [
    "df.columns"
   ]
  },
  {
   "cell_type": "markdown",
   "metadata": {},
   "source": [
    "Q135. Write a pandas program to generate sequences of fixedfrequency dates and time spans.\n"
   ]
  },
  {
   "cell_type": "code",
   "execution_count": 319,
   "metadata": {},
   "outputs": [
    {
     "name": "stdout",
     "output_type": "stream",
     "text": [
      "Hourly frequency:\n",
      "DatetimeIndex(['2018-01-01 00:00:00', '2018-01-01 01:00:00', '2018-01-01 02:00:00', '2018-01-01 03:00:00', '2018-01-01 04:00:00', '2018-01-01 05:00:00', '2018-01-01 06:00:00', '2018-01-01 07:00:00', '2018-01-01 08:00:00', '2018-01-01 09:00:00', '2018-01-01 10:00:00', '2018-01-01 11:00:00'], dtype='datetime64[ns]', freq='H')\n",
      "\n",
      "Minutely frequency:\n",
      "DatetimeIndex(['2018-01-01 00:00:00', '2018-01-01 00:01:00', '2018-01-01 00:02:00', '2018-01-01 00:03:00', '2018-01-01 00:04:00', '2018-01-01 00:05:00', '2018-01-01 00:06:00', '2018-01-01 00:07:00', '2018-01-01 00:08:00', '2018-01-01 00:09:00', '2018-01-01 00:10:00', '2018-01-01 00:11:00'], dtype='datetime64[ns]', freq='T')\n",
      "\n",
      "Secondly frequency:\n",
      "DatetimeIndex(['2018-01-01 00:00:00', '2018-01-01 00:00:01', '2018-01-01 00:00:02', '2018-01-01 00:00:03', '2018-01-01 00:00:04', '2018-01-01 00:00:05', '2018-01-01 00:00:06', '2018-01-01 00:00:07', '2018-01-01 00:00:08', '2018-01-01 00:00:09', '2018-01-01 00:00:10', '2018-01-01 00:00:11'], dtype='datetime64[ns]', freq='S')\n",
      "nMultiple Hourly frequency:\n",
      "DatetimeIndex(['2018-01-01 00:00:00', '2018-01-01 02:00:00', '2018-01-01 04:00:00', '2018-01-01 06:00:00', '2018-01-01 08:00:00', '2018-01-01 10:00:00', '2018-01-01 12:00:00', '2018-01-01 14:00:00', '2018-01-01 16:00:00', '2018-01-01 18:00:00', '2018-01-01 20:00:00', '2018-01-01 22:00:00'], dtype='datetime64[ns]', freq='2H')\n",
      "\n",
      "Multiple Minutely frequency:\n",
      "DatetimeIndex(['2018-01-01 00:00:00', '2018-01-01 00:05:00', '2018-01-01 00:10:00', '2018-01-01 00:15:00', '2018-01-01 00:20:00', '2018-01-01 00:25:00', '2018-01-01 00:30:00', '2018-01-01 00:35:00', '2018-01-01 00:40:00', '2018-01-01 00:45:00', '2018-01-01 00:50:00', '2018-01-01 00:55:00'], dtype='datetime64[ns]', freq='5T')\n",
      "\n",
      "Multiple Secondly frequency:\n",
      "DatetimeIndex(['2018-03-30', '2018-06-29', '2018-09-28', '2018-12-31', '2019-03-29', '2019-06-28', '2019-09-30', '2019-12-31', '2020-03-31', '2020-06-30', '2020-09-30', '2020-12-31'], dtype='datetime64[ns]', freq='BQ-DEC')\n",
      "\n",
      "Weekly frequency:\n",
      "DatetimeIndex(['2018-01-07', '2018-01-14', '2018-01-21', '2018-01-28', '2018-02-04', '2018-02-11', '2018-02-18', '2018-02-25', '2018-03-04', '2018-03-11', '2018-03-18', '2018-03-25'], dtype='datetime64[ns]', freq='W-SUN')\n",
      "\n",
      "Combine together day and intraday offsets-1:\n",
      "DatetimeIndex(['2018-01-01 00:00:00', '2018-01-01 02:20:00', '2018-01-01 04:40:00', '2018-01-01 07:00:00', '2018-01-01 09:20:00', '2018-01-01 11:40:00', '2018-01-01 14:00:00', '2018-01-01 16:20:00', '2018-01-01 18:40:00', '2018-01-01 21:00:00', '2018-01-01 23:20:00', '2018-01-02 01:40:00'], dtype='datetime64[ns]', freq='140T')\n",
      "\n",
      "Combine together day and intraday offsets-2:\n",
      "DatetimeIndex(['2018-01-01 00:00:00', '2018-01-02 00:00:00.000010', '2018-01-03 00:00:00.000020', '2018-01-04 00:00:00.000030', '2018-01-05 00:00:00.000040', '2018-01-06 00:00:00.000050', '2018-01-07 00:00:00.000060', '2018-01-08 00:00:00.000070', '2018-01-09 00:00:00.000080', '2018-01-10 00:00:00.000090', '2018-01-11 00:00:00.000100', '2018-01-12 00:00:00.000110'], dtype='datetime64[ns]', freq='86400000010U')\n"
     ]
    }
   ],
   "source": [
    "import pandas as pd\n",
    "dtr = pd.date_range('2018-01-01', periods=12, freq='H')\n",
    "print(\"Hourly frequency:\")\n",
    "print(dtr)\n",
    "dtr = pd.date_range('2018-01-01', periods=12, freq='min')\n",
    "print(\"\\nMinutely frequency:\")\n",
    "print(dtr)\n",
    "dtr = pd.date_range('2018-01-01', periods=12, freq='S')\n",
    "print(\"\\nSecondly frequency:\")\n",
    "print(dtr)\n",
    "dtr = pd.date_range('2018-01-01', periods=12, freq='2H')\n",
    "print(\"nMultiple Hourly frequency:\")\n",
    "print(dtr)\n",
    "dtr = pd.date_range('2018-01-01', periods=12, freq='5min')\n",
    "print(\"\\nMultiple Minutely frequency:\")\n",
    "print(dtr)\n",
    "dtr = pd.date_range('2018-01-01', periods=12, freq='BQ')\n",
    "print(\"\\nMultiple Secondly frequency:\")\n",
    "print(dtr)\n",
    "dtr = pd.date_range('2018-01-01', periods=12, freq='w')\n",
    "print(\"\\nWeekly frequency:\")\n",
    "print(dtr)\n",
    "dtr = pd.date_range('2018-01-01', periods=12, freq='2h20min')\n",
    "print(\"\\nCombine together day and intraday offsets-1:\")\n",
    "print(dtr)\n",
    "dtr = pd.date_range('2018-01-01', periods=12, freq='1D10U')\n",
    "print(\"\\nCombine together day and intraday offsets-2:\")\n",
    "print(dtr)"
   ]
  },
  {
   "cell_type": "markdown",
   "metadata": {},
   "source": [
    "Q136. Write a pandas program to manipulate and convert date times\n",
    "with timezone information."
   ]
  },
  {
   "cell_type": "code",
   "execution_count": 320,
   "metadata": {},
   "outputs": [
    {
     "name": "stdout",
     "output_type": "stream",
     "text": [
      "DatetimeIndex(['2018-01-01 00:00:00+00:00', '2018-01-01 01:00:00+00:00', '2018-01-01 02:00:00+00:00'], dtype='datetime64[ns, UTC]', freq='H')\n",
      "\n",
      "From UTC to America/Los_Angeles:\n",
      "DatetimeIndex(['2017-12-31 16:00:00-08:00', '2017-12-31 17:00:00-08:00', '2017-12-31 18:00:00-08:00'], dtype='datetime64[ns, America/Los_Angeles]', freq='H')\n"
     ]
    }
   ],
   "source": [
    "import pandas as pd\n",
    "dtt = pd.date_range('2018-01-01', periods=3, freq='H')\n",
    "dtt = dtt.tz_localize('UTC')\n",
    "print(dtt)\n",
    "print(\"\\nFrom UTC to America/Los_Angeles:\")\n",
    "dtt = dtt.tz_convert('America/Los_Angeles')\n",
    "print(dtt)"
   ]
  },
  {
   "cell_type": "code",
   "execution_count": null,
   "metadata": {},
   "outputs": [],
   "source": [
    "Q137. Write a pandas program to create the graphical analysis of UFO\n",
    "(unidentified flying object) Sightings year.\n"
   ]
  },
  {
   "cell_type": "code",
   "execution_count": 330,
   "metadata": {},
   "outputs": [
    {
     "name": "stderr",
     "output_type": "stream",
     "text": [
      "C:\\ProgramData\\Anaconda3\\lib\\site-packages\\IPython\\core\\interactiveshell.py:2785: DtypeWarning: Columns (0,1,2,3,4,6,7,8) have mixed types. Specify dtype option on import or set low_memory=False.\n",
      "  interactivity=interactivity, compiler=compiler, result=result)\n"
     ]
    },
    {
     "data": {
      "image/png": "[encoded data removed]",
      "text/plain": [
       "<Figure size 1080x576 with 1 Axes>"
      ]
     },
     "metadata": {},
     "output_type": "display_data"
    }
   ],
   "source": [
    "import pandas as pd\n",
    "import matplotlib.pyplot as plt\n",
    "import seaborn as sns\n",
    "df=pd.read_csv(r'C:/Users/jenajyo/Downloads/ufo.csv')\n",
    "df['datetime'] = df['datetime'].astype('datetime64[ns]')\n",
    "df['UFO_yr']=df.datetime.dt.year\n",
    "years_data = df.UFO_yr.value_counts()\n",
    "years_index = years_data.index\n",
    "years_values = years_data.get_values()\n",
    "plt.figure(figsize=(15,8))\n",
    "plt.xticks(rotation = 60)\n",
    "plt.title('UFO Sightings by Year')\n",
    "plt.xlabel(\"Year\")\n",
    "plt.ylabel(\"Number of reports\")\n",
    "years_plot = sns.barplot(x=years_index[:60],y=years_values[:60], palette = \"Reds\")"
   ]
  },
  {
   "cell_type": "markdown",
   "metadata": {},
   "source": [
    "Q138. Write a pandas program to create a comparison of the top 10\n",
    "years in which the (UFO) was sighted VS each Month."
   ]
  },
  {
   "cell_type": "code",
   "execution_count": null,
   "metadata": {},
   "outputs": [],
   "source": [
    "df=pd.read_csv(r'C:/Users/jenajyo/Downloads/ufo.csv')\n",
    "df['datetime'] = df['datetime'].astype('datetime64[ns]')\n",
    "most_sightings_years = df['datetime'].dt.year.value_counts().head(10)\n",
    "def is_top_years(year):\n",
    "       if year in most_sightings_years.index:\n",
    "            return year\n",
    "month_vs_year = df.pivot_table(columns=df['datetime'].dt.month,index=df['datetime'].dt.year.apply(is_top_years),aggfunc='count',values='city')\n",
    "month_vs_year.index = month_vs_year.index.astype(int)\n",
    "month_vs_year.columns = month_vs_year.columns.astype(int)\n",
    "print(\"\\nComparison of the top 10 years in which the UFO was sighted vs each month:\")\n",
    "print(month_vs_year.head(10))"
   ]
  },
  {
   "cell_type": "markdown",
   "metadata": {},
   "source": [
    "Q139. Write a pandas program to create a heatmap (rectangular data as\n",
    "a colour-encoded matrix) for comparison of top 10 years in\n",
    "which (UFO ) was sighted VS each Month.\n"
   ]
  },
  {
   "cell_type": "code",
   "execution_count": null,
   "metadata": {},
   "outputs": [],
   "source": [
    "df=pd.read_csv(r'C:/Users/jenajyo/Downloads/ufo.csv')\n",
    "df['datetime'] = df['datetime'].astype('datetime64[ns]')\n",
    "most_sightings_years = df['datetime'].dt.year.value_counts().head(10)\n",
    "def is_top_years(year):\n",
    "    if year in most_sightings_years.index:\n",
    "        return year\n",
    "month_vs_year = df.pivot_table(columns=df['datetime'].dt.month,index=df['datetime'].dt.year.apply(is_top_years),aggfunc='count',values='city')\n",
    "month_vs_year.columns = month_vs_year.columns.astype(int)\n",
    "print(\"\\nHeatmap for comparison of the top 10 years in which the UFO was sighted vs each month:\")\n",
    "plt.figure(figsize=(10,8))\n",
    "ax = sns.heatmap(month_vs_year, vmin=0, vmax=4)\n",
    "ax.set_xlabel('Month').set_size(20)\n",
    "ax.set_ylabel('Year').set_size(20)"
   ]
  },
  {
   "cell_type": "markdown",
   "metadata": {},
   "source": [
    "Q140. Write a pandas program to create a Timewheel of Hour VS Year\n",
    "comparison of the top 10 years in which the (UFO) was sighted."
   ]
  },
  {
   "cell_type": "markdown",
   "metadata": {},
   "source": [
    "Q141. Write a python program to draw the line using given axis values\n",
    "with the suitable label in the x-axis, y-axis, and a title."
   ]
  },
  {
   "cell_type": "code",
   "execution_count": 340,
   "metadata": {},
   "outputs": [
    {
     "data": {
      "image/png": "[encoded data removed]",
      "text/plain": [
       "<Figure size 432x288 with 1 Axes>"
      ]
     },
     "metadata": {},
     "output_type": "display_data"
    }
   ],
   "source": [
    "import matplotlib.pyplot as plt\n",
    "X = range(1, 50)\n",
    "Y = [value * 3 for value in X]\n",
    "# Plot lines and/or markers to the Axes.\n",
    "plt.plot(X, Y)\n",
    "# Set the x axis label of the current axis.\n",
    "plt.xlabel('x - axis')\n",
    "# Set the y axis label of the current axis.\n",
    "plt.ylabel('y - axis')\n",
    "# Set a title \n",
    "plt.title('Draw a line.')\n",
    "# Display the figure.\n",
    "plt.show()"
   ]
  },
  {
   "cell_type": "markdown",
   "metadata": {},
   "source": [
    "Q142. Write a python program to draw the line charts of the financial\n",
    "data of the Alphabet Inc., between October.\n"
   ]
  },
  {
   "cell_type": "code",
   "execution_count": null,
   "metadata": {},
   "outputs": [],
   "source": [
    "import matplotlib.pyplot as plt\n",
    "import pandas as pd\n",
    "df = pd.read_csv('fdata.csv', sep=',', parse_dates=True, index_col=0)\n",
    "df.plot()\n",
    "plt.show()"
   ]
  },
  {
   "cell_type": "markdown",
   "metadata": {},
   "source": [
    "Q143.Q143. Write a Python program to plot two or more lines on same plot\n",
    "with the suitable legends of each line.\n"
   ]
  },
  {
   "cell_type": "code",
   "execution_count": 341,
   "metadata": {},
   "outputs": [
    {
     "data": {
      "image/png": "[encoded data removed]",
      "text/plain": [
       "<Figure size 432x288 with 1 Axes>"
      ]
     },
     "metadata": {},
     "output_type": "display_data"
    }
   ],
   "source": [
    "import matplotlib.pyplot as plt\n",
    "# line 1 points\n",
    "x1 = [10,20,30]\n",
    "y1 = [20,40,10]\n",
    "# plotting the line 1 points \n",
    "plt.plot(x1, y1, label = \"line 1\")\n",
    "# line 2 points\n",
    "x2 = [10,20,30]\n",
    "y2 = [40,10,30]\n",
    "# plotting the line 2 points \n",
    "plt.plot(x2, y2, label = \"line 2\")\n",
    "plt.xlabel('x - axis')\n",
    "# Set the y axis label of the current axis.\n",
    "plt.ylabel('y - axis')\n",
    "# Set a title of the current axes.\n",
    "plt.title('Two or more lines on same plot with suitable legends ')\n",
    "# show a legend on the plot\n",
    "plt.legend()\n",
    "# Display a figure.\n",
    "plt.show()"
   ]
  },
  {
   "cell_type": "code",
   "execution_count": null,
   "metadata": {},
   "outputs": [],
   "source": [
    "Q144. Write a python programming to display a bar chart of the\n",
    "popularity of programming languages."
   ]
  },
  {
   "cell_type": "code",
   "execution_count": null,
   "metadata": {},
   "outputs": [],
   "source": [
    "import matplotlib.pyplot as plt\n",
    "x = ['Java', 'Python', 'PHP', 'JavaScript', 'C#', 'C++']\n",
    "popularity = [22.2, 17.6, 8.8, 8, 7.7, 6.7]\n",
    "x_pos = [i for i, _ in enumerate(x)]\n",
    "plt.bar(x_pos, popularity, color='blue')\n",
    "plt.xlabel(\"Languages\")\n",
    "plt.ylabel(\"Popularity\")\n",
    "plt.title(\"PopularitY of Programming Language\\n\" + \"Worldwide, Oct 2017 compared to a year ago\")\n",
    "plt.xticks(x_pos, x)\n",
    "# Turn on the grid\n",
    "plt.minorticks_on()\n",
    "plt.grid(which='major', linestyle='-', linewidth='0.5', color='red')\n",
    "# Customize the minor grid\n",
    "plt.grid(which='minor', linestyle=':', linewidth='0.5', color='black')\n",
    "plt.show()"
   ]
  },
  {
   "cell_type": "markdown",
   "metadata": {},
   "source": [
    "Q145. Write a python programming to display a horizontal bar chart of\n",
    "the popularity of programming languages.\n"
   ]
  },
  {
   "cell_type": "code",
   "execution_count": null,
   "metadata": {},
   "outputs": [],
   "source": [
    "import matplotlib.pyplot as plt\n",
    "x = ['Java', 'Python', 'PHP', 'JS', 'C#', 'C++']\n",
    "popularity = [22.2, 17.6, 8.8, 8, 7.7, 6.7]\n",
    "x_pos = [i for i, _ in enumerate(x)]\n",
    "plt.barh(x_pos, popularity, color='green')\n",
    "plt.xlabel(\"Popularity\")\n",
    "plt.ylabel(\"Languages\")\n",
    "plt.title(\"PopularitY of Programming Language\\n\" + \"Worldwide, Oct 2017 compared to a year ago\")\n",
    "plt.yticks(x_pos, x)\n",
    "# Turn on the grid\n",
    "plt.minorticks_on()\n",
    "plt.grid(which='major', linestyle='-', linewidth='0.5', color='red')\n",
    "# Customize the minor grid\n",
    "plt.grid(which='minor', linestyle=':', linewidth='0.5', color='black')\n",
    "plt.show()"
   ]
  },
  {
   "cell_type": "code",
   "execution_count": null,
   "metadata": {},
   "outputs": [],
   "source": [
    "Q146. Write a python programming to display a bar chart of the\n",
    "Popularity of programming languages. Increase bottom margin.\n"
   ]
  },
  {
   "cell_type": "code",
   "execution_count": null,
   "metadata": {},
   "outputs": [],
   "source": [
    "import matplotlib.pyplot as plt\n",
    "x = ['Java', 'Python', 'PHP', 'JavaScript', 'C#', 'C++']\n",
    "popularity = [22.2, 17.6, 8.8, 8, 7.7, 6.7]\n",
    "x_pos = [i for i, _ in enumerate(x)]\n",
    "plt.bar(x_pos, popularity, color=(0.4, 0.6, 0.8, 1.0))\n",
    "plt.xlabel(\"Languages\")\n",
    "plt.ylabel(\"Popularity\")\n",
    "plt.title(\"PopularitY of Programming Language\\n\" + \"Worldwide, Oct 2017 compared to a year ago\")\n",
    "# Rotation of the bars names\n",
    "plt.xticks(x_pos, x, rotation=90)\n",
    "# Custom the subplot layout\n",
    "plt.subplots_adjust(bottom=0.4, top=.8)\n",
    "# Turn on the grid\n",
    "plt.minorticks_on()\n",
    "plt.grid(which='major', linestyle='-', linewidth='0.5', color='red')\n",
    "# Customize the minor grid\n",
    "plt.grid(which='minor', linestyle=':', linewidth='0.5', color='black')\n",
    "plt.show()"
   ]
  },
  {
   "cell_type": "markdown",
   "metadata": {},
   "source": [
    "Q147. Write a python program to create the bar plot from a DataFrame."
   ]
  },
  {
   "cell_type": "code",
   "execution_count": null,
   "metadata": {},
   "outputs": [],
   "source": [
    "from pandas import DataFrame\n",
    "import matplotlib.pyplot as plt\n",
    "import numpy as np\n",
    "\n",
    "a=np.array([[4,8,5,7,6],[2,3,4,2,6],[4,7,4,7,8],[2,6,4,8,6],[2,4,3,3,2]])\n",
    "df=DataFrame(a, columns=['a','b','c','d','e'], index=[2,4,6,8,10])\n",
    "\n",
    "df.plot(kind='bar')\n",
    "# Turn on the grid\n",
    "plt.minorticks_on()\n",
    "plt.grid(which='major', linestyle='-', linewidth='0.5', color='green')\n",
    "plt.grid(which='minor', linestyle=':', linewidth='0.5', color='black')\n",
    "\n",
    "plt.show()"
   ]
  },
  {
   "cell_type": "code",
   "execution_count": null,
   "metadata": {},
   "outputs": [],
   "source": [
    "Q148. Write a python program to draw the scatter plot comparing two\n",
    "subject marks of Mathematics and Science. Use marks of 10 students."
   ]
  },
  {
   "cell_type": "code",
   "execution_count": null,
   "metadata": {},
   "outputs": [],
   "source": [
    "import matplotlib.pyplot as plt\n",
    "import pandas as pd\n",
    "math_marks = [88, 92, 80, 89, 100, 80, 60, 100, 80, 34]\n",
    "science_marks = [35, 79, 79, 48, 100, 88, 32, 45, 20, 30]\n",
    "marks_range = [10, 20, 30, 40, 50, 60, 70, 80, 90, 100]\n",
    "plt.scatter(marks_range, math_marks, label='Math marks', color='r')\n",
    "plt.scatter(marks_range, science_marks, label='Science marks', color='g')\n",
    "plt.title('Scatter Plot')\n",
    "plt.xlabel('Marks Range')\n",
    "plt.ylabel('Marks Scored')\n",
    "plt.legend()\n",
    "plt.show()"
   ]
  },
  {
   "cell_type": "code",
   "execution_count": null,
   "metadata": {},
   "outputs": [],
   "source": [
    "Q149. Write a python program to draw the scatter plot for three different\n",
    "groups comparing weights and heights."
   ]
  },
  {
   "cell_type": "code",
   "execution_count": null,
   "metadata": {},
   "outputs": [],
   "source": [
    "import matplotlib.pyplot as plt\n",
    "import numpy as np \n",
    "weight1=[67,57.2,59.6,59.64,55.8,61.2,60.45,61,56.23,56]\n",
    "height1=[101.7,197.6,98.3,125.1,113.7,157.7,136,148.9,125.3,114.9] \n",
    "weight2=[61.9,64,62.1,64.2,62.3,65.4,62.4,61.4,62.5,63.6]\n",
    "height2=[152.8,155.3,135.1,125.2,151.3,135,182.2,195.9,165.1,125.1] \n",
    "weight3=[68.2,67.2,68.4,68.7,71,71.3,70.8,70,71.1,71.7]\n",
    "height3=[165.8,170.9,192.8,135.4,161.4,136.1,167.1,235.1,181.1,177.3]\n",
    "weight=np.concatenate((weight1,weight2,weight3))\n",
    "height=np.concatenate((height1,height2,height3))\n",
    "plt.scatter(weight, height, marker='*', color=['red','green','blue'])\n",
    "plt.xlabel('weight', fontsize=16)\n",
    "plt.ylabel('height', fontsize=16)\n",
    "plt.title('Group wise Weight vs Height scatter plot',fontsize=20)\n",
    "plt.show()"
   ]
  },
  {
   "cell_type": "code",
   "execution_count": null,
   "metadata": {},
   "outputs": [],
   "source": [
    "150. Write a python program to draw a scatter plot to find sea-level\n",
    "rise in past 100 years.\n"
   ]
  },
  {
   "cell_type": "code",
   "execution_count": 345,
   "metadata": {},
   "outputs": [
    {
     "data": {
      "image/png": "[encoded data removed]",
      "text/plain": [
       "<Figure size 432x288 with 1 Axes>"
      ]
     },
     "metadata": {},
     "output_type": "display_data"
    }
   ],
   "source": [
    "import matplotlib.pyplot as plt\n",
    "import pandas as pd\n",
    "data = pd.read_csv('https://raw.githubusercontent.com/datasets/sea-level-rise/master/data/epa-sea-level.csv')\n",
    "year = data['Year']\n",
    "sea_levels = data['CSIRO Adjusted Sea Level']\n",
    "plt.scatter(year, sea_levels, edgecolors='g')\n",
    "plt.xlabel('Year')\n",
    "plt.ylabel('Sea Level (inches)')\n",
    "plt.title('Rise in Sealevel')\n",
    "plt.show()"
   ]
  },
  {
   "cell_type": "code",
   "execution_count": null,
   "metadata": {},
   "outputs": [],
   "source": []
  },
  {
   "cell_type": "code",
   "execution_count": null,
   "metadata": {},
   "outputs": [],
   "source": []
  },
  {
   "cell_type": "code",
   "execution_count": null,
   "metadata": {},
   "outputs": [],
   "source": []
  },
  {
   "cell_type": "code",
   "execution_count": null,
   "metadata": {},
   "outputs": [],
   "source": []
  },
  {
   "cell_type": "code",
   "execution_count": null,
   "metadata": {},
   "outputs": [],
   "source": []
  },
  {
   "cell_type": "code",
   "execution_count": null,
   "metadata": {},
   "outputs": [],
   "source": []
  },
  {
   "cell_type": "code",
   "execution_count": null,
   "metadata": {},
   "outputs": [],
   "source": []
  },
  {
   "cell_type": "code",
   "execution_count": null,
   "metadata": {},
   "outputs": [],
   "source": []
  },
  {
   "cell_type": "code",
   "execution_count": null,
   "metadata": {},
   "outputs": [],
   "source": []
  },
  {
   "cell_type": "code",
   "execution_count": null,
   "metadata": {},
   "outputs": [],
   "source": []
  },
  {
   "cell_type": "code",
   "execution_count": null,
   "metadata": {},
   "outputs": [],
   "source": []
  },
  {
   "cell_type": "code",
   "execution_count": null,
   "metadata": {},
   "outputs": [],
   "source": []
  },
  {
   "cell_type": "code",
   "execution_count": null,
   "metadata": {},
   "outputs": [],
   "source": []
  },
  {
   "cell_type": "code",
   "execution_count": null,
   "metadata": {},
   "outputs": [],
   "source": []
  },
  {
   "cell_type": "code",
   "execution_count": null,
   "metadata": {},
   "outputs": [],
   "source": []
  },
  {
   "cell_type": "code",
   "execution_count": null,
   "metadata": {},
   "outputs": [],
   "source": []
  },
  {
   "cell_type": "code",
   "execution_count": null,
   "metadata": {},
   "outputs": [],
   "source": []
  },
  {
   "cell_type": "code",
   "execution_count": null,
   "metadata": {},
   "outputs": [],
   "source": []
  },
  {
   "cell_type": "code",
   "execution_count": null,
   "metadata": {},
   "outputs": [],
   "source": []
  },
  {
   "cell_type": "code",
   "execution_count": null,
   "metadata": {},
   "outputs": [],
   "source": []
  },
  {
   "cell_type": "code",
   "execution_count": null,
   "metadata": {},
   "outputs": [],
   "source": []
  },
  {
   "cell_type": "code",
   "execution_count": null,
   "metadata": {},
   "outputs": [],
   "source": []
  }
 ],
 "metadata": {
  "kernelspec": {
   "display_name": "Python 3",
   "language": "python",
   "name": "python3"
  },
  "language_info": {
   "codemirror_mode": {
    "name": "ipython",
    "version": 3
   },
   "file_extension": ".py",
   "mimetype": "text/x-python",
   "name": "python",
   "nbconvert_exporter": "python",
   "pygments_lexer": "ipython3",
   "version": "3.6.5"
  }
 },
 "nbformat": 4,
 "nbformat_minor": 2
}
